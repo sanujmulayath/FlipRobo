{
 "cells": [
  {
   "cell_type": "code",
   "execution_count": 1,
   "id": "vietnamese-version",
   "metadata": {},
   "outputs": [],
   "source": [
    "import selenium\n",
    "import pandas as pd\n",
    "import time\n",
    "from selenium import webdriver\n",
    "from selenium.common.exceptions import NoSuchElementException"
   ]
  },
  {
   "cell_type": "code",
   "execution_count": 137,
   "id": "major-senator",
   "metadata": {},
   "outputs": [],
   "source": [
    "driver = webdriver.Chrome('E:\\Data trained\\DataTrained_internship\\Data Scraping_selenium\\chromedriver')"
   ]
  },
  {
   "cell_type": "code",
   "execution_count": 138,
   "id": "agreed-mayor",
   "metadata": {},
   "outputs": [],
   "source": [
    "driver.get('https://www.naukri.com/')\n",
    "time.sleep(5)"
   ]
  },
  {
   "cell_type": "code",
   "execution_count": 139,
   "id": "above-belly",
   "metadata": {},
   "outputs": [],
   "source": [
    "jobsearch=driver.find_element_by_id('qsb-keyword-sugg')\n",
    "joblocation=driver.find_element_by_id('qsb-location-sugg')\n"
   ]
  },
  {
   "cell_type": "code",
   "execution_count": 140,
   "id": "environmental-valve",
   "metadata": {},
   "outputs": [],
   "source": [
    "jobsearch.send_keys('Data Analyst')\n",
    "joblocation.send_keys('Bangalore')"
   ]
  },
  {
   "cell_type": "code",
   "execution_count": 141,
   "id": "living-sheet",
   "metadata": {},
   "outputs": [],
   "source": [
    "search_button = driver.find_element_by_xpath(\"//button[@class = 'btn']\")\n",
    "search_button.click()"
   ]
  },
  {
   "cell_type": "markdown",
   "id": "individual-selection",
   "metadata": {},
   "source": [
    "Creating an empty list for job titles."
   ]
  },
  {
   "cell_type": "code",
   "execution_count": 142,
   "id": "liquid-banks",
   "metadata": {},
   "outputs": [
    {
     "data": {
      "text/plain": [
       "[<selenium.webdriver.remote.webelement.WebElement (session=\"6283f55cb0cec9c4922e8ac28fa44bd3\", element=\"f520c1e2-805e-4458-aa63-5183d186bdde\")>,\n",
       " <selenium.webdriver.remote.webelement.WebElement (session=\"6283f55cb0cec9c4922e8ac28fa44bd3\", element=\"54dab105-43e5-46e8-b62e-329bfcfc3ef1\")>,\n",
       " <selenium.webdriver.remote.webelement.WebElement (session=\"6283f55cb0cec9c4922e8ac28fa44bd3\", element=\"685b9a87-069d-4d76-947d-720eb9f92188\")>,\n",
       " <selenium.webdriver.remote.webelement.WebElement (session=\"6283f55cb0cec9c4922e8ac28fa44bd3\", element=\"ff445e53-8a94-439f-b421-4c53f0bba291\")>,\n",
       " <selenium.webdriver.remote.webelement.WebElement (session=\"6283f55cb0cec9c4922e8ac28fa44bd3\", element=\"a7964e72-b572-404f-9af9-fa478f32e1dd\")>,\n",
       " <selenium.webdriver.remote.webelement.WebElement (session=\"6283f55cb0cec9c4922e8ac28fa44bd3\", element=\"36a58c5d-0a5c-487b-af09-d43c8ea6bff6\")>,\n",
       " <selenium.webdriver.remote.webelement.WebElement (session=\"6283f55cb0cec9c4922e8ac28fa44bd3\", element=\"123d40f2-900f-422e-aad8-66d70ca2105c\")>,\n",
       " <selenium.webdriver.remote.webelement.WebElement (session=\"6283f55cb0cec9c4922e8ac28fa44bd3\", element=\"06ee2eaf-eff0-4c99-b07d-52b389d3e0e4\")>,\n",
       " <selenium.webdriver.remote.webelement.WebElement (session=\"6283f55cb0cec9c4922e8ac28fa44bd3\", element=\"1f44cba3-145a-4e20-8b37-be4aa0d95bc5\")>,\n",
       " <selenium.webdriver.remote.webelement.WebElement (session=\"6283f55cb0cec9c4922e8ac28fa44bd3\", element=\"f8d04f8e-0883-4b25-bd1c-7509a702de61\")>,\n",
       " <selenium.webdriver.remote.webelement.WebElement (session=\"6283f55cb0cec9c4922e8ac28fa44bd3\", element=\"4f72bf8b-4e98-4315-b3fa-11a3287b42a5\")>,\n",
       " <selenium.webdriver.remote.webelement.WebElement (session=\"6283f55cb0cec9c4922e8ac28fa44bd3\", element=\"4f249484-7f7a-4849-86fb-4447ad1dc2c5\")>,\n",
       " <selenium.webdriver.remote.webelement.WebElement (session=\"6283f55cb0cec9c4922e8ac28fa44bd3\", element=\"45775c0d-f582-4913-8d24-bcf5e31242e7\")>,\n",
       " <selenium.webdriver.remote.webelement.WebElement (session=\"6283f55cb0cec9c4922e8ac28fa44bd3\", element=\"aa7eed88-298a-45e5-8f30-f98fe6c07ab3\")>,\n",
       " <selenium.webdriver.remote.webelement.WebElement (session=\"6283f55cb0cec9c4922e8ac28fa44bd3\", element=\"5e261508-5108-400f-99e1-072f53e3e5bb\")>,\n",
       " <selenium.webdriver.remote.webelement.WebElement (session=\"6283f55cb0cec9c4922e8ac28fa44bd3\", element=\"6b0d46ef-6024-4746-b542-1ab0a8a162e5\")>,\n",
       " <selenium.webdriver.remote.webelement.WebElement (session=\"6283f55cb0cec9c4922e8ac28fa44bd3\", element=\"a08b90b1-2e2b-4316-931c-e8b40168bc14\")>,\n",
       " <selenium.webdriver.remote.webelement.WebElement (session=\"6283f55cb0cec9c4922e8ac28fa44bd3\", element=\"bbdfd066-57ed-4bd0-b620-ee658caa2f33\")>,\n",
       " <selenium.webdriver.remote.webelement.WebElement (session=\"6283f55cb0cec9c4922e8ac28fa44bd3\", element=\"2b55375b-8133-4873-8f4d-de7bf0c2b5f5\")>,\n",
       " <selenium.webdriver.remote.webelement.WebElement (session=\"6283f55cb0cec9c4922e8ac28fa44bd3\", element=\"df9ecda2-ab0d-4730-8da4-b8367c7b8f56\")>]"
      ]
     },
     "execution_count": 142,
     "metadata": {},
     "output_type": "execute_result"
    }
   ],
   "source": [
    "Jobtitle=[]\n",
    "job=driver.find_elements_by_xpath(\"//a[@class='title fw500 ellipsis']\")\n",
    "job"
   ]
  },
  {
   "cell_type": "code",
   "execution_count": 143,
   "id": "pleasant-insurance",
   "metadata": {},
   "outputs": [
    {
     "data": {
      "text/plain": [
       "['Data Scientist / Data Analyst -Business Analyst',\n",
       " 'Hiring Data Analysts For E commerce Platform || WFH',\n",
       " 'Assistant Vice President - MIS & Reporting ( Business Data Analyst)',\n",
       " 'Data Analyst',\n",
       " 'Hiring For Data Analyst/ MIS Reporting Analyst - Bangalore',\n",
       " 'DA - Urgent Opening For Data Analyst BFSI Domain - Pan India',\n",
       " 'Data Analyst - Informatica MDM',\n",
       " 'Data Analyst',\n",
       " 'Data Analyst',\n",
       " 'Data Analyst',\n",
       " 'Data Analyst',\n",
       " 'Data Analyst',\n",
       " 'Data Analyst',\n",
       " 'Senior/Regular Business Analyst / Data Analyst',\n",
       " 'Data Analyst',\n",
       " 'Business Data Analyst - MIS & Reporting',\n",
       " 'Data Analyst / Business Analyst -',\n",
       " 'Data Analyst',\n",
       " 'Associate - Data Analyst ( Growth)',\n",
       " 'Data Analyst']"
      ]
     },
     "execution_count": 143,
     "metadata": {},
     "output_type": "execute_result"
    }
   ],
   "source": [
    "for i in job:\n",
    "    Jobtitle.append(i.text)\n",
    "Jobtitle"
   ]
  },
  {
   "cell_type": "code",
   "execution_count": 144,
   "id": "adaptive-democrat",
   "metadata": {},
   "outputs": [
    {
     "data": {
      "text/html": [
       "<div>\n",
       "<style scoped>\n",
       "    .dataframe tbody tr th:only-of-type {\n",
       "        vertical-align: middle;\n",
       "    }\n",
       "\n",
       "    .dataframe tbody tr th {\n",
       "        vertical-align: top;\n",
       "    }\n",
       "\n",
       "    .dataframe thead th {\n",
       "        text-align: right;\n",
       "    }\n",
       "</style>\n",
       "<table border=\"1\" class=\"dataframe\">\n",
       "  <thead>\n",
       "    <tr style=\"text-align: right;\">\n",
       "      <th></th>\n",
       "      <th>Title</th>\n",
       "    </tr>\n",
       "  </thead>\n",
       "  <tbody>\n",
       "    <tr>\n",
       "      <th>0</th>\n",
       "      <td>Data Scientist / Data Analyst -Business Analyst</td>\n",
       "    </tr>\n",
       "    <tr>\n",
       "      <th>1</th>\n",
       "      <td>Hiring Data Analysts For E commerce Platform |...</td>\n",
       "    </tr>\n",
       "    <tr>\n",
       "      <th>2</th>\n",
       "      <td>Assistant Vice President - MIS &amp; Reporting ( B...</td>\n",
       "    </tr>\n",
       "    <tr>\n",
       "      <th>3</th>\n",
       "      <td>Data Analyst</td>\n",
       "    </tr>\n",
       "    <tr>\n",
       "      <th>4</th>\n",
       "      <td>Hiring For Data Analyst/ MIS Reporting Analyst...</td>\n",
       "    </tr>\n",
       "    <tr>\n",
       "      <th>5</th>\n",
       "      <td>DA - Urgent Opening For Data Analyst BFSI Doma...</td>\n",
       "    </tr>\n",
       "    <tr>\n",
       "      <th>6</th>\n",
       "      <td>Data Analyst - Informatica MDM</td>\n",
       "    </tr>\n",
       "    <tr>\n",
       "      <th>7</th>\n",
       "      <td>Data Analyst</td>\n",
       "    </tr>\n",
       "    <tr>\n",
       "      <th>8</th>\n",
       "      <td>Data Analyst</td>\n",
       "    </tr>\n",
       "    <tr>\n",
       "      <th>9</th>\n",
       "      <td>Data Analyst</td>\n",
       "    </tr>\n",
       "    <tr>\n",
       "      <th>10</th>\n",
       "      <td>Data Analyst</td>\n",
       "    </tr>\n",
       "    <tr>\n",
       "      <th>11</th>\n",
       "      <td>Data Analyst</td>\n",
       "    </tr>\n",
       "    <tr>\n",
       "      <th>12</th>\n",
       "      <td>Data Analyst</td>\n",
       "    </tr>\n",
       "    <tr>\n",
       "      <th>13</th>\n",
       "      <td>Senior/Regular Business Analyst / Data Analyst</td>\n",
       "    </tr>\n",
       "    <tr>\n",
       "      <th>14</th>\n",
       "      <td>Data Analyst</td>\n",
       "    </tr>\n",
       "    <tr>\n",
       "      <th>15</th>\n",
       "      <td>Business Data Analyst - MIS &amp; Reporting</td>\n",
       "    </tr>\n",
       "    <tr>\n",
       "      <th>16</th>\n",
       "      <td>Data Analyst / Business Analyst -</td>\n",
       "    </tr>\n",
       "    <tr>\n",
       "      <th>17</th>\n",
       "      <td>Data Analyst</td>\n",
       "    </tr>\n",
       "    <tr>\n",
       "      <th>18</th>\n",
       "      <td>Associate - Data Analyst ( Growth)</td>\n",
       "    </tr>\n",
       "    <tr>\n",
       "      <th>19</th>\n",
       "      <td>Data Analyst</td>\n",
       "    </tr>\n",
       "  </tbody>\n",
       "</table>\n",
       "</div>"
      ],
      "text/plain": [
       "                                                Title\n",
       "0     Data Scientist / Data Analyst -Business Analyst\n",
       "1   Hiring Data Analysts For E commerce Platform |...\n",
       "2   Assistant Vice President - MIS & Reporting ( B...\n",
       "3                                        Data Analyst\n",
       "4   Hiring For Data Analyst/ MIS Reporting Analyst...\n",
       "5   DA - Urgent Opening For Data Analyst BFSI Doma...\n",
       "6                      Data Analyst - Informatica MDM\n",
       "7                                        Data Analyst\n",
       "8                                        Data Analyst\n",
       "9                                        Data Analyst\n",
       "10                                       Data Analyst\n",
       "11                                       Data Analyst\n",
       "12                                       Data Analyst\n",
       "13     Senior/Regular Business Analyst / Data Analyst\n",
       "14                                       Data Analyst\n",
       "15            Business Data Analyst - MIS & Reporting\n",
       "16                  Data Analyst / Business Analyst -\n",
       "17                                       Data Analyst\n",
       "18                 Associate - Data Analyst ( Growth)\n",
       "19                                       Data Analyst"
      ]
     },
     "execution_count": 144,
     "metadata": {},
     "output_type": "execute_result"
    }
   ],
   "source": [
    "Job=pd.DataFrame({})\n",
    "Job['Title']=Jobtitle\n",
    "Job"
   ]
  },
  {
   "cell_type": "markdown",
   "id": "exempt-specific",
   "metadata": {},
   "source": [
    "x.x.x.x.x.x.x..x.x.x.x.x.x.x..x.x.x.xx.x.x.x.xx.x.x...............................x.x.x.x.x.x.x.xx.x.x.x.x.x.x.x.x.x.x.x.xx.x..x"
   ]
  },
  {
   "cell_type": "markdown",
   "id": "material-textbook",
   "metadata": {},
   "source": [
    "Question 2:"
   ]
  },
  {
   "cell_type": "code",
   "execution_count": 51,
   "id": "intellectual-favorite",
   "metadata": {},
   "outputs": [],
   "source": [
    "driver = webdriver.Chrome('E:\\Data trained\\DataTrained_internship\\Data Scraping_selenium\\chromedriver')\n",
    "driver.get('https://www.naukri.com/data-scientist-jobs-in-bangalore?k=data%20scientist&l=bangalore')"
   ]
  },
  {
   "cell_type": "markdown",
   "id": "literary-neighborhood",
   "metadata": {},
   "source": [
    "Fetching the URLs of the data"
   ]
  },
  {
   "cell_type": "code",
   "execution_count": 52,
   "id": "distinguished-wilderness",
   "metadata": {},
   "outputs": [
    {
     "data": {
      "text/plain": [
       "['https://www.naukri.com/job-listings-data-scientist-data-analyst-business-analyst-inflexion-analytix-private-limited-mumbai-hyderabad-secunderabad-pune-gurgaon-gurugram-chennai-bangalore-bengaluru-0-to-3-years-100521000368?src=jobsearchDesk&sid=16212400477966212&xp=1&px=1',\n",
       " 'https://www.naukri.com/job-listings-senior-data-scientist-modeling-nielsen-kolkata-gurgaon-gurugram-bangalore-bengaluru-vadodara-baroda-mumbai-all-areas-3-to-7-years-280421003878?src=jobsearchDesk&sid=16212400477966212&xp=2&px=1',\n",
       " 'https://www.naukri.com/job-listings-data-scientist-ibm-garage-ibm-india-pvt-limited-noida-hyderabad-secunderabad-bangalore-bengaluru-5-to-8-years-040521900448?src=jobsearchDesk&sid=16212400477966212&xp=3&px=1',\n",
       " 'https://www.naukri.com/job-listings-data-scientist-ibm-india-pvt-limited-noida-hyderabad-secunderabad-bangalore-bengaluru-5-to-8-years-030521900421?src=jobsearchDesk&sid=16212400477966212&xp=4&px=1',\n",
       " 'https://www.naukri.com/job-listings-senior-data-scientist-credit-risk-scienaptic-systems-bangalore-bengaluru-5-to-10-years-030521500996?src=jobsearchDesk&sid=16212400477966212&xp=5&px=1',\n",
       " 'https://www.naukri.com/job-listings-big-data-data-scientist-xoriant-solutions-pvt-ltd-kochi-cochin-indore-hyderabad-secunderabad-pune-ahmedabad-bangalore-bengaluru-mumbai-all-areas-1-to-3-years-130521005018?src=jobsearchDesk&sid=16212400477966212&xp=6&px=1',\n",
       " 'https://www.naukri.com/job-listings-data-scientist-ibm-india-pvt-limited-bangalore-bengaluru-6-to-8-years-110521907352?src=jobsearchDesk&sid=16212400477966212&xp=7&px=1',\n",
       " 'https://www.naukri.com/job-listings-lead-data-scientist-intel-technology-india-pvt-ltd-bangalore-bengaluru-6-to-10-years-070521500578?src=jobsearchDesk&sid=16212400477966212&xp=8&px=1',\n",
       " 'https://www.naukri.com/job-listings-senior-data-scientist-chatbot-nlp-gojek-tech-bangalore-bengaluru-3-to-7-years-060521500524?src=jobsearchDesk&sid=16212400477966212&xp=9&px=1',\n",
       " 'https://www.naukri.com/job-listings-senior-data-scientist-chatbot-nlp-go-jek-india-bangalore-bengaluru-5-to-10-years-050521500478?src=jobsearchDesk&sid=16212400477966212&xp=10&px=1',\n",
       " 'https://www.naukri.com/job-listings-senior-data-scientist-kinara-financial-private-limited-bangalore-bengaluru-5-to-10-years-100521500393?src=jobsearchDesk&sid=16212400477966212&xp=11&px=1',\n",
       " 'https://www.naukri.com/job-listings-senior-data-scientist-kinara-capital-kinara-financial-private-limited-bangalore-bengaluru-5-to-10-years-060521500976?src=jobsearchDesk&sid=16212400477966212&xp=12&px=1',\n",
       " 'https://www.naukri.com/job-listings-senior-data-scientist-marketing-analytics-hudsons-bay-company-bangalore-bengaluru-2-to-4-years-140521501771?src=jobsearchDesk&sid=16212400477966212&xp=13&px=1',\n",
       " 'https://www.naukri.com/job-listings-data-scientist-applied-materials-india-private-limited-bangalore-bengaluru-2-to-4-years-070521901521?src=jobsearchDesk&sid=16212400477966212&xp=14&px=1',\n",
       " 'https://www.naukri.com/job-listings-hiring-for-lead-data-scientist-for-bangalore-location-societe-generale-global-solution-centre-pvt-ltd-bangalore-bengaluru-5-to-9-years-130521000901?src=jobsearchDesk&sid=16212400477966212&xp=15&px=1',\n",
       " 'https://www.naukri.com/job-listings-principal-data-scientist-netapp-india-private-limited-bangalore-bengaluru-10-to-15-years-070521906988?src=jobsearchDesk&sid=16212400477966212&xp=16&px=1',\n",
       " 'https://www.naukri.com/job-listings-lead-data-scientist-sr-data-scientist-bditdomain-hyderabad-secunderabad-bangalore-bengaluru-mumbai-all-areas-8-to-10-years-030521004696?src=jobsearchDesk&sid=16212400477966212&xp=17&px=1',\n",
       " 'https://www.naukri.com/job-listings-data-scientist-techknowledgey-pte-ltd-bangalore-bengaluru-0-to-2-years-070521003138?src=jobsearchDesk&sid=16212400477966212&xp=18&px=1',\n",
       " 'https://www.naukri.com/job-listings-associate-data-scientist-idfc-first-bank-mumbai-bangalore-bengaluru-mumbai-3-to-7-years-110521904730?src=jobsearchDesk&sid=16212400477966212&xp=19&px=1',\n",
       " 'https://www.naukri.com/job-listings-data-scientist-high-growth-vc-backed-influencer-marketplace-ravgins-international-pvt-ltd-bangalore-bengaluru-delhi-ncr-mumbai-all-areas-3-to-5-years-140521002611?src=jobsearchDesk&sid=16212400477966212&xp=20&px=1']"
      ]
     },
     "execution_count": 52,
     "metadata": {},
     "output_type": "execute_result"
    }
   ],
   "source": [
    "urls=[]\n",
    "for i in driver.find_elements_by_xpath(\"//a[@class='title fw500 ellipsis']\"):\n",
    "    urls.append(i.get_attribute('href'))\n",
    "urls"
   ]
  },
  {
   "cell_type": "code",
   "execution_count": 57,
   "id": "durable-identification",
   "metadata": {},
   "outputs": [],
   "source": [
    "jobt=[]\n",
    "jobdesc=[]\n",
    "for i in urls[:10]:\n",
    "    driver.get(i)\n",
    "    time.sleep(3)\n",
    "    try:\n",
    "        job=driver.find_element_by_xpath(\"//h1[@class='jd-header-title']\")\n",
    "        jobt.append(job.text)\n",
    "    except NoSuchElementException:\n",
    "        jobt.append('-')\n",
    "    \n",
    "    #job desc\n",
    "    try:\n",
    "        jobde=driver.find_element_by_xpath(\"//section[@class='job-desc']\")\n",
    "        jobdesc.append(jobde.text)\n",
    "\n",
    "    except NoSuchElementException:\n",
    "        jobdesc.append('-')"
   ]
  },
  {
   "cell_type": "code",
   "execution_count": 58,
   "id": "passing-moisture",
   "metadata": {},
   "outputs": [
    {
     "name": "stdout",
     "output_type": "stream",
     "text": [
      "10\n",
      "10\n"
     ]
    }
   ],
   "source": [
    "print(len(jobt))\n",
    "print(len(jobdesc))"
   ]
  },
  {
   "cell_type": "code",
   "execution_count": 59,
   "id": "operating-mechanics",
   "metadata": {},
   "outputs": [
    {
     "data": {
      "text/plain": [
       "['Data Scientist / Data Analyst -Business Analyst',\n",
       " 'Senior Data Scientist, Modeling',\n",
       " '-',\n",
       " '-',\n",
       " 'Senior Data Scientist - Credit risk',\n",
       " '-',\n",
       " '-',\n",
       " 'Lead Data Scientist',\n",
       " 'Senior Data Scientist - Chatbot & NLP',\n",
       " 'Senior Data Scientist - Chatbot & NLP']"
      ]
     },
     "execution_count": 59,
     "metadata": {},
     "output_type": "execute_result"
    }
   ],
   "source": [
    "jobt"
   ]
  },
  {
   "cell_type": "code",
   "execution_count": 60,
   "id": "hairy-batman",
   "metadata": {},
   "outputs": [
    {
     "data": {
      "text/plain": [
       "[\"Job description\\nJob Role : Data Scientist/Data Analyst /Business Analyst\\n\\nLocation : Chennai/Bangalore/Hyderabad/Pune/Mumbai/Delhi\\n\\nGreetings from CAIA - Center for Artificial Intelligence & Advanced Analytics\\n43% of companies experienced a high deficit of skilled resources with Advanced Analytical skills and AI implementing capabilities in year 2020. CAIA gives you a great opportunity to enter the world of future technologies and Innovations- Data Science, Analytics, AI, Data Visualization and Cloud Computing.\\n\\nWhile 2020 was a year like no other, we are living in an interesting times where data is reshaping the world, and businesses are rapidly adopting technology to gain an edge over others. Hence, there's a substantial increase in demand for technology professionals who can implement systems in data science, machine learning and AI in Tier 1 and Tier 2 organization's working closely with us.\\n\\nTo help you build a sustainable career we would like you to utilize data, software and Analytical approaches in Data Science and AI to up skill and get recruited into an organization appreciating your skilling journey.\\nApplications invited from all Freshers and experienced candidates (0-3 yrs) aspiring to make a career in Artificial Intelligence and Advanced Analytics and Data Science.\\nIf you wish to make a shift in your career or undergo a career transition, upskilling is essential since it allows you to learn more about the domain and acquire the required skills.\\n\\nCall to schedule interview Monday -Saturday from 10:00 am to 7Pm\\n\\nManigandan -+91 7299917200\\n\\nEmail : manigandan@centerforaia.com\\n\\nWhat is needed from you?\\n\\nFreshers who wish to start their career in Analytics and AI and professionals who wish to\\nupskill or change their domain to analytics and emerging technologies are free to apply.\\nAn Educational background in any one of the following- BE/B.Tech, ME/M Tech, MSc, BSc/MSc Maths and Statistics, B Com, BCA, BSc CS, BSC IT, MSC IT, MCA\\nSkills relating to Mathematics/Statistics.\\nNatural passion towards numbers, business, coding, Analytics and Artificial Intelligence, Machine Learning, visualization\\nGood verbal and written communication skills\\nAbility to understand domains in businesses across various sectors\\n\\n\\nSelection procedure includes\\n\\nAptitude Test & Communication Exam - Online / Offline\\nSQL/Python test - Online / Offline\\n\\nCandidates who clears the above will have one-one discussion with our Career Guidance Manager for further evaluation and processing of your Resume.\\n\\n\\nAll the Shortlisted candidates will be eligible to continue the corporate training with CAIA\\nWhat you can expect from us?\\n\\nYou will get trained on the following modules for a period of 12-14 weeks:\\n\\nSQL & PLSQL\\nData Wrangling using Python\\nData Visualization Using Power-BI\\nStatistics for Machine Learning\\nArtificial Intelligence, Data Interpretation\\nSupervised & Unsupervised Learning,\\nNLP & Deep Learning\\nCloud Data Lake\\nBusiness intelligence & Data Visualization\\nSimulation Projects\\nExpected Outcome?\\n\\nAt the end of the Training you are expected to be well versed with the following:\\n\\nAnalysis of large and complex data sets from multiple sources\\nDevelopment and evaluation of data analytics models, algorithms and solutions\\nUnderstanding/implementation of ML algorithms, performance tuning and reporting\\nImplementation of algorithms to mine targeted data and the ability to convert data in to a business story\\nTranslation of business requirements into technical requirements; Data extraction, preparation and transformation\\nIdentification, development and implementation of statistical techniques and algorithms that address business challenges and adds value to the organization\\nRequirement Analysis and communication of findings in the form of a meaningful story with the stakeholders\\nFinding analytical solutions to abstract business issues.\\nApply objective analysis of facts before coming to a conclusion\\n\\nAbout CAIA - Inflexion Analytix Private Limited\\n\\nCenter for Artificial Intelligence and Advanced Analytics (Center for AIA) is the brainchild of experienced and visionary alumni of IIT Madras and Bombay.\\nDigital leaders - 5F World and Systech Solutions have joined hands to create a venture for architecting the future of society, workforce, governments and businesses. 5F World specializes in designing solutions around digital platforms and Systech Solutions has an expertise in architecting Artificial Intelligence and Advance Analytics solutions for Fortune 500 companies.\\nOur Website : http://www.centerforaia.com/\\n\\nhttps://inflexion-analytix-private-limited.business.site/?m=true\\n\\nCenter for Artificial Intelligence & Advanced Analytics (CAIA) focuses on the following:\\n\\n1. Global Research on emerging trends, technologies and applications in AI and Advanced Analytics\\n2. Advanced Training programs for readying the future ready workforce\\n3. Solutions to herald the futuristic lifestyle and workspaces in the field of AI and Data Science.\\nRoleData Analyst\\nIndustry TypeBPO / Call Centre\\nFunctional AreaAnalytics & Business Intelligence\\nEmployment TypeFull Time, Permanent\\nRole CategoryAnalytics & BI\\nEducation\\nUG :Any Graduate in Any Specialization\\nKey Skills\\nBusiness IntelligenceArtificial IntelligenceBig DataITMachine LearningStatisticsDeep LearningAnalyticsBusiness AnalysisSQLData ScienceNLPCloud ComputingData VisualizationSoftwareData WarehousingPython\",\n",
       " 'Job description\\nWe wont say we can predict the future, but our team of Analysts get pretty close, they turn millions of data points into useful information & insights that help our clients to make better decisions on their marketing mix and achieve superior results. Be part of the future and join in on one of the major transformations in the market research industry with the integration of big data and classic marketing mix analysis.\\n\\nResponsibilities:\\nDeliver as a part of our consultant team in driving high quality results on custom project work\\nEnsure effective and timely delivery of project work\\nWork towards understanding statistical models and deliver business insights and findings\\nEnsure compliance to Marketing Mix Modeling modeling practices and company quality standards\\nMaximize the efficient and effective use of resources by utilizing appropriate processes and tools\\nTo build and maintain effective contacts with other departments to ensure the efficient and effective use of resources\\nLiaise with appropriate Marketing Mix Modeling and Nielsen departments to ensure hardware and software requirements are fulfilled\\nWork with co/ third party modellers to deliver business insights and findings\\n\\nQualifications and Skills\\n2-5 years of relevant experience\\nMasters degree in Economics, Mathematics, Statistics, Engineering\\nIn-depth understanding of statistical modeling techniques and applications\\nGood and working knowledge of any statistical languages like SAS, R, Pythons\\nSolid proficiency of decision making and problem resolution skills\\nPassion for results with a challenger mindset\\n\\nAbout the Team:\\nGlobal Product, Technology & Operations supports Nielsen Medias growth strategy by enabling positive client and market solutions. Our Operations Team is in a unique position as the center of data collection, analysis and delivery. We deliver outcomes with the highest quality and integrity standards in an agile and transparent way while standing by our Nielsen values.\\n\\n\\nRoleBusiness Analyst\\nIndustry TypeAnalytics / KPO / Research\\nFunctional AreaStrategy, Management Consulting, Corporate Planning\\nEmployment TypeFull Time, Permanent\\nRole CategoryCorporate Planning/Consulting/Strategy\\nEducation\\nPG :MS/M.Sc(Science) in Statistics, Maths, M.A in Economics, MBA/PGDM in Any Specialization\\nKey Skills\\nPredictive ModelingSASSegmentationK-MeansStatisticsOptimizationRandom ForestRMarketing Mix ModelingLinear RegressionStatistical ModelingBusiness InsightsMarket Research',\n",
       " '-',\n",
       " '-',\n",
       " 'Job description\\n\\nResponsibilities and duties Focus on developing clear and concise analytical approach for problem solving with client partnership\\nStrong understanding of ML libraries and applications e.g. Neural Net, SVMs, boosting methods and implementation using R/Python. Should have academic paper level understanding of math e.g. linear algebra, calculus etc.\\nAbility to code on SAS/R for data munging, analysis and insights and/or languages like Python for creating efficient production ready code\\nManaging delivery of projects including timely communication, setting milestones and tracking Generating actionable insights for business/KPI improvements Ability to work independently, structure analyses and handle multiple priorities Develop and Maintaining Credit Risk Models Strategies Rich experience in at least one production ready deployment of Machine Learning algorithms is a plus. Experience in working on real life large messy dataset to solve real business problems. Kaggle experience is a plus.\\n  Skills Competencies: Experience in Financial Services/ Fintech/ BFSI along with Credit Risk in Retail Banking and Data Science 5 years of experience in building predictive models (Application Scorecard, Behaviour Scorecard, Collection Score Card, Loan Pricing, Loss Forecasting, Cross Sell Model) Experienced Statistical software skills (e.g. SAS, R, Python Strong understanding of ML libraries and applications. Strong experience in leading credit risk model development, validation, deployment, and documentation Analytically oriented with ability to grasp complex risk management strategies, processes, models and draw insights / identify areas of opportunity\\nStrong track record of delivering on high value / critical projects. Ability to communicate with senior stakeholders crisply and confidently on findings, status, bottlenecks, and escalations\\nProven track record of delivering in a start-up environment would be a plus Strong written and oral communication skills\\nRoleOutside Technical Consultant\\nIndustry TypeIT Services & Consulting\\nFunctional AreaIT Software - System Programming\\nEmployment TypeFull Time, Permanent\\nRole CategorySystem Design/Implementation/ERP/CRM\\nEducation\\nUG :Any Graduate in Any Specialization\\nPG :Post Graduation Not Required\\nKey Skills\\nCVSBfsiAnalyticalMachine learningCredit riskData miningRisk managementForecastingFinancial servicesPython',\n",
       " '-',\n",
       " '-',\n",
       " 'Job description\\n\\n\\nWe are seeking an outstanding Lead Data Scientist in AI/ML who will help our team continue to grow and bring high value to Intel. In this role you should demonstrate excellent problem formulation/definition skills in addition to technical skills. The ideal candidate should be:\\n\\nA professional role model with deep and wide expertise in state-of-the-art AI/ML techniques, a passion for solving challenging data science problems and extensive hands-on experience.\\nBe detail-oriented and have an aptitude for solving unstructured problems. You should be excellent in coming up with different approaches to solve business problem using AI and evaluate the trade-off between them.\\nBe self-directed, take charge of opportunities with business impact and drive them to completion.\\nHave prior experience in guiding a team of data scientists, coaching and mentoring them.\\nHave deep technical expertise in feature-engineering of massive datasets, effective exploratory data analysis, and model building using AI/ML techniques.\\nBe a role model innovator by adapting new AI/ML modeling techniques and procedures.\\nHave deep expertise in creation and management of datasets.\\nHave excellent business and communication skills to be able to work with stakeholders like the business teams, engineering teams and partner teams and align them with respect to your focus area.\\nHave the ability to manage and execute an entire AI project from start to finish, including problem solving, data gathering and manipulation, predictive modeling, and project management skills.\\nBe a role-model in storytelling with data and articulating the AI problems in an understandable manner to senior leadership of the Business Units.\\n\\nYou will be a part of the large global AI/ML Research Scientist community and will have access to state-of-the-art training, tools, and methods of the domain.\\n\\n\\nCandidates need to hold at least a masters degree (or higher) in Computer Science/Machine Learning/AI/Data Science\\n8 years of relevant experience in building AI/ML models and in using Python (Scikit-learn, TensorFlow/Pytorch) and SQL (or equivalent).\\nExperience in using data analysis techniques and ML methods like classification, regression pattern finding, clustering, dimensionality reduction, anomaly detection etc.\\nExperience with Hadoop, Spark is an advantage\\nDeep Knowledge of classical AI algorithms and Deep Learning techniques is a must.\\nGreat analytical skills and demonstrated ability of independent and creative thinking.\\nHighly motivated strong team player with the ability to work both independently and collaboratively within a team.\\nHas strong analytical skills, including the abilities to scope out business problems to be solved, start from ambiguous problem statements, identify and access relevant data, make appropriate assumptions, perform insightful analysis and draw conclusions relevant to the business problem.\\nAbility to present information professionally and concisely with supporting data.\\nPrevious experience as a data scientist in semi-conductor industry or data intensive organizations is a plus.\\nExperience in creating powerful data driven visualizations to describe ML modeling results to stakeholders.\\nRoleTeam Lead/Technical Lead\\nIndustry TypeIT Services & Consulting\\nFunctional AreaIT Software - Application Programming, Maintenance\\nEmployment TypeFull Time, Permanent\\nRole CategoryProgramming & Design\\nEducation\\nUG :Any Graduate in Any Specialization\\nPG :Any Postgraduate in Any Specialization\\nKey Skills\\nComputer scienceData analysisFormulationArtificial IntelligenceMachine learningSignal processingPredictive modelingForecastingSQLPython',\n",
       " 'Job description\\nWhat You Will Do\\nWork with Data Scientists, Machine Learning Engineers, and Business Users to build, deploy, and scale Data Science solutions on chatbots and intend detection models for instance\\nUse your experience in Data Science, Machine Learning, Software Engineering, and distributed systems to develop these system; work with the engineering team to take the systems to production\\nDesign and develop world class Data Science solutions to bring ML chatbot technology to life at Gojek\\nBecome Chatbot and NLP expert at Gojek, influence the roadmap and build ML systems; be a hands-on technical leader\\nPartner with PMs and Operation to define where can ML be leveraged further design solutions\\nWhat You Will Need\\nAt least 8 years of experience as a Data Scientist/Machine Learning Engineer, with experience in Python, Unix and specialised in NLP and chatbot\\nA Masters Degree in Computer Science, Statistics, Operation research or other quantitative fields\\nSolid knowledge of Data Science and Machine Learning fundamentals, with proven experience to formulate Data Science solutions to business problems\\nExperience in taking Data Science models from ideation to production\\nPrior experience in building chatbots and NLP ML system and bringing them to production\\nAbility to provide strong technical mentorship to the Data science team working on NLP systems\\nRoleTeam Lead/Technical Lead\\nIndustry TypeInternet\\nFunctional AreaIT Software - eCommerce, Internet Technologies\\nEmployment TypeFull Time, Permanent\\nRole CategoryProgramming & Design\\nEducation\\nUG :Any Graduate in Any Specialization\\nPG :Any Postgraduate in Any Specialization\\nKey Skills\\nUnixComputer sciencedata scienceAnalyticalMachine learningqueryFlexDistribution systemStatisticsPython',\n",
       " 'Job description\\n  What You Will Do\\nWork with Data Scientists, Machine Learning Engineers, and Business Users to build, deploy, and scale Data Science solutions on chatbots and intend detection models for instance\\nUse your experience in Data Science, Machine Learning, Software Engineering, and distributed systems to develop these system; work with the engineering team to take the systems to production\\nDesign and develop world class Data Science solutions to bring ML chatbot technology to life at Gojek\\nBecome Chatbot and NLP expert at Gojek, influence the roadmap and build ML systems; be a hands-on technical leader\\nPartner with PMs and Operation to define where can ML be leveraged further design solutions\\nWhat You Will Need\\nAt least 8 years of experience as a Data Scientist/Machine Learning Engineer, with experience in Python, Unix and specialised in NLP and chatbot\\nA Masters Degree in Computer Science, Statistics, Operation research or other quantitative fields\\nSolid knowledge of Data Science and Machine Learning fundamentals, with proven experience to formulate Data Science solutions to business problems\\nExperience in taking Data Science models from ideation to production\\nPrior experience in building chatbots and NLP ML system and bringing them to production\\nAbility to provide strong technical mentorship to the Data science team working on NLP systems\\nRoleTeam Lead/Technical Lead\\nIndustry TypeIT Services & Consulting\\nFunctional AreaIT Software - eCommerce, Internet Technologies\\nEmployment TypeFull Time, Permanent\\nRole CategoryProgramming & Design\\nEducation\\nUG :Any Graduate in Any Specialization\\nPG :Post Graduation Not Required\\nKey Skills\\nUnixComputer sciencedata scienceAnalyticalMachine learningqueryFlexDistribution systemStatisticsPython']"
      ]
     },
     "execution_count": 60,
     "metadata": {},
     "output_type": "execute_result"
    }
   ],
   "source": [
    "jobdesc"
   ]
  },
  {
   "cell_type": "code",
   "execution_count": 61,
   "id": "utility-cloud",
   "metadata": {},
   "outputs": [
    {
     "data": {
      "text/html": [
       "<div>\n",
       "<style scoped>\n",
       "    .dataframe tbody tr th:only-of-type {\n",
       "        vertical-align: middle;\n",
       "    }\n",
       "\n",
       "    .dataframe tbody tr th {\n",
       "        vertical-align: top;\n",
       "    }\n",
       "\n",
       "    .dataframe thead th {\n",
       "        text-align: right;\n",
       "    }\n",
       "</style>\n",
       "<table border=\"1\" class=\"dataframe\">\n",
       "  <thead>\n",
       "    <tr style=\"text-align: right;\">\n",
       "      <th></th>\n",
       "      <th>Title</th>\n",
       "      <th>Description</th>\n",
       "    </tr>\n",
       "  </thead>\n",
       "  <tbody>\n",
       "    <tr>\n",
       "      <th>0</th>\n",
       "      <td>Data Scientist / Data Analyst -Business Analyst</td>\n",
       "      <td>Job description\\nJob Role : Data Scientist/Dat...</td>\n",
       "    </tr>\n",
       "    <tr>\n",
       "      <th>1</th>\n",
       "      <td>Senior Data Scientist, Modeling</td>\n",
       "      <td>Job description\\nWe wont say we can predict th...</td>\n",
       "    </tr>\n",
       "    <tr>\n",
       "      <th>2</th>\n",
       "      <td>-</td>\n",
       "      <td>-</td>\n",
       "    </tr>\n",
       "    <tr>\n",
       "      <th>3</th>\n",
       "      <td>-</td>\n",
       "      <td>-</td>\n",
       "    </tr>\n",
       "    <tr>\n",
       "      <th>4</th>\n",
       "      <td>Senior Data Scientist - Credit risk</td>\n",
       "      <td>Job description\\n\\nResponsibilities and duties...</td>\n",
       "    </tr>\n",
       "    <tr>\n",
       "      <th>5</th>\n",
       "      <td>-</td>\n",
       "      <td>-</td>\n",
       "    </tr>\n",
       "    <tr>\n",
       "      <th>6</th>\n",
       "      <td>-</td>\n",
       "      <td>-</td>\n",
       "    </tr>\n",
       "    <tr>\n",
       "      <th>7</th>\n",
       "      <td>Lead Data Scientist</td>\n",
       "      <td>Job description\\n\\n\\nWe are seeking an outstan...</td>\n",
       "    </tr>\n",
       "    <tr>\n",
       "      <th>8</th>\n",
       "      <td>Senior Data Scientist - Chatbot &amp; NLP</td>\n",
       "      <td>Job description\\nWhat You Will Do\\nWork with D...</td>\n",
       "    </tr>\n",
       "    <tr>\n",
       "      <th>9</th>\n",
       "      <td>Senior Data Scientist - Chatbot &amp; NLP</td>\n",
       "      <td>Job description\\n  What You Will Do\\nWork with...</td>\n",
       "    </tr>\n",
       "  </tbody>\n",
       "</table>\n",
       "</div>"
      ],
      "text/plain": [
       "                                             Title  \\\n",
       "0  Data Scientist / Data Analyst -Business Analyst   \n",
       "1                  Senior Data Scientist, Modeling   \n",
       "2                                                -   \n",
       "3                                                -   \n",
       "4              Senior Data Scientist - Credit risk   \n",
       "5                                                -   \n",
       "6                                                -   \n",
       "7                              Lead Data Scientist   \n",
       "8            Senior Data Scientist - Chatbot & NLP   \n",
       "9            Senior Data Scientist - Chatbot & NLP   \n",
       "\n",
       "                                         Description  \n",
       "0  Job description\\nJob Role : Data Scientist/Dat...  \n",
       "1  Job description\\nWe wont say we can predict th...  \n",
       "2                                                  -  \n",
       "3                                                  -  \n",
       "4  Job description\\n\\nResponsibilities and duties...  \n",
       "5                                                  -  \n",
       "6                                                  -  \n",
       "7  Job description\\n\\n\\nWe are seeking an outstan...  \n",
       "8  Job description\\nWhat You Will Do\\nWork with D...  \n",
       "9  Job description\\n  What You Will Do\\nWork with...  "
      ]
     },
     "execution_count": 61,
     "metadata": {},
     "output_type": "execute_result"
    }
   ],
   "source": [
    "data=pd.DataFrame({})\n",
    "data['Title']=jobt\n",
    "data['Description']=jobdesc\n",
    "data"
   ]
  },
  {
   "cell_type": "markdown",
   "id": "worthy-angola",
   "metadata": {},
   "source": [
    "xxxxxxxxxxxxxxxxxxxxxxxxxxxxxxxxxx........................................xxxxxxxxxxxxxxxxxxxxxxxxxxxxxxxxxxxxxxxxxxxxx"
   ]
  },
  {
   "cell_type": "code",
   "execution_count": 164,
   "id": "sporting-dallas",
   "metadata": {},
   "outputs": [],
   "source": [
    "driver = webdriver.Chrome('E:\\Data trained\\DataTrained_internship\\Data Scraping_selenium\\chromedriver')\n",
    "driver.get('https://www.naukri.com/')\n"
   ]
  },
  {
   "cell_type": "code",
   "execution_count": 165,
   "id": "union-victim",
   "metadata": {},
   "outputs": [],
   "source": [
    "jobsearch=driver.find_element_by_id('qsb-keyword-sugg')"
   ]
  },
  {
   "cell_type": "code",
   "execution_count": 166,
   "id": "adjustable-paraguay",
   "metadata": {},
   "outputs": [],
   "source": [
    "jobsearch.send_keys('Data Scientist')"
   ]
  },
  {
   "cell_type": "code",
   "execution_count": 167,
   "id": "median-suggestion",
   "metadata": {},
   "outputs": [],
   "source": [
    "search_button = driver.find_element_by_xpath(\"//button[@class = 'btn']\")\n",
    "search_button.click()"
   ]
  },
  {
   "cell_type": "markdown",
   "id": "severe-herald",
   "metadata": {},
   "source": [
    "Searching for filters"
   ]
  },
  {
   "cell_type": "code",
   "execution_count": 168,
   "id": "dominant-arrival",
   "metadata": {},
   "outputs": [],
   "source": [
    "filtertag=driver.find_element_by_xpath(\"//span[@title = 'Delhi / NCR']\")\n",
    "filtertag.click()\n",
    "        \n"
   ]
  },
  {
   "cell_type": "code",
   "execution_count": 169,
   "id": "august-judgment",
   "metadata": {},
   "outputs": [],
   "source": [
    "salaryfilter=driver.find_element_by_xpath(\"//span[@title='3-6 Lakhs']\")\n",
    "salaryfilter.click()"
   ]
  },
  {
   "cell_type": "code",
   "execution_count": 170,
   "id": "moving-belize",
   "metadata": {},
   "outputs": [
    {
     "data": {
      "text/plain": [
       "[<selenium.webdriver.remote.webelement.WebElement (session=\"24fd2b268e8f855ca9f2a73c8b67a2f9\", element=\"f1043e0a-3071-47af-8d1e-33d8767df59c\")>,\n",
       " <selenium.webdriver.remote.webelement.WebElement (session=\"24fd2b268e8f855ca9f2a73c8b67a2f9\", element=\"c3aa36ab-4da1-44be-ab7f-d39c90dde65f\")>,\n",
       " <selenium.webdriver.remote.webelement.WebElement (session=\"24fd2b268e8f855ca9f2a73c8b67a2f9\", element=\"673b8e05-de46-49d2-819d-3d7b09901f0e\")>,\n",
       " <selenium.webdriver.remote.webelement.WebElement (session=\"24fd2b268e8f855ca9f2a73c8b67a2f9\", element=\"5f7c0cc0-5ba0-4916-acae-10ef3cbb4269\")>,\n",
       " <selenium.webdriver.remote.webelement.WebElement (session=\"24fd2b268e8f855ca9f2a73c8b67a2f9\", element=\"fb90afc9-10e5-4263-a157-cec0c842ba14\")>,\n",
       " <selenium.webdriver.remote.webelement.WebElement (session=\"24fd2b268e8f855ca9f2a73c8b67a2f9\", element=\"bcdec759-0d62-4c70-b0f4-10f72c6fc6e5\")>,\n",
       " <selenium.webdriver.remote.webelement.WebElement (session=\"24fd2b268e8f855ca9f2a73c8b67a2f9\", element=\"8a9231e1-24c9-4941-ad27-125b656447d2\")>,\n",
       " <selenium.webdriver.remote.webelement.WebElement (session=\"24fd2b268e8f855ca9f2a73c8b67a2f9\", element=\"2d5fb968-5842-4154-b30d-9c6d73c9ec9b\")>,\n",
       " <selenium.webdriver.remote.webelement.WebElement (session=\"24fd2b268e8f855ca9f2a73c8b67a2f9\", element=\"29a41c7e-419c-4e04-9b1d-8f5047372a44\")>,\n",
       " <selenium.webdriver.remote.webelement.WebElement (session=\"24fd2b268e8f855ca9f2a73c8b67a2f9\", element=\"492d5a84-dbd7-4025-bfc7-d65f42174708\")>,\n",
       " <selenium.webdriver.remote.webelement.WebElement (session=\"24fd2b268e8f855ca9f2a73c8b67a2f9\", element=\"8fefbc6c-291c-44aa-a039-d25372153a87\")>,\n",
       " <selenium.webdriver.remote.webelement.WebElement (session=\"24fd2b268e8f855ca9f2a73c8b67a2f9\", element=\"c2227a1c-2850-4ac1-b01e-d50292b4691a\")>,\n",
       " <selenium.webdriver.remote.webelement.WebElement (session=\"24fd2b268e8f855ca9f2a73c8b67a2f9\", element=\"fd366dd3-9728-4653-b30a-fe20cd42f05e\")>,\n",
       " <selenium.webdriver.remote.webelement.WebElement (session=\"24fd2b268e8f855ca9f2a73c8b67a2f9\", element=\"f8a83056-e349-441f-9370-abd3c20a0547\")>,\n",
       " <selenium.webdriver.remote.webelement.WebElement (session=\"24fd2b268e8f855ca9f2a73c8b67a2f9\", element=\"0106b85b-9bd3-4739-98bf-290a3694cfd9\")>,\n",
       " <selenium.webdriver.remote.webelement.WebElement (session=\"24fd2b268e8f855ca9f2a73c8b67a2f9\", element=\"8448ede0-696c-49cf-8554-c5415c3ec3fd\")>,\n",
       " <selenium.webdriver.remote.webelement.WebElement (session=\"24fd2b268e8f855ca9f2a73c8b67a2f9\", element=\"0d95396c-961d-4b77-b354-3d9b32c99961\")>,\n",
       " <selenium.webdriver.remote.webelement.WebElement (session=\"24fd2b268e8f855ca9f2a73c8b67a2f9\", element=\"e6054133-b818-444b-89e1-4f104386cf27\")>,\n",
       " <selenium.webdriver.remote.webelement.WebElement (session=\"24fd2b268e8f855ca9f2a73c8b67a2f9\", element=\"f76cc68b-8a95-4c29-9ef6-12a666646fe7\")>,\n",
       " <selenium.webdriver.remote.webelement.WebElement (session=\"24fd2b268e8f855ca9f2a73c8b67a2f9\", element=\"ebdfe3ba-770f-42c1-96c8-44ad66495a95\")>]"
      ]
     },
     "execution_count": 170,
     "metadata": {},
     "output_type": "execute_result"
    }
   ],
   "source": [
    "jobtitle=[]\n",
    "job=driver.find_elements_by_xpath(\"//a[@class='title fw500 ellipsis']\")\n",
    "job"
   ]
  },
  {
   "cell_type": "code",
   "execution_count": 171,
   "id": "accepting-formation",
   "metadata": {},
   "outputs": [
    {
     "data": {
      "text/plain": [
       "['Data Scientist / Data Analyst -Business Analyst',\n",
       " 'Data Scientist - High growth VC backed Influencer Marketplace',\n",
       " 'Excellent opportunity For Data Scientist',\n",
       " \"Data Scientist - Noida/ B'lore\",\n",
       " 'Data Scientist',\n",
       " 'Data Scientist',\n",
       " 'Data Scientist',\n",
       " 'DATA Scientist – Gurgaon (Exp 3-6 years)',\n",
       " 'DATA Scientist – Gurgaon (Exp 3-6 years)',\n",
       " 'Data Scientist - Noida']"
      ]
     },
     "execution_count": 171,
     "metadata": {},
     "output_type": "execute_result"
    }
   ],
   "source": [
    "for i in job[:10]:\n",
    "    jobtitle.append(i.text)\n",
    "jobtitle"
   ]
  },
  {
   "cell_type": "code",
   "execution_count": 173,
   "id": "flush-validity",
   "metadata": {},
   "outputs": [
    {
     "data": {
      "text/html": [
       "<div>\n",
       "<style scoped>\n",
       "    .dataframe tbody tr th:only-of-type {\n",
       "        vertical-align: middle;\n",
       "    }\n",
       "\n",
       "    .dataframe tbody tr th {\n",
       "        vertical-align: top;\n",
       "    }\n",
       "\n",
       "    .dataframe thead th {\n",
       "        text-align: right;\n",
       "    }\n",
       "</style>\n",
       "<table border=\"1\" class=\"dataframe\">\n",
       "  <thead>\n",
       "    <tr style=\"text-align: right;\">\n",
       "      <th></th>\n",
       "      <th>title</th>\n",
       "    </tr>\n",
       "  </thead>\n",
       "  <tbody>\n",
       "    <tr>\n",
       "      <th>0</th>\n",
       "      <td>Data Scientist / Data Analyst -Business Analyst</td>\n",
       "    </tr>\n",
       "    <tr>\n",
       "      <th>1</th>\n",
       "      <td>Data Scientist - High growth VC backed Influen...</td>\n",
       "    </tr>\n",
       "    <tr>\n",
       "      <th>2</th>\n",
       "      <td>Excellent opportunity For Data Scientist</td>\n",
       "    </tr>\n",
       "    <tr>\n",
       "      <th>3</th>\n",
       "      <td>Data Scientist - Noida/ B'lore</td>\n",
       "    </tr>\n",
       "    <tr>\n",
       "      <th>4</th>\n",
       "      <td>Data Scientist</td>\n",
       "    </tr>\n",
       "    <tr>\n",
       "      <th>5</th>\n",
       "      <td>Data Scientist</td>\n",
       "    </tr>\n",
       "    <tr>\n",
       "      <th>6</th>\n",
       "      <td>Data Scientist</td>\n",
       "    </tr>\n",
       "    <tr>\n",
       "      <th>7</th>\n",
       "      <td>DATA Scientist – Gurgaon (Exp 3-6 years)</td>\n",
       "    </tr>\n",
       "    <tr>\n",
       "      <th>8</th>\n",
       "      <td>DATA Scientist – Gurgaon (Exp 3-6 years)</td>\n",
       "    </tr>\n",
       "    <tr>\n",
       "      <th>9</th>\n",
       "      <td>Data Scientist - Noida</td>\n",
       "    </tr>\n",
       "  </tbody>\n",
       "</table>\n",
       "</div>"
      ],
      "text/plain": [
       "                                               title\n",
       "0    Data Scientist / Data Analyst -Business Analyst\n",
       "1  Data Scientist - High growth VC backed Influen...\n",
       "2           Excellent opportunity For Data Scientist\n",
       "3                     Data Scientist - Noida/ B'lore\n",
       "4                                     Data Scientist\n",
       "5                                     Data Scientist\n",
       "6                                     Data Scientist\n",
       "7           DATA Scientist – Gurgaon (Exp 3-6 years)\n",
       "8           DATA Scientist – Gurgaon (Exp 3-6 years)\n",
       "9                             Data Scientist - Noida"
      ]
     },
     "execution_count": 173,
     "metadata": {},
     "output_type": "execute_result"
    }
   ],
   "source": [
    "job=pd.DataFrame({})\n",
    "job['title']=jobtitle\n",
    "job"
   ]
  },
  {
   "cell_type": "markdown",
   "id": "widespread-table",
   "metadata": {},
   "source": [
    "xxxxxxxxxxxxxxxxx...........................xxxxxxxxxxxxxxxxxxxxxxxxxxxxxx.............................xxxxxxxxxxxxxxxxxxxxx"
   ]
  },
  {
   "cell_type": "markdown",
   "id": "frozen-standing",
   "metadata": {},
   "source": [
    "Glassdoor"
   ]
  },
  {
   "cell_type": "code",
   "execution_count": 7,
   "id": "unlike-noise",
   "metadata": {},
   "outputs": [],
   "source": [
    "driver = webdriver.Chrome('E:\\Data trained\\DataTrained_internship\\Data Scraping_selenium\\chromedriver')\n",
    "driver.get('https://www.glassdoor.co.in/index.htm')\n",
    "time.sleep(5)\n"
   ]
  },
  {
   "cell_type": "code",
   "execution_count": 18,
   "id": "natural-raise",
   "metadata": {},
   "outputs": [],
   "source": [
    "jobsearch=driver.find_element_by_id('sc.keyword')\n",
    "joblocation=driver.find_element_by_id('sc.location')\n",
    "jobsearch.clear()\n",
    "joblocation.clear()\n",
    "\n"
   ]
  },
  {
   "cell_type": "code",
   "execution_count": 19,
   "id": "closed-gentleman",
   "metadata": {},
   "outputs": [],
   "source": [
    "jobsearch.send_keys('Data Scientist')\n",
    "joblocation.send_keys('Noida')\n"
   ]
  },
  {
   "cell_type": "code",
   "execution_count": 20,
   "id": "optimum-receipt",
   "metadata": {},
   "outputs": [],
   "source": [
    "search_button = driver.find_element_by_xpath(\"//button[@class = 'gd-ui-button ml-std col-auto SearchStyles__newSearchButton css-iixdfr']\")\n",
    "search_button.click()\n"
   ]
  },
  {
   "cell_type": "code",
   "execution_count": 25,
   "id": "indie-certification",
   "metadata": {},
   "outputs": [
    {
     "data": {
      "text/plain": [
       "[<selenium.webdriver.remote.webelement.WebElement (session=\"d88394ee21f6ebb650a13bbbcee4dfb0\", element=\"0a28ca0b-4562-4e20-973d-4264546ee1eb\")>,\n",
       " <selenium.webdriver.remote.webelement.WebElement (session=\"d88394ee21f6ebb650a13bbbcee4dfb0\", element=\"64c31618-b111-4ad2-b756-0cb80f80a360\")>,\n",
       " <selenium.webdriver.remote.webelement.WebElement (session=\"d88394ee21f6ebb650a13bbbcee4dfb0\", element=\"0c99ca03-3455-4cd2-b6d9-382f6d99da5e\")>,\n",
       " <selenium.webdriver.remote.webelement.WebElement (session=\"d88394ee21f6ebb650a13bbbcee4dfb0\", element=\"6a2606ad-807f-4016-9963-2186146d1dbb\")>,\n",
       " <selenium.webdriver.remote.webelement.WebElement (session=\"d88394ee21f6ebb650a13bbbcee4dfb0\", element=\"6758ae80-c4f3-45ba-b7da-115d7b71ef10\")>,\n",
       " <selenium.webdriver.remote.webelement.WebElement (session=\"d88394ee21f6ebb650a13bbbcee4dfb0\", element=\"0096d944-314b-4d5f-9a76-48a3b94c5479\")>,\n",
       " <selenium.webdriver.remote.webelement.WebElement (session=\"d88394ee21f6ebb650a13bbbcee4dfb0\", element=\"366015fa-849d-418b-8e89-84128b3dd948\")>,\n",
       " <selenium.webdriver.remote.webelement.WebElement (session=\"d88394ee21f6ebb650a13bbbcee4dfb0\", element=\"b1ce3280-c617-4239-8bd6-36763b168678\")>,\n",
       " <selenium.webdriver.remote.webelement.WebElement (session=\"d88394ee21f6ebb650a13bbbcee4dfb0\", element=\"6fc9165b-c455-4ed9-8617-cf91703d02a5\")>,\n",
       " <selenium.webdriver.remote.webelement.WebElement (session=\"d88394ee21f6ebb650a13bbbcee4dfb0\", element=\"9b4133e9-3414-40e8-8d13-b71e8f7e6a21\")>,\n",
       " <selenium.webdriver.remote.webelement.WebElement (session=\"d88394ee21f6ebb650a13bbbcee4dfb0\", element=\"2192a57a-4f35-4986-8397-23377d295a5e\")>,\n",
       " <selenium.webdriver.remote.webelement.WebElement (session=\"d88394ee21f6ebb650a13bbbcee4dfb0\", element=\"bcb6244c-90e6-44c7-9236-4eabf14d2b14\")>,\n",
       " <selenium.webdriver.remote.webelement.WebElement (session=\"d88394ee21f6ebb650a13bbbcee4dfb0\", element=\"8f57a1a6-4c99-4129-8282-210634185165\")>,\n",
       " <selenium.webdriver.remote.webelement.WebElement (session=\"d88394ee21f6ebb650a13bbbcee4dfb0\", element=\"d936e51c-10be-4daa-adf5-a7d02427d728\")>,\n",
       " <selenium.webdriver.remote.webelement.WebElement (session=\"d88394ee21f6ebb650a13bbbcee4dfb0\", element=\"5e1772e2-e909-4b9c-9abe-144c8f727408\")>,\n",
       " <selenium.webdriver.remote.webelement.WebElement (session=\"d88394ee21f6ebb650a13bbbcee4dfb0\", element=\"f0fb23bf-4552-4bef-a510-f32650fce8a2\")>,\n",
       " <selenium.webdriver.remote.webelement.WebElement (session=\"d88394ee21f6ebb650a13bbbcee4dfb0\", element=\"b749120f-d1fa-41fc-89d4-cab835205e0f\")>,\n",
       " <selenium.webdriver.remote.webelement.WebElement (session=\"d88394ee21f6ebb650a13bbbcee4dfb0\", element=\"fd7fa8e0-2e92-4d2b-9aaf-9512b2a22bbb\")>,\n",
       " <selenium.webdriver.remote.webelement.WebElement (session=\"d88394ee21f6ebb650a13bbbcee4dfb0\", element=\"d463bc85-d631-4a75-9c04-2125aa0d829b\")>,\n",
       " <selenium.webdriver.remote.webelement.WebElement (session=\"d88394ee21f6ebb650a13bbbcee4dfb0\", element=\"b235ff7b-15c9-4865-9ae0-32fc2aef2d32\")>,\n",
       " <selenium.webdriver.remote.webelement.WebElement (session=\"d88394ee21f6ebb650a13bbbcee4dfb0\", element=\"eaae5950-8fd5-47e3-863f-d015f436e0e6\")>,\n",
       " <selenium.webdriver.remote.webelement.WebElement (session=\"d88394ee21f6ebb650a13bbbcee4dfb0\", element=\"dbe1b8b9-10ce-40cc-b612-c7947fa37db1\")>,\n",
       " <selenium.webdriver.remote.webelement.WebElement (session=\"d88394ee21f6ebb650a13bbbcee4dfb0\", element=\"5558fb49-e945-4769-b68b-b7b802b44201\")>,\n",
       " <selenium.webdriver.remote.webelement.WebElement (session=\"d88394ee21f6ebb650a13bbbcee4dfb0\", element=\"9f9e6604-10ab-4276-8853-7de07a5e0220\")>,\n",
       " <selenium.webdriver.remote.webelement.WebElement (session=\"d88394ee21f6ebb650a13bbbcee4dfb0\", element=\"9149f096-82ad-4952-894b-63acced9d225\")>,\n",
       " <selenium.webdriver.remote.webelement.WebElement (session=\"d88394ee21f6ebb650a13bbbcee4dfb0\", element=\"d9d22554-a644-42db-a4dc-6dafa57048c4\")>,\n",
       " <selenium.webdriver.remote.webelement.WebElement (session=\"d88394ee21f6ebb650a13bbbcee4dfb0\", element=\"9a2fde37-05e6-4089-b089-42e3d2c90b29\")>,\n",
       " <selenium.webdriver.remote.webelement.WebElement (session=\"d88394ee21f6ebb650a13bbbcee4dfb0\", element=\"25982423-3e88-4f91-81a5-b41dd37e7623\")>,\n",
       " <selenium.webdriver.remote.webelement.WebElement (session=\"d88394ee21f6ebb650a13bbbcee4dfb0\", element=\"1e00a6b1-e65e-478c-bb7a-525b4785c090\")>,\n",
       " <selenium.webdriver.remote.webelement.WebElement (session=\"d88394ee21f6ebb650a13bbbcee4dfb0\", element=\"e3c09ba3-806e-4f7c-bc25-9b6723875721\")>]"
      ]
     },
     "execution_count": 25,
     "metadata": {},
     "output_type": "execute_result"
    }
   ],
   "source": [
    "Jobtitle=[]\n",
    "job=driver.find_elements_by_xpath(\"//a[@class='jobLink css-1rd3saf eigr9kq2']\")\n",
    "job"
   ]
  },
  {
   "cell_type": "code",
   "execution_count": 27,
   "id": "level-france",
   "metadata": {},
   "outputs": [
    {
     "data": {
      "text/plain": [
       "['Lead Analyst- Data Science',\n",
       " 'Data Scientist',\n",
       " 'Data Scientist: Artificial Intelligence',\n",
       " 'Data Scientist',\n",
       " 'Data Scientist',\n",
       " 'Lead- Python (Data Science)',\n",
       " 'Data Analytics part time job/internship at Bangalore',\n",
       " 'Data Analytics Internship',\n",
       " 'Data Scientist - IBM Garage',\n",
       " 'Data Scientist (BE/ B-tech 4-6 yrs)']"
      ]
     },
     "execution_count": 27,
     "metadata": {},
     "output_type": "execute_result"
    }
   ],
   "source": [
    "for i in job[:10]:\n",
    "    Jobtitle.append(i.text)\n",
    "Jobtitle"
   ]
  },
  {
   "cell_type": "code",
   "execution_count": 28,
   "id": "adult-airline",
   "metadata": {},
   "outputs": [],
   "source": [
    "Glassdoor1=pd.DataFrame({})\n",
    "Glassdoor1['Title']=Jobtitle"
   ]
  },
  {
   "cell_type": "code",
   "execution_count": 29,
   "id": "social-ethiopia",
   "metadata": {},
   "outputs": [
    {
     "data": {
      "text/html": [
       "<div>\n",
       "<style scoped>\n",
       "    .dataframe tbody tr th:only-of-type {\n",
       "        vertical-align: middle;\n",
       "    }\n",
       "\n",
       "    .dataframe tbody tr th {\n",
       "        vertical-align: top;\n",
       "    }\n",
       "\n",
       "    .dataframe thead th {\n",
       "        text-align: right;\n",
       "    }\n",
       "</style>\n",
       "<table border=\"1\" class=\"dataframe\">\n",
       "  <thead>\n",
       "    <tr style=\"text-align: right;\">\n",
       "      <th></th>\n",
       "      <th>Title</th>\n",
       "    </tr>\n",
       "  </thead>\n",
       "  <tbody>\n",
       "    <tr>\n",
       "      <th>0</th>\n",
       "      <td>Lead Analyst- Data Science</td>\n",
       "    </tr>\n",
       "    <tr>\n",
       "      <th>1</th>\n",
       "      <td>Data Scientist</td>\n",
       "    </tr>\n",
       "    <tr>\n",
       "      <th>2</th>\n",
       "      <td>Data Scientist: Artificial Intelligence</td>\n",
       "    </tr>\n",
       "    <tr>\n",
       "      <th>3</th>\n",
       "      <td>Data Scientist</td>\n",
       "    </tr>\n",
       "    <tr>\n",
       "      <th>4</th>\n",
       "      <td>Data Scientist</td>\n",
       "    </tr>\n",
       "    <tr>\n",
       "      <th>5</th>\n",
       "      <td>Lead- Python (Data Science)</td>\n",
       "    </tr>\n",
       "    <tr>\n",
       "      <th>6</th>\n",
       "      <td>Data Analytics part time job/internship at Ban...</td>\n",
       "    </tr>\n",
       "    <tr>\n",
       "      <th>7</th>\n",
       "      <td>Data Analytics Internship</td>\n",
       "    </tr>\n",
       "    <tr>\n",
       "      <th>8</th>\n",
       "      <td>Data Scientist - IBM Garage</td>\n",
       "    </tr>\n",
       "    <tr>\n",
       "      <th>9</th>\n",
       "      <td>Data Scientist (BE/ B-tech 4-6 yrs)</td>\n",
       "    </tr>\n",
       "  </tbody>\n",
       "</table>\n",
       "</div>"
      ],
      "text/plain": [
       "                                               Title\n",
       "0                         Lead Analyst- Data Science\n",
       "1                                     Data Scientist\n",
       "2            Data Scientist: Artificial Intelligence\n",
       "3                                     Data Scientist\n",
       "4                                     Data Scientist\n",
       "5                        Lead- Python (Data Science)\n",
       "6  Data Analytics part time job/internship at Ban...\n",
       "7                          Data Analytics Internship\n",
       "8                        Data Scientist - IBM Garage\n",
       "9                Data Scientist (BE/ B-tech 4-6 yrs)"
      ]
     },
     "execution_count": 29,
     "metadata": {},
     "output_type": "execute_result"
    }
   ],
   "source": [
    "Glassdoor1"
   ]
  },
  {
   "cell_type": "markdown",
   "id": "answering-basement",
   "metadata": {},
   "source": [
    "xxxxxxxxxxxxxxxxxxxxxxxxxxxxxxxxxxxx...........................................xxxxxxxxxxxxxxxxxxxxxxxxxxxxxxxxxxxxxxxxx"
   ]
  },
  {
   "cell_type": "markdown",
   "id": "southwest-water",
   "metadata": {},
   "source": [
    "Q5"
   ]
  },
  {
   "cell_type": "code",
   "execution_count": 48,
   "id": "italic-pencil",
   "metadata": {},
   "outputs": [],
   "source": [
    "driver = webdriver.Chrome('E:\\Data trained\\DataTrained_internship\\Data Scraping_selenium\\chromedriver')\n",
    "driver.get(' https://www.glassdoor.co.in/Salaries/index.htm')\n",
    "time.sleep(5)\n"
   ]
  },
  {
   "cell_type": "code",
   "execution_count": 49,
   "id": "retired-adult",
   "metadata": {},
   "outputs": [],
   "source": [
    "jobsearch=driver.find_element_by_id('KeywordSearch')\n",
    "joblocation=driver.find_element_by_id('LocationSearch')\n",
    "jobsearch.clear()\n",
    "joblocation.clear()"
   ]
  },
  {
   "cell_type": "code",
   "execution_count": 50,
   "id": "framed-sending",
   "metadata": {},
   "outputs": [],
   "source": [
    "jobsearch.send_keys('Data Scientist')\n",
    "joblocation.send_keys('Noida')\n"
   ]
  },
  {
   "cell_type": "code",
   "execution_count": 51,
   "id": "frank-ecology",
   "metadata": {},
   "outputs": [],
   "source": [
    "search_button = driver.find_element_by_xpath(\"//button[@class = 'gd-btn-mkt']\")\n",
    "search_button.click()\n"
   ]
  },
  {
   "cell_type": "code",
   "execution_count": 84,
   "id": "equal-treasurer",
   "metadata": {},
   "outputs": [
    {
     "data": {
      "text/plain": [
       "[<selenium.webdriver.remote.webelement.WebElement (session=\"0e00817e8f6832c5e316f4e4ab7d8c65\", element=\"b011a734-4e16-4eb1-b57a-438cc5bf2d83\")>,\n",
       " <selenium.webdriver.remote.webelement.WebElement (session=\"0e00817e8f6832c5e316f4e4ab7d8c65\", element=\"e7cc7ce7-bbed-43c0-852c-fe44cff5bd67\")>,\n",
       " <selenium.webdriver.remote.webelement.WebElement (session=\"0e00817e8f6832c5e316f4e4ab7d8c65\", element=\"a5b0ad94-8e5b-4f76-adeb-b494e7ba143e\")>,\n",
       " <selenium.webdriver.remote.webelement.WebElement (session=\"0e00817e8f6832c5e316f4e4ab7d8c65\", element=\"a9f08e70-2c8a-408a-af6d-c2d755e56ba7\")>,\n",
       " <selenium.webdriver.remote.webelement.WebElement (session=\"0e00817e8f6832c5e316f4e4ab7d8c65\", element=\"b0726cf2-1aa2-4fe8-a0fc-1e014120090b\")>,\n",
       " <selenium.webdriver.remote.webelement.WebElement (session=\"0e00817e8f6832c5e316f4e4ab7d8c65\", element=\"e9e021b3-5f98-445c-8590-087cf6f12837\")>,\n",
       " <selenium.webdriver.remote.webelement.WebElement (session=\"0e00817e8f6832c5e316f4e4ab7d8c65\", element=\"bd53e581-40f8-494f-8318-27d7975f8455\")>,\n",
       " <selenium.webdriver.remote.webelement.WebElement (session=\"0e00817e8f6832c5e316f4e4ab7d8c65\", element=\"5d80c70d-fd26-49ce-9b33-d39bb33fdd9e\")>,\n",
       " <selenium.webdriver.remote.webelement.WebElement (session=\"0e00817e8f6832c5e316f4e4ab7d8c65\", element=\"ce665fe6-1d23-4dd3-abbb-d7d710302e26\")>,\n",
       " <selenium.webdriver.remote.webelement.WebElement (session=\"0e00817e8f6832c5e316f4e4ab7d8c65\", element=\"e486e7f6-5e98-4980-ac4c-23cc3ddf7b97\")>,\n",
       " <selenium.webdriver.remote.webelement.WebElement (session=\"0e00817e8f6832c5e316f4e4ab7d8c65\", element=\"529ae653-cd08-4abd-8abe-cfb4e70540fd\")>,\n",
       " <selenium.webdriver.remote.webelement.WebElement (session=\"0e00817e8f6832c5e316f4e4ab7d8c65\", element=\"b08e49fe-de5e-4db0-88ab-63c58aeb8a7d\")>,\n",
       " <selenium.webdriver.remote.webelement.WebElement (session=\"0e00817e8f6832c5e316f4e4ab7d8c65\", element=\"70fb662a-647e-4dbe-a8ba-1b0d4b75f238\")>,\n",
       " <selenium.webdriver.remote.webelement.WebElement (session=\"0e00817e8f6832c5e316f4e4ab7d8c65\", element=\"60b64d14-3182-43c7-be86-07f9d6854141\")>,\n",
       " <selenium.webdriver.remote.webelement.WebElement (session=\"0e00817e8f6832c5e316f4e4ab7d8c65\", element=\"5ea159b7-e896-491b-9ca8-19c943f0643e\")>,\n",
       " <selenium.webdriver.remote.webelement.WebElement (session=\"0e00817e8f6832c5e316f4e4ab7d8c65\", element=\"a988e10c-c297-4b66-912d-45cfc08bc67f\")>,\n",
       " <selenium.webdriver.remote.webelement.WebElement (session=\"0e00817e8f6832c5e316f4e4ab7d8c65\", element=\"88f71b53-2baa-4794-ad40-33a184cd7a6d\")>,\n",
       " <selenium.webdriver.remote.webelement.WebElement (session=\"0e00817e8f6832c5e316f4e4ab7d8c65\", element=\"b24baa01-ff30-4b1e-b406-a8f417e950ed\")>,\n",
       " <selenium.webdriver.remote.webelement.WebElement (session=\"0e00817e8f6832c5e316f4e4ab7d8c65\", element=\"477b8a8d-36ba-4cf6-ae5c-ddb6fd01d740\")>,\n",
       " <selenium.webdriver.remote.webelement.WebElement (session=\"0e00817e8f6832c5e316f4e4ab7d8c65\", element=\"19e32627-bdf0-47b7-bbcc-25287b5ec0c6\")>]"
      ]
     },
     "execution_count": 84,
     "metadata": {},
     "output_type": "execute_result"
    }
   ],
   "source": [
    "jobname=driver.find_elements_by_xpath(\"//a[@class='css-f3vw95 e1aj7ssy3']\")\n",
    "jobname"
   ]
  },
  {
   "cell_type": "code",
   "execution_count": 77,
   "id": "provincial-investigator",
   "metadata": {},
   "outputs": [
    {
     "data": {
      "text/plain": [
       "[<selenium.webdriver.remote.webelement.WebElement (session=\"0e00817e8f6832c5e316f4e4ab7d8c65\", element=\"3ddbb6a1-c0f8-4e0b-9411-0ea9a10f51f1\")>,\n",
       " <selenium.webdriver.remote.webelement.WebElement (session=\"0e00817e8f6832c5e316f4e4ab7d8c65\", element=\"f103475a-f9fd-4a81-bbc5-7764e6dbd9f6\")>,\n",
       " <selenium.webdriver.remote.webelement.WebElement (session=\"0e00817e8f6832c5e316f4e4ab7d8c65\", element=\"019bd647-c044-4074-b394-5fee0023de19\")>,\n",
       " <selenium.webdriver.remote.webelement.WebElement (session=\"0e00817e8f6832c5e316f4e4ab7d8c65\", element=\"fb635268-8a59-4d89-b733-124a87d09dc9\")>,\n",
       " <selenium.webdriver.remote.webelement.WebElement (session=\"0e00817e8f6832c5e316f4e4ab7d8c65\", element=\"f26983a2-3425-49f5-ac27-8d55913c0eb9\")>,\n",
       " <selenium.webdriver.remote.webelement.WebElement (session=\"0e00817e8f6832c5e316f4e4ab7d8c65\", element=\"a929bbbc-f06f-4e1f-a401-4ed98a54f1ce\")>,\n",
       " <selenium.webdriver.remote.webelement.WebElement (session=\"0e00817e8f6832c5e316f4e4ab7d8c65\", element=\"32abdad7-9d85-4262-908c-e9afd4f17538\")>,\n",
       " <selenium.webdriver.remote.webelement.WebElement (session=\"0e00817e8f6832c5e316f4e4ab7d8c65\", element=\"fea7f51f-6deb-41d2-8d99-652a7ae4092f\")>,\n",
       " <selenium.webdriver.remote.webelement.WebElement (session=\"0e00817e8f6832c5e316f4e4ab7d8c65\", element=\"5421c04e-9b27-42cd-88d6-fce869737614\")>,\n",
       " <selenium.webdriver.remote.webelement.WebElement (session=\"0e00817e8f6832c5e316f4e4ab7d8c65\", element=\"e507038a-8b83-466b-ac3b-6f7b0ba9ff9a\")>,\n",
       " <selenium.webdriver.remote.webelement.WebElement (session=\"0e00817e8f6832c5e316f4e4ab7d8c65\", element=\"f7bdde54-e88d-4ff8-8197-d83ba7ca1245\")>,\n",
       " <selenium.webdriver.remote.webelement.WebElement (session=\"0e00817e8f6832c5e316f4e4ab7d8c65\", element=\"c0e3f9d4-5e28-485a-b657-55d31c9cc92a\")>,\n",
       " <selenium.webdriver.remote.webelement.WebElement (session=\"0e00817e8f6832c5e316f4e4ab7d8c65\", element=\"749949ce-f2cb-4a80-af63-b83e6e222b31\")>,\n",
       " <selenium.webdriver.remote.webelement.WebElement (session=\"0e00817e8f6832c5e316f4e4ab7d8c65\", element=\"a593bbc1-d1a8-4432-b18f-4b33082c5c96\")>,\n",
       " <selenium.webdriver.remote.webelement.WebElement (session=\"0e00817e8f6832c5e316f4e4ab7d8c65\", element=\"0eaf7c21-2db5-437c-a856-8df9fba87977\")>,\n",
       " <selenium.webdriver.remote.webelement.WebElement (session=\"0e00817e8f6832c5e316f4e4ab7d8c65\", element=\"a932e50d-ecc9-43f8-ad01-1b70e194bbf5\")>,\n",
       " <selenium.webdriver.remote.webelement.WebElement (session=\"0e00817e8f6832c5e316f4e4ab7d8c65\", element=\"1b0e4c47-a475-47a1-a682-30d0f66276f4\")>,\n",
       " <selenium.webdriver.remote.webelement.WebElement (session=\"0e00817e8f6832c5e316f4e4ab7d8c65\", element=\"4394610c-ff10-4978-91b2-3bbacd619fa5\")>,\n",
       " <selenium.webdriver.remote.webelement.WebElement (session=\"0e00817e8f6832c5e316f4e4ab7d8c65\", element=\"bca3c146-309c-4522-9edc-00090f7b9a17\")>,\n",
       " <selenium.webdriver.remote.webelement.WebElement (session=\"0e00817e8f6832c5e316f4e4ab7d8c65\", element=\"03b06f6d-a93b-46e2-bb51-a7f8909d1e52\")>]"
      ]
     },
     "execution_count": 77,
     "metadata": {},
     "output_type": "execute_result"
    }
   ],
   "source": [
    "jobminsal=driver.find_elements_by_xpath(\"//span[@class='d-block d-lg-none m-0 css-1b6bxoo']\")\n",
    "jobminsal"
   ]
  },
  {
   "cell_type": "code",
   "execution_count": 86,
   "id": "diagnostic-crown",
   "metadata": {},
   "outputs": [
    {
     "data": {
      "text/plain": [
       "[<selenium.webdriver.remote.webelement.WebElement (session=\"0e00817e8f6832c5e316f4e4ab7d8c65\", element=\"59d70448-d2da-4d20-ad64-fcf670e3d928\")>,\n",
       " <selenium.webdriver.remote.webelement.WebElement (session=\"0e00817e8f6832c5e316f4e4ab7d8c65\", element=\"d409463d-60ee-4789-b9fd-78937a8304c2\")>,\n",
       " <selenium.webdriver.remote.webelement.WebElement (session=\"0e00817e8f6832c5e316f4e4ab7d8c65\", element=\"63e46059-1dad-44a7-af95-3cbed88a1b23\")>,\n",
       " <selenium.webdriver.remote.webelement.WebElement (session=\"0e00817e8f6832c5e316f4e4ab7d8c65\", element=\"fc594a60-a2d9-431d-a212-0824c913153d\")>,\n",
       " <selenium.webdriver.remote.webelement.WebElement (session=\"0e00817e8f6832c5e316f4e4ab7d8c65\", element=\"63798960-8657-409e-b9e3-e26f2520f565\")>,\n",
       " <selenium.webdriver.remote.webelement.WebElement (session=\"0e00817e8f6832c5e316f4e4ab7d8c65\", element=\"0a1c4d45-09fe-4d02-8f79-dc559537a661\")>,\n",
       " <selenium.webdriver.remote.webelement.WebElement (session=\"0e00817e8f6832c5e316f4e4ab7d8c65\", element=\"3c8d73be-8af9-4578-9f6f-e26e5b06bbcb\")>,\n",
       " <selenium.webdriver.remote.webelement.WebElement (session=\"0e00817e8f6832c5e316f4e4ab7d8c65\", element=\"2e64c554-6004-4cec-90c8-e8c6f2f88d48\")>,\n",
       " <selenium.webdriver.remote.webelement.WebElement (session=\"0e00817e8f6832c5e316f4e4ab7d8c65\", element=\"2ba79188-3c40-40cf-9b3b-1099d2d91537\")>,\n",
       " <selenium.webdriver.remote.webelement.WebElement (session=\"0e00817e8f6832c5e316f4e4ab7d8c65\", element=\"fd4ef624-63e6-4300-9bfb-1fccdd733ae2\")>,\n",
       " <selenium.webdriver.remote.webelement.WebElement (session=\"0e00817e8f6832c5e316f4e4ab7d8c65\", element=\"18c68b67-a61e-427c-8225-0528aa0244ab\")>,\n",
       " <selenium.webdriver.remote.webelement.WebElement (session=\"0e00817e8f6832c5e316f4e4ab7d8c65\", element=\"a496ab98-2280-47de-8e34-675275bd7272\")>,\n",
       " <selenium.webdriver.remote.webelement.WebElement (session=\"0e00817e8f6832c5e316f4e4ab7d8c65\", element=\"dd4b9260-86ff-4524-8e69-3153b82e9da1\")>,\n",
       " <selenium.webdriver.remote.webelement.WebElement (session=\"0e00817e8f6832c5e316f4e4ab7d8c65\", element=\"b08d2e72-281c-42c2-8a4e-760f72a07ede\")>,\n",
       " <selenium.webdriver.remote.webelement.WebElement (session=\"0e00817e8f6832c5e316f4e4ab7d8c65\", element=\"9c11b6e4-8e02-444d-b950-a88ff79f9ab1\")>,\n",
       " <selenium.webdriver.remote.webelement.WebElement (session=\"0e00817e8f6832c5e316f4e4ab7d8c65\", element=\"7efbb403-f9c2-47bd-a21d-0172a9710b36\")>,\n",
       " <selenium.webdriver.remote.webelement.WebElement (session=\"0e00817e8f6832c5e316f4e4ab7d8c65\", element=\"168fecff-c025-4d76-8e72-f4cf83244440\")>,\n",
       " <selenium.webdriver.remote.webelement.WebElement (session=\"0e00817e8f6832c5e316f4e4ab7d8c65\", element=\"5573c347-dcc9-438a-b4b3-f0da12b61275\")>,\n",
       " <selenium.webdriver.remote.webelement.WebElement (session=\"0e00817e8f6832c5e316f4e4ab7d8c65\", element=\"ffac32c0-0ce0-4fae-a8a5-786b3ce87efe\")>,\n",
       " <selenium.webdriver.remote.webelement.WebElement (session=\"0e00817e8f6832c5e316f4e4ab7d8c65\", element=\"11b7c0e8-8d4b-4496-939b-f34054749d70\")>]"
      ]
     },
     "execution_count": 86,
     "metadata": {},
     "output_type": "execute_result"
    }
   ],
   "source": [
    "jobavgsal=driver.find_elements_by_xpath(\"//div[@class='col-12 col-lg-4 px-lg-0 d-flex align-items-baseline']/h3\")\n",
    "jobavgsal"
   ]
  },
  {
   "cell_type": "code",
   "execution_count": 79,
   "id": "convertible-recycling",
   "metadata": {},
   "outputs": [
    {
     "data": {
      "text/plain": [
       "[<selenium.webdriver.remote.webelement.WebElement (session=\"0e00817e8f6832c5e316f4e4ab7d8c65\", element=\"49f56dda-b0f3-468c-960c-11452461727f\")>,\n",
       " <selenium.webdriver.remote.webelement.WebElement (session=\"0e00817e8f6832c5e316f4e4ab7d8c65\", element=\"1adbb59d-20f4-4cd3-8ab2-45df7d2f491a\")>,\n",
       " <selenium.webdriver.remote.webelement.WebElement (session=\"0e00817e8f6832c5e316f4e4ab7d8c65\", element=\"c70d37e2-264b-4c75-885b-1e11ab60e430\")>,\n",
       " <selenium.webdriver.remote.webelement.WebElement (session=\"0e00817e8f6832c5e316f4e4ab7d8c65\", element=\"5740f8f7-6b33-40ba-a1c3-b4f2a0b0c947\")>,\n",
       " <selenium.webdriver.remote.webelement.WebElement (session=\"0e00817e8f6832c5e316f4e4ab7d8c65\", element=\"9f1719f1-de03-4282-893c-3b404b546f79\")>,\n",
       " <selenium.webdriver.remote.webelement.WebElement (session=\"0e00817e8f6832c5e316f4e4ab7d8c65\", element=\"e026c7af-a44d-4706-965e-f7d31bcd2052\")>,\n",
       " <selenium.webdriver.remote.webelement.WebElement (session=\"0e00817e8f6832c5e316f4e4ab7d8c65\", element=\"12068db9-e47f-4dc7-a610-374392550833\")>,\n",
       " <selenium.webdriver.remote.webelement.WebElement (session=\"0e00817e8f6832c5e316f4e4ab7d8c65\", element=\"fa37f661-7bd4-4b67-969a-40ee4e97242d\")>,\n",
       " <selenium.webdriver.remote.webelement.WebElement (session=\"0e00817e8f6832c5e316f4e4ab7d8c65\", element=\"be27b9b6-2823-46ce-b904-b5f75b7399df\")>,\n",
       " <selenium.webdriver.remote.webelement.WebElement (session=\"0e00817e8f6832c5e316f4e4ab7d8c65\", element=\"21dee020-984e-46bd-82e0-45717df759e1\")>,\n",
       " <selenium.webdriver.remote.webelement.WebElement (session=\"0e00817e8f6832c5e316f4e4ab7d8c65\", element=\"07f369a0-a8d6-41c5-851f-76ae50754b1d\")>,\n",
       " <selenium.webdriver.remote.webelement.WebElement (session=\"0e00817e8f6832c5e316f4e4ab7d8c65\", element=\"1c3885f2-d5f9-4626-99bf-e64c1575e68d\")>,\n",
       " <selenium.webdriver.remote.webelement.WebElement (session=\"0e00817e8f6832c5e316f4e4ab7d8c65\", element=\"04047776-4624-4e92-83f8-aa7eaa5d3328\")>,\n",
       " <selenium.webdriver.remote.webelement.WebElement (session=\"0e00817e8f6832c5e316f4e4ab7d8c65\", element=\"6c122eed-5fb4-46e4-9971-695d07edc065\")>,\n",
       " <selenium.webdriver.remote.webelement.WebElement (session=\"0e00817e8f6832c5e316f4e4ab7d8c65\", element=\"2e2a0fa9-5448-49ca-845b-22b9d191c855\")>,\n",
       " <selenium.webdriver.remote.webelement.WebElement (session=\"0e00817e8f6832c5e316f4e4ab7d8c65\", element=\"e93f4750-27f1-4336-98d7-68e00a074178\")>,\n",
       " <selenium.webdriver.remote.webelement.WebElement (session=\"0e00817e8f6832c5e316f4e4ab7d8c65\", element=\"232d2abc-18ab-40dc-9bd6-adb8fdadbc2e\")>,\n",
       " <selenium.webdriver.remote.webelement.WebElement (session=\"0e00817e8f6832c5e316f4e4ab7d8c65\", element=\"f8441270-46f9-4d09-95d9-52d0568ef37f\")>,\n",
       " <selenium.webdriver.remote.webelement.WebElement (session=\"0e00817e8f6832c5e316f4e4ab7d8c65\", element=\"aaebd549-6b85-4e99-80e1-8143c8d92f53\")>,\n",
       " <selenium.webdriver.remote.webelement.WebElement (session=\"0e00817e8f6832c5e316f4e4ab7d8c65\", element=\"91033f12-6732-4ebe-a38c-1f09e853e589\")>]"
      ]
     },
     "execution_count": 79,
     "metadata": {},
     "output_type": "execute_result"
    }
   ],
   "source": [
    "jobrating=driver.find_elements_by_xpath(\"//span[@class='m-0 css-kyx745']\")\n",
    "jobrating"
   ]
  },
  {
   "cell_type": "code",
   "execution_count": 87,
   "id": "attended-remedy",
   "metadata": {},
   "outputs": [
    {
     "name": "stdout",
     "output_type": "stream",
     "text": [
      "['Tata Consultancy Services', 'Accenture', 'IBM', 'Ericsson-Worldwide', 'Delhivery', 'UnitedHealth Group', 'Valiance Solutions', 'ZS Associates', 'EXL Service', 'Optum Global Solutions']\n",
      "['Range: ₹343K - ₹1,095K', 'Range: ₹577K - ₹2,213K', 'Range: ₹586K - ₹2,730K', 'Range: ₹355K - ₹1,613K', 'Range: ₹450K - ₹11,622K', 'Range: ₹1,069K - ₹1,520K', 'Range: ₹502K - ₹1,465K', 'Range: ₹202K - ₹1,809K', 'Range: ₹575K - ₹1,520K', 'Range: ₹1,014K - ₹2,149K']\n",
      "['₹ 6,11,228', '₹ 11,46,533', '₹ 8,97,795', '₹ 7,38,057', '₹ 12,39,781', '₹ 13,36,142', '₹ 8,15,192', '₹ 11,35,221', '₹ 11,44,243', '₹ 14,13,288']\n"
     ]
    },
    {
     "data": {
      "text/plain": [
       "['3.9', '4', '3.9', '4', '3.8', '3.6', '4', '4', '3.6', '3.9']"
      ]
     },
     "execution_count": 87,
     "metadata": {},
     "output_type": "execute_result"
    }
   ],
   "source": [
    "Jobname=[]\n",
    "Jobmin=[]\n",
    "JobAvg=[]\n",
    "Jobrating=[]\n",
    "for i in jobname[:10]:\n",
    "    Jobname.append(i.text)\n",
    "print(Jobname)\n",
    "for i in jobminsal[:10]:\n",
    "    Jobmin.append(i.text)\n",
    "print(Jobmin)\n",
    "for i in jobavgsal[:10]:\n",
    "    JobAvg.append(i.text)\n",
    "print(JobAvg)\n",
    "for i in jobrating[:10]:\n",
    "    Jobrating.append(i.text)\n",
    "Jobrating"
   ]
  },
  {
   "cell_type": "code",
   "execution_count": 89,
   "id": "exposed-klein",
   "metadata": {},
   "outputs": [
    {
     "data": {
      "text/html": [
       "<div>\n",
       "<style scoped>\n",
       "    .dataframe tbody tr th:only-of-type {\n",
       "        vertical-align: middle;\n",
       "    }\n",
       "\n",
       "    .dataframe tbody tr th {\n",
       "        vertical-align: top;\n",
       "    }\n",
       "\n",
       "    .dataframe thead th {\n",
       "        text-align: right;\n",
       "    }\n",
       "</style>\n",
       "<table border=\"1\" class=\"dataframe\">\n",
       "  <thead>\n",
       "    <tr style=\"text-align: right;\">\n",
       "      <th></th>\n",
       "      <th>Company Name</th>\n",
       "      <th>Range</th>\n",
       "      <th>Average Salary</th>\n",
       "      <th>Rating</th>\n",
       "    </tr>\n",
       "  </thead>\n",
       "  <tbody>\n",
       "    <tr>\n",
       "      <th>0</th>\n",
       "      <td>Tata Consultancy Services</td>\n",
       "      <td>Range: ₹343K - ₹1,095K</td>\n",
       "      <td>₹ 6,11,228</td>\n",
       "      <td>3.9</td>\n",
       "    </tr>\n",
       "    <tr>\n",
       "      <th>1</th>\n",
       "      <td>Accenture</td>\n",
       "      <td>Range: ₹577K - ₹2,213K</td>\n",
       "      <td>₹ 11,46,533</td>\n",
       "      <td>4</td>\n",
       "    </tr>\n",
       "    <tr>\n",
       "      <th>2</th>\n",
       "      <td>IBM</td>\n",
       "      <td>Range: ₹586K - ₹2,730K</td>\n",
       "      <td>₹ 8,97,795</td>\n",
       "      <td>3.9</td>\n",
       "    </tr>\n",
       "    <tr>\n",
       "      <th>3</th>\n",
       "      <td>Ericsson-Worldwide</td>\n",
       "      <td>Range: ₹355K - ₹1,613K</td>\n",
       "      <td>₹ 7,38,057</td>\n",
       "      <td>4</td>\n",
       "    </tr>\n",
       "    <tr>\n",
       "      <th>4</th>\n",
       "      <td>Delhivery</td>\n",
       "      <td>Range: ₹450K - ₹11,622K</td>\n",
       "      <td>₹ 12,39,781</td>\n",
       "      <td>3.8</td>\n",
       "    </tr>\n",
       "    <tr>\n",
       "      <th>5</th>\n",
       "      <td>UnitedHealth Group</td>\n",
       "      <td>Range: ₹1,069K - ₹1,520K</td>\n",
       "      <td>₹ 13,36,142</td>\n",
       "      <td>3.6</td>\n",
       "    </tr>\n",
       "    <tr>\n",
       "      <th>6</th>\n",
       "      <td>Valiance Solutions</td>\n",
       "      <td>Range: ₹502K - ₹1,465K</td>\n",
       "      <td>₹ 8,15,192</td>\n",
       "      <td>4</td>\n",
       "    </tr>\n",
       "    <tr>\n",
       "      <th>7</th>\n",
       "      <td>ZS Associates</td>\n",
       "      <td>Range: ₹202K - ₹1,809K</td>\n",
       "      <td>₹ 11,35,221</td>\n",
       "      <td>4</td>\n",
       "    </tr>\n",
       "    <tr>\n",
       "      <th>8</th>\n",
       "      <td>EXL Service</td>\n",
       "      <td>Range: ₹575K - ₹1,520K</td>\n",
       "      <td>₹ 11,44,243</td>\n",
       "      <td>3.6</td>\n",
       "    </tr>\n",
       "    <tr>\n",
       "      <th>9</th>\n",
       "      <td>Optum Global Solutions</td>\n",
       "      <td>Range: ₹1,014K - ₹2,149K</td>\n",
       "      <td>₹ 14,13,288</td>\n",
       "      <td>3.9</td>\n",
       "    </tr>\n",
       "  </tbody>\n",
       "</table>\n",
       "</div>"
      ],
      "text/plain": [
       "                Company Name                     Range Average Salary Rating\n",
       "0  Tata Consultancy Services    Range: ₹343K - ₹1,095K     ₹ 6,11,228    3.9\n",
       "1                  Accenture    Range: ₹577K - ₹2,213K    ₹ 11,46,533      4\n",
       "2                        IBM    Range: ₹586K - ₹2,730K     ₹ 8,97,795    3.9\n",
       "3         Ericsson-Worldwide    Range: ₹355K - ₹1,613K     ₹ 7,38,057      4\n",
       "4                  Delhivery   Range: ₹450K - ₹11,622K    ₹ 12,39,781    3.8\n",
       "5         UnitedHealth Group  Range: ₹1,069K - ₹1,520K    ₹ 13,36,142    3.6\n",
       "6         Valiance Solutions    Range: ₹502K - ₹1,465K     ₹ 8,15,192      4\n",
       "7              ZS Associates    Range: ₹202K - ₹1,809K    ₹ 11,35,221      4\n",
       "8                EXL Service    Range: ₹575K - ₹1,520K    ₹ 11,44,243    3.6\n",
       "9     Optum Global Solutions  Range: ₹1,014K - ₹2,149K    ₹ 14,13,288    3.9"
      ]
     },
     "execution_count": 89,
     "metadata": {},
     "output_type": "execute_result"
    }
   ],
   "source": [
    "Glassdoor=pd.DataFrame({})\n",
    "Glassdoor['Company Name']=Jobname\n",
    "Glassdoor['Range']=Jobmin\n",
    "Glassdoor['Average Salary']=JobAvg\n",
    "Glassdoor['Rating']=Jobrating\n",
    "Glassdoor"
   ]
  },
  {
   "cell_type": "markdown",
   "id": "brown-chambers",
   "metadata": {},
   "source": [
    "We can also use split functino to get the min and max salary as well, for now I am fixing it as range"
   ]
  },
  {
   "cell_type": "markdown",
   "id": "interested-samuel",
   "metadata": {},
   "source": [
    "xxxxxxxxxxxxxxxxxxxxxxxxxxxxxxxxxxxxxx..........................................xxxxxxxxxxxxxxxxxxxxxxxxxxxxxxxxx"
   ]
  },
  {
   "cell_type": "markdown",
   "id": "unlike-bible",
   "metadata": {},
   "source": [
    "Q6"
   ]
  },
  {
   "cell_type": "code",
   "execution_count": 3,
   "id": "familiar-midwest",
   "metadata": {},
   "outputs": [],
   "source": [
    "driver = webdriver.Chrome('E:\\Data trained\\DataTrained_internship\\Data Scraping_selenium\\chromedriver')\n",
    "driver.get('https://www.flipkart.com')\n",
    "time.sleep(5)\n"
   ]
  },
  {
   "cell_type": "code",
   "execution_count": 4,
   "id": "southeast-raising",
   "metadata": {},
   "outputs": [
    {
     "data": {
      "text/plain": [
       "<selenium.webdriver.remote.webelement.WebElement (session=\"183aba291fb9cbe3b22171ef52994ee8\", element=\"e36c844c-8ad3-46ed-bfc4-100d437fc161\")>"
      ]
     },
     "execution_count": 4,
     "metadata": {},
     "output_type": "execute_result"
    }
   ],
   "source": [
    "search=driver.find_element_by_xpath(\"//input[@class = '_3704LK']\")\n",
    "search\n"
   ]
  },
  {
   "cell_type": "code",
   "execution_count": 5,
   "id": "oriented-permission",
   "metadata": {},
   "outputs": [],
   "source": [
    "search.send_keys('Sunglasses')"
   ]
  },
  {
   "cell_type": "code",
   "execution_count": 6,
   "id": "falling-sodium",
   "metadata": {},
   "outputs": [],
   "source": [
    "search_button = driver.find_element_by_xpath(\"//button[@class = 'L0Z3Pu']\")\n",
    "search_button.click()"
   ]
  },
  {
   "cell_type": "code",
   "execution_count": 7,
   "id": "foreign-dealing",
   "metadata": {},
   "outputs": [
    {
     "data": {
      "text/plain": [
       "[<selenium.webdriver.remote.webelement.WebElement (session=\"183aba291fb9cbe3b22171ef52994ee8\", element=\"3b42e611-db03-45a7-8005-3642e659b191\")>,\n",
       " <selenium.webdriver.remote.webelement.WebElement (session=\"183aba291fb9cbe3b22171ef52994ee8\", element=\"25ae0d6e-2d19-4ef2-a562-360149db5dd1\")>,\n",
       " <selenium.webdriver.remote.webelement.WebElement (session=\"183aba291fb9cbe3b22171ef52994ee8\", element=\"70431e1f-ddd3-4609-8e48-e0899ef2f5ac\")>,\n",
       " <selenium.webdriver.remote.webelement.WebElement (session=\"183aba291fb9cbe3b22171ef52994ee8\", element=\"05b12814-1a90-4ed7-bf97-0e0bfa0ed03e\")>,\n",
       " <selenium.webdriver.remote.webelement.WebElement (session=\"183aba291fb9cbe3b22171ef52994ee8\", element=\"93287bc7-3d12-4b57-bd5b-00bf2d6f77dd\")>,\n",
       " <selenium.webdriver.remote.webelement.WebElement (session=\"183aba291fb9cbe3b22171ef52994ee8\", element=\"d8ef8c5b-af77-48e9-88ea-501df96487a8\")>,\n",
       " <selenium.webdriver.remote.webelement.WebElement (session=\"183aba291fb9cbe3b22171ef52994ee8\", element=\"fae19f96-19c4-44e6-b68e-c76215d352d7\")>,\n",
       " <selenium.webdriver.remote.webelement.WebElement (session=\"183aba291fb9cbe3b22171ef52994ee8\", element=\"0551bfe2-5254-4bf2-9937-09d05c7adc33\")>,\n",
       " <selenium.webdriver.remote.webelement.WebElement (session=\"183aba291fb9cbe3b22171ef52994ee8\", element=\"2819e7d7-4196-4de3-bc8f-6c06b3996a15\")>,\n",
       " <selenium.webdriver.remote.webelement.WebElement (session=\"183aba291fb9cbe3b22171ef52994ee8\", element=\"c160b979-81f3-4103-8ffd-da5666ce3e75\")>,\n",
       " <selenium.webdriver.remote.webelement.WebElement (session=\"183aba291fb9cbe3b22171ef52994ee8\", element=\"6976f904-8343-4e04-bd44-2721776817b5\")>,\n",
       " <selenium.webdriver.remote.webelement.WebElement (session=\"183aba291fb9cbe3b22171ef52994ee8\", element=\"b57e8229-9407-4e09-ad30-118c806fa060\")>,\n",
       " <selenium.webdriver.remote.webelement.WebElement (session=\"183aba291fb9cbe3b22171ef52994ee8\", element=\"7cd8eb3c-8144-46c3-a4da-3840c1838e65\")>,\n",
       " <selenium.webdriver.remote.webelement.WebElement (session=\"183aba291fb9cbe3b22171ef52994ee8\", element=\"e89417d9-b469-488e-b533-27885ff00fc7\")>,\n",
       " <selenium.webdriver.remote.webelement.WebElement (session=\"183aba291fb9cbe3b22171ef52994ee8\", element=\"3203262d-14b8-4453-8178-c7f267c56169\")>,\n",
       " <selenium.webdriver.remote.webelement.WebElement (session=\"183aba291fb9cbe3b22171ef52994ee8\", element=\"fb7745ec-951f-4ec9-85d1-c4b718228634\")>,\n",
       " <selenium.webdriver.remote.webelement.WebElement (session=\"183aba291fb9cbe3b22171ef52994ee8\", element=\"49175737-9f5a-4cf3-9c6d-6dd0df771b8c\")>,\n",
       " <selenium.webdriver.remote.webelement.WebElement (session=\"183aba291fb9cbe3b22171ef52994ee8\", element=\"113c03ea-91b0-4b96-9c75-3184f2c4a545\")>,\n",
       " <selenium.webdriver.remote.webelement.WebElement (session=\"183aba291fb9cbe3b22171ef52994ee8\", element=\"5bc1fe05-a3d4-438a-8282-3652a0844d42\")>,\n",
       " <selenium.webdriver.remote.webelement.WebElement (session=\"183aba291fb9cbe3b22171ef52994ee8\", element=\"e141b1f3-1f2c-4256-9eab-b817abfa78da\")>,\n",
       " <selenium.webdriver.remote.webelement.WebElement (session=\"183aba291fb9cbe3b22171ef52994ee8\", element=\"a560b08c-ece9-4c3b-a544-48a8ed3b1a1d\")>,\n",
       " <selenium.webdriver.remote.webelement.WebElement (session=\"183aba291fb9cbe3b22171ef52994ee8\", element=\"0b6c0a0c-f487-490f-aaf9-d08afe7c9c4e\")>,\n",
       " <selenium.webdriver.remote.webelement.WebElement (session=\"183aba291fb9cbe3b22171ef52994ee8\", element=\"619473c5-c878-4046-8be8-2c8154ec8d32\")>,\n",
       " <selenium.webdriver.remote.webelement.WebElement (session=\"183aba291fb9cbe3b22171ef52994ee8\", element=\"7b61526e-1c00-4ff0-b043-93aceb15e1b1\")>,\n",
       " <selenium.webdriver.remote.webelement.WebElement (session=\"183aba291fb9cbe3b22171ef52994ee8\", element=\"aa7beec6-121c-4773-ad8a-f7c1b532f000\")>,\n",
       " <selenium.webdriver.remote.webelement.WebElement (session=\"183aba291fb9cbe3b22171ef52994ee8\", element=\"f6d2a211-8711-45f1-8550-7c5e88bbd16b\")>,\n",
       " <selenium.webdriver.remote.webelement.WebElement (session=\"183aba291fb9cbe3b22171ef52994ee8\", element=\"35ce4770-d307-449f-8cbd-587d06f7499f\")>,\n",
       " <selenium.webdriver.remote.webelement.WebElement (session=\"183aba291fb9cbe3b22171ef52994ee8\", element=\"607d4770-956d-47b5-84a4-a2340285e266\")>,\n",
       " <selenium.webdriver.remote.webelement.WebElement (session=\"183aba291fb9cbe3b22171ef52994ee8\", element=\"5d39061d-4e86-4062-b132-e7e8c4b9a269\")>,\n",
       " <selenium.webdriver.remote.webelement.WebElement (session=\"183aba291fb9cbe3b22171ef52994ee8\", element=\"758eeb4e-7910-432d-87bb-8ba78312dc43\")>,\n",
       " <selenium.webdriver.remote.webelement.WebElement (session=\"183aba291fb9cbe3b22171ef52994ee8\", element=\"1900664c-11d1-4d8a-99b7-dc0263346de7\")>,\n",
       " <selenium.webdriver.remote.webelement.WebElement (session=\"183aba291fb9cbe3b22171ef52994ee8\", element=\"ec1043de-1083-47c6-9a49-fefedfbe6b75\")>,\n",
       " <selenium.webdriver.remote.webelement.WebElement (session=\"183aba291fb9cbe3b22171ef52994ee8\", element=\"fbf9e138-69b1-4f68-b85a-c0371a6234a5\")>,\n",
       " <selenium.webdriver.remote.webelement.WebElement (session=\"183aba291fb9cbe3b22171ef52994ee8\", element=\"d443160e-fd2d-4f00-beed-ccf48fff6902\")>,\n",
       " <selenium.webdriver.remote.webelement.WebElement (session=\"183aba291fb9cbe3b22171ef52994ee8\", element=\"31d8e63a-7516-4f3e-9be3-d48f6bf83d68\")>,\n",
       " <selenium.webdriver.remote.webelement.WebElement (session=\"183aba291fb9cbe3b22171ef52994ee8\", element=\"2376553f-7d45-4066-8dbe-70595214442f\")>,\n",
       " <selenium.webdriver.remote.webelement.WebElement (session=\"183aba291fb9cbe3b22171ef52994ee8\", element=\"2769498c-2679-4af5-a78e-dba45631a378\")>,\n",
       " <selenium.webdriver.remote.webelement.WebElement (session=\"183aba291fb9cbe3b22171ef52994ee8\", element=\"b96a786e-6d6f-47e2-acfa-263bcc0c2cce\")>,\n",
       " <selenium.webdriver.remote.webelement.WebElement (session=\"183aba291fb9cbe3b22171ef52994ee8\", element=\"e2ac89c8-5b9c-49e3-aa9e-d3defefcd72f\")>,\n",
       " <selenium.webdriver.remote.webelement.WebElement (session=\"183aba291fb9cbe3b22171ef52994ee8\", element=\"f0b7ded2-bb64-4822-8e90-2d9af3b34ead\")>]"
      ]
     },
     "execution_count": 7,
     "metadata": {},
     "output_type": "execute_result"
    }
   ],
   "source": [
    "brand=driver.find_elements_by_xpath(\"//div[@class='_2WkVRV']\")\n",
    "brand"
   ]
  },
  {
   "cell_type": "code",
   "execution_count": 8,
   "id": "regulation-appraisal",
   "metadata": {},
   "outputs": [
    {
     "data": {
      "text/plain": [
       "[<selenium.webdriver.remote.webelement.WebElement (session=\"183aba291fb9cbe3b22171ef52994ee8\", element=\"0abe9448-0ab8-4473-b5bc-a2bc9f28892d\")>,\n",
       " <selenium.webdriver.remote.webelement.WebElement (session=\"183aba291fb9cbe3b22171ef52994ee8\", element=\"c7c1fbfd-33b4-4a3f-8780-e78abefacd8e\")>,\n",
       " <selenium.webdriver.remote.webelement.WebElement (session=\"183aba291fb9cbe3b22171ef52994ee8\", element=\"b4ce2112-7e29-41dd-afd9-16fe43234990\")>,\n",
       " <selenium.webdriver.remote.webelement.WebElement (session=\"183aba291fb9cbe3b22171ef52994ee8\", element=\"c94aac12-adce-4f50-872c-412e951982d0\")>,\n",
       " <selenium.webdriver.remote.webelement.WebElement (session=\"183aba291fb9cbe3b22171ef52994ee8\", element=\"deb3c218-3d95-4161-85d6-fb82fa34b6a7\")>,\n",
       " <selenium.webdriver.remote.webelement.WebElement (session=\"183aba291fb9cbe3b22171ef52994ee8\", element=\"3fe0b6c2-5e11-4b30-a196-699615962693\")>,\n",
       " <selenium.webdriver.remote.webelement.WebElement (session=\"183aba291fb9cbe3b22171ef52994ee8\", element=\"554a832f-cbe4-4eca-b7e0-e432222fc2c6\")>,\n",
       " <selenium.webdriver.remote.webelement.WebElement (session=\"183aba291fb9cbe3b22171ef52994ee8\", element=\"a10472eb-86cd-4b35-ba91-06769ff45176\")>,\n",
       " <selenium.webdriver.remote.webelement.WebElement (session=\"183aba291fb9cbe3b22171ef52994ee8\", element=\"c5ce14ab-506b-4439-a168-080b68500606\")>,\n",
       " <selenium.webdriver.remote.webelement.WebElement (session=\"183aba291fb9cbe3b22171ef52994ee8\", element=\"ed53e430-630a-495b-90a5-18c9b9f5e11c\")>,\n",
       " <selenium.webdriver.remote.webelement.WebElement (session=\"183aba291fb9cbe3b22171ef52994ee8\", element=\"8d29f636-cec3-4312-80b6-cf56b568149e\")>,\n",
       " <selenium.webdriver.remote.webelement.WebElement (session=\"183aba291fb9cbe3b22171ef52994ee8\", element=\"9e5b40d7-c11d-47e9-ac06-547a469ac25d\")>,\n",
       " <selenium.webdriver.remote.webelement.WebElement (session=\"183aba291fb9cbe3b22171ef52994ee8\", element=\"2998549a-0971-4e2d-8ced-4136579a297b\")>,\n",
       " <selenium.webdriver.remote.webelement.WebElement (session=\"183aba291fb9cbe3b22171ef52994ee8\", element=\"561203a7-9e9e-4b7a-b9be-dfb8638aed67\")>,\n",
       " <selenium.webdriver.remote.webelement.WebElement (session=\"183aba291fb9cbe3b22171ef52994ee8\", element=\"98b4aaf9-e15a-4f6b-8544-d78360e6d30e\")>,\n",
       " <selenium.webdriver.remote.webelement.WebElement (session=\"183aba291fb9cbe3b22171ef52994ee8\", element=\"8e3dbd54-327c-4e7b-957d-56ab5e739f46\")>,\n",
       " <selenium.webdriver.remote.webelement.WebElement (session=\"183aba291fb9cbe3b22171ef52994ee8\", element=\"7ee0e056-783a-4d24-9e54-616f4e5b7f9d\")>,\n",
       " <selenium.webdriver.remote.webelement.WebElement (session=\"183aba291fb9cbe3b22171ef52994ee8\", element=\"3f117a4f-f8b0-4dfc-b9c9-fcdf5a944321\")>,\n",
       " <selenium.webdriver.remote.webelement.WebElement (session=\"183aba291fb9cbe3b22171ef52994ee8\", element=\"98117434-b38e-4653-8c73-17e6420bfee8\")>,\n",
       " <selenium.webdriver.remote.webelement.WebElement (session=\"183aba291fb9cbe3b22171ef52994ee8\", element=\"7c7aff94-0175-4ad1-bdb9-db552ff9f460\")>,\n",
       " <selenium.webdriver.remote.webelement.WebElement (session=\"183aba291fb9cbe3b22171ef52994ee8\", element=\"815936c9-cae8-4319-8e3e-250ef2a47fcf\")>,\n",
       " <selenium.webdriver.remote.webelement.WebElement (session=\"183aba291fb9cbe3b22171ef52994ee8\", element=\"833f21f2-84cb-42d7-b8ad-2c0485ed9f17\")>,\n",
       " <selenium.webdriver.remote.webelement.WebElement (session=\"183aba291fb9cbe3b22171ef52994ee8\", element=\"4e3b5593-9243-4533-a210-ed47d357fba4\")>,\n",
       " <selenium.webdriver.remote.webelement.WebElement (session=\"183aba291fb9cbe3b22171ef52994ee8\", element=\"4a59e087-3d98-4fc6-a8d9-68d91cfdb266\")>,\n",
       " <selenium.webdriver.remote.webelement.WebElement (session=\"183aba291fb9cbe3b22171ef52994ee8\", element=\"9db641c5-a9ce-404d-ad1e-f496d6bdc894\")>,\n",
       " <selenium.webdriver.remote.webelement.WebElement (session=\"183aba291fb9cbe3b22171ef52994ee8\", element=\"cd0b6d90-47fb-4b41-b919-f9e12a3d683e\")>,\n",
       " <selenium.webdriver.remote.webelement.WebElement (session=\"183aba291fb9cbe3b22171ef52994ee8\", element=\"edf84571-652e-4c01-8b84-eb7a81f830c3\")>,\n",
       " <selenium.webdriver.remote.webelement.WebElement (session=\"183aba291fb9cbe3b22171ef52994ee8\", element=\"130977db-5678-46af-b6db-4dfc182fb26f\")>,\n",
       " <selenium.webdriver.remote.webelement.WebElement (session=\"183aba291fb9cbe3b22171ef52994ee8\", element=\"ae201769-b303-4ea2-b1f4-06edf2c51616\")>,\n",
       " <selenium.webdriver.remote.webelement.WebElement (session=\"183aba291fb9cbe3b22171ef52994ee8\", element=\"2acba8d1-fc01-4246-8568-4dbdf6a6f1f3\")>,\n",
       " <selenium.webdriver.remote.webelement.WebElement (session=\"183aba291fb9cbe3b22171ef52994ee8\", element=\"a40a251f-cdcc-494b-83e8-1f85b15c12f9\")>,\n",
       " <selenium.webdriver.remote.webelement.WebElement (session=\"183aba291fb9cbe3b22171ef52994ee8\", element=\"c494fe66-a3f2-4240-bc32-8ce121760766\")>,\n",
       " <selenium.webdriver.remote.webelement.WebElement (session=\"183aba291fb9cbe3b22171ef52994ee8\", element=\"66e83b68-9d64-418e-81bd-1e313d44e8d4\")>,\n",
       " <selenium.webdriver.remote.webelement.WebElement (session=\"183aba291fb9cbe3b22171ef52994ee8\", element=\"55163576-f24a-4899-a5a2-f1b7eb7021aa\")>,\n",
       " <selenium.webdriver.remote.webelement.WebElement (session=\"183aba291fb9cbe3b22171ef52994ee8\", element=\"240e82b1-ec21-4b7f-bbe4-55e34b2dd1a9\")>,\n",
       " <selenium.webdriver.remote.webelement.WebElement (session=\"183aba291fb9cbe3b22171ef52994ee8\", element=\"ba384f32-2bc1-4a14-baea-36da712b932a\")>,\n",
       " <selenium.webdriver.remote.webelement.WebElement (session=\"183aba291fb9cbe3b22171ef52994ee8\", element=\"5a32d7f3-f9e2-4627-b92a-02b1c264ba96\")>,\n",
       " <selenium.webdriver.remote.webelement.WebElement (session=\"183aba291fb9cbe3b22171ef52994ee8\", element=\"f6164f96-f771-451d-8397-6421c48e9c4d\")>,\n",
       " <selenium.webdriver.remote.webelement.WebElement (session=\"183aba291fb9cbe3b22171ef52994ee8\", element=\"2b9b8a73-2a04-43e3-9507-199f7df7382e\")>,\n",
       " <selenium.webdriver.remote.webelement.WebElement (session=\"183aba291fb9cbe3b22171ef52994ee8\", element=\"44c1603b-4204-4038-b337-886b8f112d0f\")>]"
      ]
     },
     "execution_count": 8,
     "metadata": {},
     "output_type": "execute_result"
    }
   ],
   "source": [
    "desc=driver.find_elements_by_xpath(\"//a[@class='IRpwTa']\")\n",
    "desc"
   ]
  },
  {
   "cell_type": "code",
   "execution_count": 9,
   "id": "working-plane",
   "metadata": {},
   "outputs": [
    {
     "data": {
      "text/plain": [
       "[<selenium.webdriver.remote.webelement.WebElement (session=\"183aba291fb9cbe3b22171ef52994ee8\", element=\"5d8c779e-5cac-4f8f-9d3e-029adde555d0\")>,\n",
       " <selenium.webdriver.remote.webelement.WebElement (session=\"183aba291fb9cbe3b22171ef52994ee8\", element=\"02948504-b250-4915-85df-f69c695c12a8\")>,\n",
       " <selenium.webdriver.remote.webelement.WebElement (session=\"183aba291fb9cbe3b22171ef52994ee8\", element=\"f5da569a-67ee-49d5-b71a-b8841c7590d7\")>,\n",
       " <selenium.webdriver.remote.webelement.WebElement (session=\"183aba291fb9cbe3b22171ef52994ee8\", element=\"73cae849-b0d1-4760-8b35-ef7919c3b5a1\")>,\n",
       " <selenium.webdriver.remote.webelement.WebElement (session=\"183aba291fb9cbe3b22171ef52994ee8\", element=\"403ae359-1be3-47e2-806e-8870694fee73\")>,\n",
       " <selenium.webdriver.remote.webelement.WebElement (session=\"183aba291fb9cbe3b22171ef52994ee8\", element=\"29b91928-4680-42c7-b7c2-5f8333ed569d\")>,\n",
       " <selenium.webdriver.remote.webelement.WebElement (session=\"183aba291fb9cbe3b22171ef52994ee8\", element=\"35888bf5-e19f-4539-a813-59f696962c2b\")>,\n",
       " <selenium.webdriver.remote.webelement.WebElement (session=\"183aba291fb9cbe3b22171ef52994ee8\", element=\"a5b34704-2731-4a4c-9c07-fc7379cea328\")>,\n",
       " <selenium.webdriver.remote.webelement.WebElement (session=\"183aba291fb9cbe3b22171ef52994ee8\", element=\"ab758e36-a11b-442d-9030-dd80c122bf2c\")>,\n",
       " <selenium.webdriver.remote.webelement.WebElement (session=\"183aba291fb9cbe3b22171ef52994ee8\", element=\"877efa5f-80e2-48e4-92da-b39477a9dc3b\")>,\n",
       " <selenium.webdriver.remote.webelement.WebElement (session=\"183aba291fb9cbe3b22171ef52994ee8\", element=\"54d06b68-30ce-4f8a-bd2c-b433f61435ae\")>,\n",
       " <selenium.webdriver.remote.webelement.WebElement (session=\"183aba291fb9cbe3b22171ef52994ee8\", element=\"1ec42cff-e4d7-4b06-83c4-f499faf17c2d\")>,\n",
       " <selenium.webdriver.remote.webelement.WebElement (session=\"183aba291fb9cbe3b22171ef52994ee8\", element=\"a4083151-8046-434f-970b-4ef1545690a7\")>,\n",
       " <selenium.webdriver.remote.webelement.WebElement (session=\"183aba291fb9cbe3b22171ef52994ee8\", element=\"25bcd0d2-2bae-4707-97e2-c3e2c941c4ab\")>,\n",
       " <selenium.webdriver.remote.webelement.WebElement (session=\"183aba291fb9cbe3b22171ef52994ee8\", element=\"0fa051ad-a8cf-412d-9247-0902ceaa40cb\")>,\n",
       " <selenium.webdriver.remote.webelement.WebElement (session=\"183aba291fb9cbe3b22171ef52994ee8\", element=\"e5aa85a0-e7d5-4c1b-bd98-62dfa874fc5c\")>,\n",
       " <selenium.webdriver.remote.webelement.WebElement (session=\"183aba291fb9cbe3b22171ef52994ee8\", element=\"54480e14-d33e-4d8d-a97f-a5c82d2b278b\")>,\n",
       " <selenium.webdriver.remote.webelement.WebElement (session=\"183aba291fb9cbe3b22171ef52994ee8\", element=\"a7aaabea-aae3-423e-9e42-f11644bb3b80\")>,\n",
       " <selenium.webdriver.remote.webelement.WebElement (session=\"183aba291fb9cbe3b22171ef52994ee8\", element=\"52720bb7-4a29-4e5e-9e9f-779a0d525ac3\")>,\n",
       " <selenium.webdriver.remote.webelement.WebElement (session=\"183aba291fb9cbe3b22171ef52994ee8\", element=\"3c8e18b0-5d4d-457f-85e9-89735bc23bb1\")>,\n",
       " <selenium.webdriver.remote.webelement.WebElement (session=\"183aba291fb9cbe3b22171ef52994ee8\", element=\"4ddf2f70-6815-4f0d-b20b-beef862c4b3d\")>,\n",
       " <selenium.webdriver.remote.webelement.WebElement (session=\"183aba291fb9cbe3b22171ef52994ee8\", element=\"9ec55a53-5474-4933-8f18-759144c45282\")>,\n",
       " <selenium.webdriver.remote.webelement.WebElement (session=\"183aba291fb9cbe3b22171ef52994ee8\", element=\"9691f093-b1cc-4411-975d-ecdfa5060549\")>,\n",
       " <selenium.webdriver.remote.webelement.WebElement (session=\"183aba291fb9cbe3b22171ef52994ee8\", element=\"aa2fc7a8-0009-4ba9-97a7-b03a8bc8b67c\")>,\n",
       " <selenium.webdriver.remote.webelement.WebElement (session=\"183aba291fb9cbe3b22171ef52994ee8\", element=\"7d58ed84-12dd-4d62-92e6-dbceb8393fc5\")>,\n",
       " <selenium.webdriver.remote.webelement.WebElement (session=\"183aba291fb9cbe3b22171ef52994ee8\", element=\"cb5ebee9-ed1d-47df-82de-60e004e74851\")>,\n",
       " <selenium.webdriver.remote.webelement.WebElement (session=\"183aba291fb9cbe3b22171ef52994ee8\", element=\"75646527-c971-455a-a2f2-d789ba449972\")>,\n",
       " <selenium.webdriver.remote.webelement.WebElement (session=\"183aba291fb9cbe3b22171ef52994ee8\", element=\"887ea8d1-71f6-4e40-b616-6d2bb886c174\")>,\n",
       " <selenium.webdriver.remote.webelement.WebElement (session=\"183aba291fb9cbe3b22171ef52994ee8\", element=\"e8e7add8-5abf-491d-afa6-d158672fc8f3\")>,\n",
       " <selenium.webdriver.remote.webelement.WebElement (session=\"183aba291fb9cbe3b22171ef52994ee8\", element=\"0109995a-99f5-4fc7-af29-a5cb5a0527e0\")>,\n",
       " <selenium.webdriver.remote.webelement.WebElement (session=\"183aba291fb9cbe3b22171ef52994ee8\", element=\"d6bcddfb-006d-46a0-b021-0918e3e41a3b\")>,\n",
       " <selenium.webdriver.remote.webelement.WebElement (session=\"183aba291fb9cbe3b22171ef52994ee8\", element=\"5085b10f-95c1-48d0-8c09-36ba82ad4a75\")>,\n",
       " <selenium.webdriver.remote.webelement.WebElement (session=\"183aba291fb9cbe3b22171ef52994ee8\", element=\"78cdebfa-7842-4706-9e8b-339448223315\")>,\n",
       " <selenium.webdriver.remote.webelement.WebElement (session=\"183aba291fb9cbe3b22171ef52994ee8\", element=\"f4faf1ea-347f-4dcd-985d-78f0da2b6c47\")>,\n",
       " <selenium.webdriver.remote.webelement.WebElement (session=\"183aba291fb9cbe3b22171ef52994ee8\", element=\"153b0f1f-b8df-4967-925f-b9c8f07c9843\")>,\n",
       " <selenium.webdriver.remote.webelement.WebElement (session=\"183aba291fb9cbe3b22171ef52994ee8\", element=\"fd77d36d-e351-4eb2-95bd-fc15b912a342\")>,\n",
       " <selenium.webdriver.remote.webelement.WebElement (session=\"183aba291fb9cbe3b22171ef52994ee8\", element=\"762fa25e-7df5-4080-aba8-9186b9c2476a\")>,\n",
       " <selenium.webdriver.remote.webelement.WebElement (session=\"183aba291fb9cbe3b22171ef52994ee8\", element=\"49514ad2-a8de-4906-a6ed-b33daa8c10d5\")>,\n",
       " <selenium.webdriver.remote.webelement.WebElement (session=\"183aba291fb9cbe3b22171ef52994ee8\", element=\"194ca976-f3c1-445e-8f2f-7e686723d9db\")>,\n",
       " <selenium.webdriver.remote.webelement.WebElement (session=\"183aba291fb9cbe3b22171ef52994ee8\", element=\"6bbce6fb-9543-48da-8745-035cd69ca6fb\")>]"
      ]
     },
     "execution_count": 9,
     "metadata": {},
     "output_type": "execute_result"
    }
   ],
   "source": [
    "price=driver.find_elements_by_xpath(\"//div[@class='_30jeq3']\")\n",
    "price"
   ]
  },
  {
   "cell_type": "code",
   "execution_count": 10,
   "id": "ancient-force",
   "metadata": {},
   "outputs": [
    {
     "data": {
      "text/plain": [
       "[<selenium.webdriver.remote.webelement.WebElement (session=\"183aba291fb9cbe3b22171ef52994ee8\", element=\"40f20df8-06e1-4065-a2ab-89e554919074\")>,\n",
       " <selenium.webdriver.remote.webelement.WebElement (session=\"183aba291fb9cbe3b22171ef52994ee8\", element=\"250546d7-50cc-460c-8282-0bf8c235ec2d\")>,\n",
       " <selenium.webdriver.remote.webelement.WebElement (session=\"183aba291fb9cbe3b22171ef52994ee8\", element=\"2bb27210-1f85-4787-8d3b-1826a1503f6b\")>,\n",
       " <selenium.webdriver.remote.webelement.WebElement (session=\"183aba291fb9cbe3b22171ef52994ee8\", element=\"d7dc6e58-4609-4b0b-93d8-0aca51b10524\")>,\n",
       " <selenium.webdriver.remote.webelement.WebElement (session=\"183aba291fb9cbe3b22171ef52994ee8\", element=\"a325dbba-cff5-4663-846d-05cb03b32bbd\")>,\n",
       " <selenium.webdriver.remote.webelement.WebElement (session=\"183aba291fb9cbe3b22171ef52994ee8\", element=\"71057fa0-478b-467a-b7a7-caa8d8a7a194\")>,\n",
       " <selenium.webdriver.remote.webelement.WebElement (session=\"183aba291fb9cbe3b22171ef52994ee8\", element=\"98ffdaf1-bd5e-4389-80bf-340b774beeb7\")>,\n",
       " <selenium.webdriver.remote.webelement.WebElement (session=\"183aba291fb9cbe3b22171ef52994ee8\", element=\"1e15e747-0a93-4b8b-86ba-7ed1c4f19fb5\")>,\n",
       " <selenium.webdriver.remote.webelement.WebElement (session=\"183aba291fb9cbe3b22171ef52994ee8\", element=\"064ac3ea-1fab-4e81-b223-7cea377e215b\")>,\n",
       " <selenium.webdriver.remote.webelement.WebElement (session=\"183aba291fb9cbe3b22171ef52994ee8\", element=\"a2d0b117-39b8-4304-afe7-166f574035a0\")>,\n",
       " <selenium.webdriver.remote.webelement.WebElement (session=\"183aba291fb9cbe3b22171ef52994ee8\", element=\"d84cbc20-4cee-4b37-aa69-4aed21a882af\")>,\n",
       " <selenium.webdriver.remote.webelement.WebElement (session=\"183aba291fb9cbe3b22171ef52994ee8\", element=\"84d3db7c-591f-49c5-a639-85976c1689ab\")>,\n",
       " <selenium.webdriver.remote.webelement.WebElement (session=\"183aba291fb9cbe3b22171ef52994ee8\", element=\"b87a474d-c307-4876-8977-8df0f5939e04\")>,\n",
       " <selenium.webdriver.remote.webelement.WebElement (session=\"183aba291fb9cbe3b22171ef52994ee8\", element=\"6db1dd36-172f-48fc-bd56-6c2147b97f8b\")>,\n",
       " <selenium.webdriver.remote.webelement.WebElement (session=\"183aba291fb9cbe3b22171ef52994ee8\", element=\"a7f5c068-1002-48c1-b38c-6d5937483f47\")>,\n",
       " <selenium.webdriver.remote.webelement.WebElement (session=\"183aba291fb9cbe3b22171ef52994ee8\", element=\"18d09794-665b-4bb9-8881-a864c6a271a9\")>,\n",
       " <selenium.webdriver.remote.webelement.WebElement (session=\"183aba291fb9cbe3b22171ef52994ee8\", element=\"bbfc9a29-39cd-48f8-b7fb-2d73bdf89793\")>,\n",
       " <selenium.webdriver.remote.webelement.WebElement (session=\"183aba291fb9cbe3b22171ef52994ee8\", element=\"45f1dc19-01d1-43cc-a322-827d287c1dd2\")>,\n",
       " <selenium.webdriver.remote.webelement.WebElement (session=\"183aba291fb9cbe3b22171ef52994ee8\", element=\"d1013494-5c0f-4ae7-b09a-1c5b0517ca52\")>,\n",
       " <selenium.webdriver.remote.webelement.WebElement (session=\"183aba291fb9cbe3b22171ef52994ee8\", element=\"380ec371-bce6-4a3f-b05a-dc8ecfad0d65\")>,\n",
       " <selenium.webdriver.remote.webelement.WebElement (session=\"183aba291fb9cbe3b22171ef52994ee8\", element=\"3632c019-eead-4d4b-aaf6-6966481a426f\")>,\n",
       " <selenium.webdriver.remote.webelement.WebElement (session=\"183aba291fb9cbe3b22171ef52994ee8\", element=\"148658b5-d605-49fd-9510-3a4274a4716b\")>,\n",
       " <selenium.webdriver.remote.webelement.WebElement (session=\"183aba291fb9cbe3b22171ef52994ee8\", element=\"646a9dfc-e5d0-4d9f-9734-c3a3432df791\")>,\n",
       " <selenium.webdriver.remote.webelement.WebElement (session=\"183aba291fb9cbe3b22171ef52994ee8\", element=\"d87bb946-20bf-4f61-a111-6e6ec7150209\")>,\n",
       " <selenium.webdriver.remote.webelement.WebElement (session=\"183aba291fb9cbe3b22171ef52994ee8\", element=\"ee355ec7-cc0b-429f-92b0-9dd335b56794\")>,\n",
       " <selenium.webdriver.remote.webelement.WebElement (session=\"183aba291fb9cbe3b22171ef52994ee8\", element=\"08a6bf49-7596-43ad-be99-0243575e00a9\")>,\n",
       " <selenium.webdriver.remote.webelement.WebElement (session=\"183aba291fb9cbe3b22171ef52994ee8\", element=\"3d1ccd46-115b-440b-8195-27884d14660a\")>,\n",
       " <selenium.webdriver.remote.webelement.WebElement (session=\"183aba291fb9cbe3b22171ef52994ee8\", element=\"50f62ef8-c123-47cc-83c9-64b41286fec8\")>,\n",
       " <selenium.webdriver.remote.webelement.WebElement (session=\"183aba291fb9cbe3b22171ef52994ee8\", element=\"a79b7ad4-b8f2-4f21-8905-6489bacdba3e\")>,\n",
       " <selenium.webdriver.remote.webelement.WebElement (session=\"183aba291fb9cbe3b22171ef52994ee8\", element=\"c787800c-ec00-4230-8625-3b11b8cbef30\")>,\n",
       " <selenium.webdriver.remote.webelement.WebElement (session=\"183aba291fb9cbe3b22171ef52994ee8\", element=\"ed263054-ba6b-4b19-81b8-259e3298a12a\")>,\n",
       " <selenium.webdriver.remote.webelement.WebElement (session=\"183aba291fb9cbe3b22171ef52994ee8\", element=\"2c2d5b36-7582-4645-bf0a-9d2549b5c6d4\")>,\n",
       " <selenium.webdriver.remote.webelement.WebElement (session=\"183aba291fb9cbe3b22171ef52994ee8\", element=\"b64c5cc7-75be-41e7-b1eb-cee4b54e95a7\")>,\n",
       " <selenium.webdriver.remote.webelement.WebElement (session=\"183aba291fb9cbe3b22171ef52994ee8\", element=\"39f823de-3f20-4308-bcd9-edda9388d73c\")>,\n",
       " <selenium.webdriver.remote.webelement.WebElement (session=\"183aba291fb9cbe3b22171ef52994ee8\", element=\"9be6f013-0ab5-47b6-98a0-63f0d0ff7cfd\")>,\n",
       " <selenium.webdriver.remote.webelement.WebElement (session=\"183aba291fb9cbe3b22171ef52994ee8\", element=\"73a93afb-e01e-4cc6-8fc7-b7e2fbb87dd9\")>,\n",
       " <selenium.webdriver.remote.webelement.WebElement (session=\"183aba291fb9cbe3b22171ef52994ee8\", element=\"d43bfff6-861f-42ee-9d74-bae371cf268c\")>,\n",
       " <selenium.webdriver.remote.webelement.WebElement (session=\"183aba291fb9cbe3b22171ef52994ee8\", element=\"7af90d42-48b3-4544-8a74-8604530f0e27\")>,\n",
       " <selenium.webdriver.remote.webelement.WebElement (session=\"183aba291fb9cbe3b22171ef52994ee8\", element=\"3a46ce22-6349-4e60-bb70-b265a38e56b5\")>,\n",
       " <selenium.webdriver.remote.webelement.WebElement (session=\"183aba291fb9cbe3b22171ef52994ee8\", element=\"d7317f0b-c329-40d1-874b-e5bc0fde4249\")>]"
      ]
     },
     "execution_count": 10,
     "metadata": {},
     "output_type": "execute_result"
    }
   ],
   "source": [
    "discount=driver.find_elements_by_xpath(\"//div[@class='_3Ay6Sb']\")\n",
    "discount\n"
   ]
  },
  {
   "cell_type": "markdown",
   "id": "elect-trash",
   "metadata": {},
   "source": [
    "Let us create a table and for others we will scrape and add."
   ]
  },
  {
   "cell_type": "code",
   "execution_count": 11,
   "id": "japanese-government",
   "metadata": {},
   "outputs": [],
   "source": [
    "model=[]\n",
    "description=[]\n",
    "mrp=[]\n",
    "disco=[]"
   ]
  },
  {
   "cell_type": "code",
   "execution_count": 12,
   "id": "removable-signature",
   "metadata": {},
   "outputs": [
    {
     "name": "stdout",
     "output_type": "stream",
     "text": [
      "['Fastrack', 'Fastrack', 'Fastrack', 'ROZZETTA CRAFT', 'ROZZETTA CRAFT', 'NuVew', 'ROZZETTA CRAFT', 'PIRASO', 'Fastrack', 'Fastrack', 'DEIXELS', 'Silver Kartz', 'Fastrack', 'Fastrack', 'ROZZETTA CRAFT', 'PIRASO', 'PHENOMENAL', 'PHENOMENAL', 'Singco India', 'Fastrack', 'Fastrack', 'hipe', 'Singco India', 'Fastrack', 'Fastrack', 'ROZZETTA CRAFT', 'ROYAL SON', 'AISLIN', 'ROYAL SON', 'Fastrack', 'PHENOMENAL', 'Flizz', 'DEIXELS', 'HIPPON', 'ROZZETTA CRAFT', 'Fastrack', 'Fastrack', 'ROYAL SON', 'Fravy', 'Singco India'] \n",
      "\n",
      "['UV Protection Rectangular Sunglasses (Free Size)', 'Gradient, UV Protection Wayfarer Sunglasses (Free Size)', 'UV Protection Wayfarer Sunglasses (Free Size)', 'UV Protection, Riding Glasses Rectangular Sunglasses (F...', 'UV Protection, Gradient Rectangular Sunglasses (Free Si...', 'UV Protection Aviator Sunglasses (58)', 'UV Protection Retro Square Sunglasses (Free Size)', 'UV Protection Aviator Sunglasses (Free Size)', 'UV Protection Aviator Sunglasses (Free Size)', 'UV Protection Wayfarer Sunglasses (56)', 'UV Protection Aviator, Wayfarer Sunglasses (Free Size)', 'UV Protection Oval Sunglasses (56)', 'UV Protection Shield Sunglasses (Free Size)', 'Gradient, UV Protection Wayfarer Sunglasses (Free Size)', 'Gradient, UV Protection Round Sunglasses (Free Size)', 'UV Protection Aviator Sunglasses (54)', 'UV Protection, Mirrored Retro Square Sunglasses (53)', 'UV Protection, Mirrored Retro Square Sunglasses (Free S...', 'UV Protection, Riding Glasses, Others Aviator, Wayfarer...', 'UV Protection Wrap-around Sunglasses (Free Size)', 'UV Protection Aviator Sunglasses (58)', 'UV Protection, Mirrored Aviator Sunglasses (Free Size)', 'UV Protection Aviator Sunglasses (Free Size)', 'UV Protection Wayfarer Sunglasses (57)', 'UV Protection Wayfarer Sunglasses (Free Size)', 'UV Protection Shield Sunglasses (54)', 'UV Protection Wayfarer Sunglasses (55)', 'UV Protection Oval Sunglasses (60)', 'UV Protection Rectangular Sunglasses (58)', 'Mirrored, UV Protection Wayfarer Sunglasses (Free Size)', 'UV Protection Clubmaster Sunglasses (Free Size)', 'UV Protection Retro Square Sunglasses (Free Size)', 'UV Protection Round Sunglasses (Free Size)', 'UV Protection Wayfarer Sunglasses (55)', 'UV Protection, Gradient Round Sunglasses (Free Size)', 'UV Protection Wayfarer Sunglasses (Free Size)', 'UV Protection Wayfarer Sunglasses (Free Size)', 'Polarized, UV Protection Aviator Sunglasses (58)', 'UV Protection Retro Square Sunglasses (Free Size)', 'Mirrored, Riding Glasses, Others Sports Sunglasses (50)'] \n",
      "\n",
      "['₹570', '₹621', '₹733', '₹449', '₹499', '₹215', '₹499', '₹349', '₹674', '₹759', '₹213', '₹299', '₹759', '₹638', '₹449', '₹250', '₹399', '₹399', '₹194', '₹636', '₹1,123', '₹199', '₹339', '₹559', '₹758', '₹499', '₹265', '₹764', '₹474', '₹777', '₹319', '₹399', '₹209', '₹251', '₹449', '₹627', '₹758', '₹711', '₹289', '₹236'] \n",
      "\n"
     ]
    },
    {
     "data": {
      "text/plain": [
       "['28% off',\n",
       " '22% off',\n",
       " '18% off',\n",
       " '79% off',\n",
       " '77% off',\n",
       " '72% off',\n",
       " '77% off',\n",
       " '78% off',\n",
       " '25% off',\n",
       " '15% off',\n",
       " '82% off',\n",
       " '75% off',\n",
       " '15% off',\n",
       " '20% off',\n",
       " '77% off',\n",
       " '84% off',\n",
       " '80% off',\n",
       " '80% off',\n",
       " '72% off',\n",
       " '29% off',\n",
       " '13% off',\n",
       " '80% off',\n",
       " '71% off',\n",
       " '30% off',\n",
       " '15% off',\n",
       " '80% off',\n",
       " '79% off',\n",
       " '69% off',\n",
       " '68% off',\n",
       " '22% off',\n",
       " '84% off',\n",
       " '81% off',\n",
       " '73% off',\n",
       " '79% off',\n",
       " '77% off',\n",
       " '21% off',\n",
       " '15% off',\n",
       " '64% off',\n",
       " '80% off',\n",
       " '84% off']"
      ]
     },
     "execution_count": 12,
     "metadata": {},
     "output_type": "execute_result"
    }
   ],
   "source": [
    "for i in brand:\n",
    "    model.append(i.text)\n",
    "print(model,'\\n')\n",
    "\n",
    "for i in desc:\n",
    "    description.append(i.text)\n",
    "print(description,'\\n')\n",
    "for i in price:\n",
    "    mrp.append(i.text)\n",
    "print(mrp,'\\n')\n",
    "for i in discount:\n",
    "    disco.append(i.text)\n",
    "disco"
   ]
  },
  {
   "cell_type": "code",
   "execution_count": 13,
   "id": "becoming-circulation",
   "metadata": {},
   "outputs": [],
   "source": [
    "next_button = driver.find_element_by_xpath(\"//a[@class = '_1LKTO3']\")\n",
    "next_button.click()"
   ]
  },
  {
   "cell_type": "code",
   "execution_count": 14,
   "id": "executed-radiation",
   "metadata": {},
   "outputs": [
    {
     "data": {
      "text/plain": [
       "[<selenium.webdriver.remote.webelement.WebElement (session=\"183aba291fb9cbe3b22171ef52994ee8\", element=\"b10f0483-82e8-4a78-a3e8-b9ad9aa1e2a6\")>,\n",
       " <selenium.webdriver.remote.webelement.WebElement (session=\"183aba291fb9cbe3b22171ef52994ee8\", element=\"eaa24313-d99b-426e-805c-34764acc8113\")>,\n",
       " <selenium.webdriver.remote.webelement.WebElement (session=\"183aba291fb9cbe3b22171ef52994ee8\", element=\"4ce99857-fbad-47ea-baa2-e968cc2d72b4\")>,\n",
       " <selenium.webdriver.remote.webelement.WebElement (session=\"183aba291fb9cbe3b22171ef52994ee8\", element=\"7c310891-97b7-48d5-9a42-00acbab87d7f\")>,\n",
       " <selenium.webdriver.remote.webelement.WebElement (session=\"183aba291fb9cbe3b22171ef52994ee8\", element=\"16ede921-ad1d-4988-871b-fd4566268431\")>,\n",
       " <selenium.webdriver.remote.webelement.WebElement (session=\"183aba291fb9cbe3b22171ef52994ee8\", element=\"4f6a5618-e46d-4d69-b7ac-506062ebcbe9\")>,\n",
       " <selenium.webdriver.remote.webelement.WebElement (session=\"183aba291fb9cbe3b22171ef52994ee8\", element=\"e4eb7af4-16ff-4221-b972-720372684df7\")>,\n",
       " <selenium.webdriver.remote.webelement.WebElement (session=\"183aba291fb9cbe3b22171ef52994ee8\", element=\"6f972937-3bde-4769-808d-006f2cb99e65\")>,\n",
       " <selenium.webdriver.remote.webelement.WebElement (session=\"183aba291fb9cbe3b22171ef52994ee8\", element=\"c6a8e778-bbfe-4809-8d73-6c4acbdf0b01\")>,\n",
       " <selenium.webdriver.remote.webelement.WebElement (session=\"183aba291fb9cbe3b22171ef52994ee8\", element=\"3f74d16b-c75f-468f-898e-e65f90afec84\")>,\n",
       " <selenium.webdriver.remote.webelement.WebElement (session=\"183aba291fb9cbe3b22171ef52994ee8\", element=\"934e1370-8bca-4682-887f-2e7be08e4c99\")>,\n",
       " <selenium.webdriver.remote.webelement.WebElement (session=\"183aba291fb9cbe3b22171ef52994ee8\", element=\"f409046e-e1a5-4422-8a83-56dcd8686e73\")>,\n",
       " <selenium.webdriver.remote.webelement.WebElement (session=\"183aba291fb9cbe3b22171ef52994ee8\", element=\"aed2aefb-4cf9-4fc1-99f7-92fbac1f92ca\")>,\n",
       " <selenium.webdriver.remote.webelement.WebElement (session=\"183aba291fb9cbe3b22171ef52994ee8\", element=\"2cad7854-9ac4-4b15-8748-18e769f4984d\")>,\n",
       " <selenium.webdriver.remote.webelement.WebElement (session=\"183aba291fb9cbe3b22171ef52994ee8\", element=\"7698fe0c-f59d-40fa-9b5c-2053395f90cc\")>,\n",
       " <selenium.webdriver.remote.webelement.WebElement (session=\"183aba291fb9cbe3b22171ef52994ee8\", element=\"bdeb61d2-e37e-4ff3-afc9-c350cccbfd5d\")>,\n",
       " <selenium.webdriver.remote.webelement.WebElement (session=\"183aba291fb9cbe3b22171ef52994ee8\", element=\"4c6434ce-77a5-45e5-ac70-3916d6b79830\")>,\n",
       " <selenium.webdriver.remote.webelement.WebElement (session=\"183aba291fb9cbe3b22171ef52994ee8\", element=\"e743efc3-47ca-4e7e-9044-3f922c88b547\")>,\n",
       " <selenium.webdriver.remote.webelement.WebElement (session=\"183aba291fb9cbe3b22171ef52994ee8\", element=\"37c10949-52a6-43c3-9708-94d386ecb9dd\")>,\n",
       " <selenium.webdriver.remote.webelement.WebElement (session=\"183aba291fb9cbe3b22171ef52994ee8\", element=\"1fc7363e-f766-49aa-8836-184aec5deab1\")>,\n",
       " <selenium.webdriver.remote.webelement.WebElement (session=\"183aba291fb9cbe3b22171ef52994ee8\", element=\"d9384583-1489-4773-b739-d0832a2fd542\")>,\n",
       " <selenium.webdriver.remote.webelement.WebElement (session=\"183aba291fb9cbe3b22171ef52994ee8\", element=\"5f7bc8bb-0843-41f2-ac29-618cab9ed4ed\")>,\n",
       " <selenium.webdriver.remote.webelement.WebElement (session=\"183aba291fb9cbe3b22171ef52994ee8\", element=\"72ea6da0-1658-43ce-8b58-dcb9f0c77e2a\")>,\n",
       " <selenium.webdriver.remote.webelement.WebElement (session=\"183aba291fb9cbe3b22171ef52994ee8\", element=\"451c4a8e-234f-4c86-86b0-d4098729cff1\")>,\n",
       " <selenium.webdriver.remote.webelement.WebElement (session=\"183aba291fb9cbe3b22171ef52994ee8\", element=\"ec0c0af4-6fc9-4d00-b0dc-666cfbe731ad\")>,\n",
       " <selenium.webdriver.remote.webelement.WebElement (session=\"183aba291fb9cbe3b22171ef52994ee8\", element=\"38976418-cb25-41c1-aaf8-017c4f47a2c5\")>,\n",
       " <selenium.webdriver.remote.webelement.WebElement (session=\"183aba291fb9cbe3b22171ef52994ee8\", element=\"c5825d0a-e7b9-4059-beae-3c7d63ba0deb\")>,\n",
       " <selenium.webdriver.remote.webelement.WebElement (session=\"183aba291fb9cbe3b22171ef52994ee8\", element=\"ba04dbcf-0e3b-468e-8a17-77d4c018fe96\")>,\n",
       " <selenium.webdriver.remote.webelement.WebElement (session=\"183aba291fb9cbe3b22171ef52994ee8\", element=\"ff1df490-9a1f-447c-a05f-e3b1caeb526b\")>,\n",
       " <selenium.webdriver.remote.webelement.WebElement (session=\"183aba291fb9cbe3b22171ef52994ee8\", element=\"281fd996-9789-4ea3-b3aa-35870c49e88e\")>,\n",
       " <selenium.webdriver.remote.webelement.WebElement (session=\"183aba291fb9cbe3b22171ef52994ee8\", element=\"0e26017d-f905-45f6-9679-68c94a2c75c6\")>,\n",
       " <selenium.webdriver.remote.webelement.WebElement (session=\"183aba291fb9cbe3b22171ef52994ee8\", element=\"d8ccc05a-69ff-45ed-868a-796b722693c5\")>,\n",
       " <selenium.webdriver.remote.webelement.WebElement (session=\"183aba291fb9cbe3b22171ef52994ee8\", element=\"9cb05da8-706a-4273-91ab-78cc5b7c0fdb\")>,\n",
       " <selenium.webdriver.remote.webelement.WebElement (session=\"183aba291fb9cbe3b22171ef52994ee8\", element=\"5d04db9e-2558-45d0-a13f-bc2e8205f4aa\")>,\n",
       " <selenium.webdriver.remote.webelement.WebElement (session=\"183aba291fb9cbe3b22171ef52994ee8\", element=\"9ef11e9f-332e-440c-a7fd-e499a102fc9a\")>,\n",
       " <selenium.webdriver.remote.webelement.WebElement (session=\"183aba291fb9cbe3b22171ef52994ee8\", element=\"ee61bb3f-4906-434f-a9bd-3fb72c26d4f2\")>,\n",
       " <selenium.webdriver.remote.webelement.WebElement (session=\"183aba291fb9cbe3b22171ef52994ee8\", element=\"7d6509f6-0161-40d9-94ea-a70b216a97bb\")>,\n",
       " <selenium.webdriver.remote.webelement.WebElement (session=\"183aba291fb9cbe3b22171ef52994ee8\", element=\"4540d4bf-461d-4ad8-94dc-61639ecc3faf\")>,\n",
       " <selenium.webdriver.remote.webelement.WebElement (session=\"183aba291fb9cbe3b22171ef52994ee8\", element=\"6b98fee1-ebbe-4928-a919-ba3808a5ac51\")>,\n",
       " <selenium.webdriver.remote.webelement.WebElement (session=\"183aba291fb9cbe3b22171ef52994ee8\", element=\"7065bfb1-92e5-4b69-8e36-18bee9c9c9ff\")>]"
      ]
     },
     "execution_count": 14,
     "metadata": {},
     "output_type": "execute_result"
    }
   ],
   "source": [
    "brand=driver.find_elements_by_xpath(\"//div[@class='_2WkVRV']\")\n",
    "brand\n"
   ]
  },
  {
   "cell_type": "code",
   "execution_count": 15,
   "id": "considerable-explosion",
   "metadata": {},
   "outputs": [
    {
     "data": {
      "text/plain": [
       "[<selenium.webdriver.remote.webelement.WebElement (session=\"183aba291fb9cbe3b22171ef52994ee8\", element=\"e3594e87-5c6f-4d3c-aa20-c373a73eaf37\")>,\n",
       " <selenium.webdriver.remote.webelement.WebElement (session=\"183aba291fb9cbe3b22171ef52994ee8\", element=\"3854adc8-65ab-445b-bc5a-4ee296771b62\")>,\n",
       " <selenium.webdriver.remote.webelement.WebElement (session=\"183aba291fb9cbe3b22171ef52994ee8\", element=\"c17d15ff-6b8d-4c1d-ba86-89c9c99c6377\")>,\n",
       " <selenium.webdriver.remote.webelement.WebElement (session=\"183aba291fb9cbe3b22171ef52994ee8\", element=\"5eb3a2a2-c03d-4b6c-8f0f-51f2eea03572\")>,\n",
       " <selenium.webdriver.remote.webelement.WebElement (session=\"183aba291fb9cbe3b22171ef52994ee8\", element=\"eea3a28e-4180-4917-84dc-bdc08d998fd6\")>,\n",
       " <selenium.webdriver.remote.webelement.WebElement (session=\"183aba291fb9cbe3b22171ef52994ee8\", element=\"a2da1f6b-6119-49b2-b81e-058c887aec4f\")>,\n",
       " <selenium.webdriver.remote.webelement.WebElement (session=\"183aba291fb9cbe3b22171ef52994ee8\", element=\"65b03032-6315-401c-9914-8ccdba458882\")>,\n",
       " <selenium.webdriver.remote.webelement.WebElement (session=\"183aba291fb9cbe3b22171ef52994ee8\", element=\"28477f75-14bf-4dc1-a0ab-2838574e6a6e\")>,\n",
       " <selenium.webdriver.remote.webelement.WebElement (session=\"183aba291fb9cbe3b22171ef52994ee8\", element=\"eee16633-b42f-48fe-a761-7599fe6d7554\")>,\n",
       " <selenium.webdriver.remote.webelement.WebElement (session=\"183aba291fb9cbe3b22171ef52994ee8\", element=\"36c8bb13-2ec1-40da-9902-3db965026176\")>,\n",
       " <selenium.webdriver.remote.webelement.WebElement (session=\"183aba291fb9cbe3b22171ef52994ee8\", element=\"82f27d26-a02c-4170-a6d5-a05d1b86f989\")>,\n",
       " <selenium.webdriver.remote.webelement.WebElement (session=\"183aba291fb9cbe3b22171ef52994ee8\", element=\"0aafb837-6902-4676-9898-a9c0a04bccc4\")>,\n",
       " <selenium.webdriver.remote.webelement.WebElement (session=\"183aba291fb9cbe3b22171ef52994ee8\", element=\"65210676-bfaf-4234-8fd2-429edc1bdfc0\")>,\n",
       " <selenium.webdriver.remote.webelement.WebElement (session=\"183aba291fb9cbe3b22171ef52994ee8\", element=\"85f12b93-7504-4d17-88b4-03d61802661e\")>,\n",
       " <selenium.webdriver.remote.webelement.WebElement (session=\"183aba291fb9cbe3b22171ef52994ee8\", element=\"770ecca3-2475-4377-bc13-05ef8639a574\")>,\n",
       " <selenium.webdriver.remote.webelement.WebElement (session=\"183aba291fb9cbe3b22171ef52994ee8\", element=\"681919bc-9548-435e-87ed-4efe32a01e7f\")>,\n",
       " <selenium.webdriver.remote.webelement.WebElement (session=\"183aba291fb9cbe3b22171ef52994ee8\", element=\"aa9168a5-f532-43ea-8ad7-01f23a27cf57\")>,\n",
       " <selenium.webdriver.remote.webelement.WebElement (session=\"183aba291fb9cbe3b22171ef52994ee8\", element=\"ab705617-a8d0-4f51-be60-55d8718bf790\")>,\n",
       " <selenium.webdriver.remote.webelement.WebElement (session=\"183aba291fb9cbe3b22171ef52994ee8\", element=\"71a8b188-05db-41fb-8d34-6733bc422f3f\")>,\n",
       " <selenium.webdriver.remote.webelement.WebElement (session=\"183aba291fb9cbe3b22171ef52994ee8\", element=\"ccf71d5c-a46c-4662-ba7f-7227ec3389cf\")>,\n",
       " <selenium.webdriver.remote.webelement.WebElement (session=\"183aba291fb9cbe3b22171ef52994ee8\", element=\"cdd6e7d0-cf2e-44fb-a43c-db59acbcf0dc\")>,\n",
       " <selenium.webdriver.remote.webelement.WebElement (session=\"183aba291fb9cbe3b22171ef52994ee8\", element=\"00555e4e-75a1-43ad-8636-558f2f5955af\")>,\n",
       " <selenium.webdriver.remote.webelement.WebElement (session=\"183aba291fb9cbe3b22171ef52994ee8\", element=\"ac189b83-cd83-41b7-a489-bf3a98731c3e\")>,\n",
       " <selenium.webdriver.remote.webelement.WebElement (session=\"183aba291fb9cbe3b22171ef52994ee8\", element=\"cb8c1cea-0501-4a68-a8ec-5bed1568299a\")>,\n",
       " <selenium.webdriver.remote.webelement.WebElement (session=\"183aba291fb9cbe3b22171ef52994ee8\", element=\"19125970-cb98-495e-81f3-bc88d842e638\")>,\n",
       " <selenium.webdriver.remote.webelement.WebElement (session=\"183aba291fb9cbe3b22171ef52994ee8\", element=\"995b0928-3b6d-4feb-9701-81cbb428722a\")>,\n",
       " <selenium.webdriver.remote.webelement.WebElement (session=\"183aba291fb9cbe3b22171ef52994ee8\", element=\"69b4792b-a13a-4258-9a41-ffe425e18f7b\")>,\n",
       " <selenium.webdriver.remote.webelement.WebElement (session=\"183aba291fb9cbe3b22171ef52994ee8\", element=\"8244276d-f5e8-460f-9389-4d9aeef112b3\")>,\n",
       " <selenium.webdriver.remote.webelement.WebElement (session=\"183aba291fb9cbe3b22171ef52994ee8\", element=\"767720f3-1919-479a-a19d-6364f30283d7\")>,\n",
       " <selenium.webdriver.remote.webelement.WebElement (session=\"183aba291fb9cbe3b22171ef52994ee8\", element=\"11e0c7b0-a1ef-4f0d-b496-d477d7084977\")>,\n",
       " <selenium.webdriver.remote.webelement.WebElement (session=\"183aba291fb9cbe3b22171ef52994ee8\", element=\"ad7f5106-1ffa-49ce-803e-35e59b62cac4\")>,\n",
       " <selenium.webdriver.remote.webelement.WebElement (session=\"183aba291fb9cbe3b22171ef52994ee8\", element=\"4c570eaa-5d35-4eac-8592-2517b4d7043f\")>,\n",
       " <selenium.webdriver.remote.webelement.WebElement (session=\"183aba291fb9cbe3b22171ef52994ee8\", element=\"5a623b4b-b582-4c9f-9551-636b14e195a2\")>,\n",
       " <selenium.webdriver.remote.webelement.WebElement (session=\"183aba291fb9cbe3b22171ef52994ee8\", element=\"399738aa-ef24-4e61-984a-a11962e1fceb\")>,\n",
       " <selenium.webdriver.remote.webelement.WebElement (session=\"183aba291fb9cbe3b22171ef52994ee8\", element=\"e8607d1b-3aea-4cee-bee7-cb4670fe9c21\")>,\n",
       " <selenium.webdriver.remote.webelement.WebElement (session=\"183aba291fb9cbe3b22171ef52994ee8\", element=\"a8d9c32f-9c0a-4aa9-a244-b8ac67fee540\")>,\n",
       " <selenium.webdriver.remote.webelement.WebElement (session=\"183aba291fb9cbe3b22171ef52994ee8\", element=\"fdbf95c2-000e-49aa-aa71-98dfd82bbb11\")>,\n",
       " <selenium.webdriver.remote.webelement.WebElement (session=\"183aba291fb9cbe3b22171ef52994ee8\", element=\"d67adf82-b6ac-4c3d-b089-9e749a82cc68\")>,\n",
       " <selenium.webdriver.remote.webelement.WebElement (session=\"183aba291fb9cbe3b22171ef52994ee8\", element=\"fc8d32e4-f4d3-405f-a01d-0f3d39014471\")>,\n",
       " <selenium.webdriver.remote.webelement.WebElement (session=\"183aba291fb9cbe3b22171ef52994ee8\", element=\"92bbc3eb-f475-4a36-8be4-71d1c52b5380\")>]"
      ]
     },
     "execution_count": 15,
     "metadata": {},
     "output_type": "execute_result"
    }
   ],
   "source": [
    "discount=driver.find_elements_by_xpath(\"//div[@class='_3Ay6Sb']\")\n",
    "discount"
   ]
  },
  {
   "cell_type": "code",
   "execution_count": 16,
   "id": "dirty-grain",
   "metadata": {},
   "outputs": [
    {
     "data": {
      "text/plain": [
       "[<selenium.webdriver.remote.webelement.WebElement (session=\"183aba291fb9cbe3b22171ef52994ee8\", element=\"6d741d88-47de-4367-90d0-2970a74eb7cd\")>,\n",
       " <selenium.webdriver.remote.webelement.WebElement (session=\"183aba291fb9cbe3b22171ef52994ee8\", element=\"8f8364dd-6959-4008-9813-87b03b90f192\")>,\n",
       " <selenium.webdriver.remote.webelement.WebElement (session=\"183aba291fb9cbe3b22171ef52994ee8\", element=\"a385808c-0a6d-4588-8582-c28fe5fc9314\")>,\n",
       " <selenium.webdriver.remote.webelement.WebElement (session=\"183aba291fb9cbe3b22171ef52994ee8\", element=\"35090246-6e0f-477b-a95a-3e94ed37d92f\")>,\n",
       " <selenium.webdriver.remote.webelement.WebElement (session=\"183aba291fb9cbe3b22171ef52994ee8\", element=\"14d1430f-45a4-45e3-97ad-23fade076ef9\")>,\n",
       " <selenium.webdriver.remote.webelement.WebElement (session=\"183aba291fb9cbe3b22171ef52994ee8\", element=\"05b710ff-ea7f-4613-81c7-d0b1958703c8\")>,\n",
       " <selenium.webdriver.remote.webelement.WebElement (session=\"183aba291fb9cbe3b22171ef52994ee8\", element=\"bca43b43-9f25-424b-a5f3-729ba898bee3\")>,\n",
       " <selenium.webdriver.remote.webelement.WebElement (session=\"183aba291fb9cbe3b22171ef52994ee8\", element=\"7500d79d-5316-48d4-9308-532cba5c3968\")>,\n",
       " <selenium.webdriver.remote.webelement.WebElement (session=\"183aba291fb9cbe3b22171ef52994ee8\", element=\"66ba1ff7-988f-4dce-8acf-37ac3e8f0157\")>,\n",
       " <selenium.webdriver.remote.webelement.WebElement (session=\"183aba291fb9cbe3b22171ef52994ee8\", element=\"8c021fd1-8618-4472-9364-01f9cc3c08ea\")>,\n",
       " <selenium.webdriver.remote.webelement.WebElement (session=\"183aba291fb9cbe3b22171ef52994ee8\", element=\"f69f8b8a-bedb-40ab-8694-5aa2bfb04f3c\")>,\n",
       " <selenium.webdriver.remote.webelement.WebElement (session=\"183aba291fb9cbe3b22171ef52994ee8\", element=\"4045527f-f795-4798-9de1-719ee632863f\")>,\n",
       " <selenium.webdriver.remote.webelement.WebElement (session=\"183aba291fb9cbe3b22171ef52994ee8\", element=\"32b07ce5-dcc4-49c4-8ee0-6309bc6db0ac\")>,\n",
       " <selenium.webdriver.remote.webelement.WebElement (session=\"183aba291fb9cbe3b22171ef52994ee8\", element=\"808f2e57-8410-4b20-ac72-bec6d60c1e87\")>,\n",
       " <selenium.webdriver.remote.webelement.WebElement (session=\"183aba291fb9cbe3b22171ef52994ee8\", element=\"3b712add-f5e9-4ba0-85a9-7f880e844723\")>,\n",
       " <selenium.webdriver.remote.webelement.WebElement (session=\"183aba291fb9cbe3b22171ef52994ee8\", element=\"ba5620e0-ec8c-47b0-80fa-735ae98201f5\")>,\n",
       " <selenium.webdriver.remote.webelement.WebElement (session=\"183aba291fb9cbe3b22171ef52994ee8\", element=\"2e0c0cd5-f8f5-481f-a99b-bbfcd3488aa8\")>,\n",
       " <selenium.webdriver.remote.webelement.WebElement (session=\"183aba291fb9cbe3b22171ef52994ee8\", element=\"f1d1744f-e025-41a3-a8f4-53538f537934\")>,\n",
       " <selenium.webdriver.remote.webelement.WebElement (session=\"183aba291fb9cbe3b22171ef52994ee8\", element=\"7ea0a5e2-93ce-43d5-a310-a8e0a4bbe4ce\")>,\n",
       " <selenium.webdriver.remote.webelement.WebElement (session=\"183aba291fb9cbe3b22171ef52994ee8\", element=\"b1876e29-d4ca-4384-8c67-14178156d29f\")>,\n",
       " <selenium.webdriver.remote.webelement.WebElement (session=\"183aba291fb9cbe3b22171ef52994ee8\", element=\"8a896cac-4a89-4928-be9f-2ff35e88ee1a\")>,\n",
       " <selenium.webdriver.remote.webelement.WebElement (session=\"183aba291fb9cbe3b22171ef52994ee8\", element=\"4d053615-27ce-4d3f-8a25-5edfa5e1d4db\")>,\n",
       " <selenium.webdriver.remote.webelement.WebElement (session=\"183aba291fb9cbe3b22171ef52994ee8\", element=\"24db4427-79b9-49f1-a9d6-2b1fc57b9fad\")>,\n",
       " <selenium.webdriver.remote.webelement.WebElement (session=\"183aba291fb9cbe3b22171ef52994ee8\", element=\"674d2879-9808-4fdc-8a6d-216dd07d9f80\")>,\n",
       " <selenium.webdriver.remote.webelement.WebElement (session=\"183aba291fb9cbe3b22171ef52994ee8\", element=\"f38b42f5-416f-4c24-a2da-cfee2599e42f\")>,\n",
       " <selenium.webdriver.remote.webelement.WebElement (session=\"183aba291fb9cbe3b22171ef52994ee8\", element=\"80b19485-d311-4796-b624-23267903c62b\")>,\n",
       " <selenium.webdriver.remote.webelement.WebElement (session=\"183aba291fb9cbe3b22171ef52994ee8\", element=\"0129a2e7-c25f-4029-b107-3affe8f07546\")>,\n",
       " <selenium.webdriver.remote.webelement.WebElement (session=\"183aba291fb9cbe3b22171ef52994ee8\", element=\"5f6eddf8-ba26-4d42-b467-59ed9b8b39c6\")>,\n",
       " <selenium.webdriver.remote.webelement.WebElement (session=\"183aba291fb9cbe3b22171ef52994ee8\", element=\"46a5b004-b9ef-4304-9890-6ab211565a32\")>,\n",
       " <selenium.webdriver.remote.webelement.WebElement (session=\"183aba291fb9cbe3b22171ef52994ee8\", element=\"40555f44-ea76-4e75-83ff-3f24d8e0cc6d\")>,\n",
       " <selenium.webdriver.remote.webelement.WebElement (session=\"183aba291fb9cbe3b22171ef52994ee8\", element=\"9a063cd4-266a-49dd-893b-b4eab523d10f\")>,\n",
       " <selenium.webdriver.remote.webelement.WebElement (session=\"183aba291fb9cbe3b22171ef52994ee8\", element=\"7ee3d5cd-8456-40a2-a2fe-21b82b886873\")>,\n",
       " <selenium.webdriver.remote.webelement.WebElement (session=\"183aba291fb9cbe3b22171ef52994ee8\", element=\"435eb6b3-51c2-49c2-8b6c-68a947138c7e\")>,\n",
       " <selenium.webdriver.remote.webelement.WebElement (session=\"183aba291fb9cbe3b22171ef52994ee8\", element=\"b76167d9-6618-4dee-99e0-764e1bd0ee9f\")>,\n",
       " <selenium.webdriver.remote.webelement.WebElement (session=\"183aba291fb9cbe3b22171ef52994ee8\", element=\"f0826796-cf3b-498f-971c-9db65787116c\")>,\n",
       " <selenium.webdriver.remote.webelement.WebElement (session=\"183aba291fb9cbe3b22171ef52994ee8\", element=\"a1f8d58f-4f23-499b-90e3-c14e44c82671\")>,\n",
       " <selenium.webdriver.remote.webelement.WebElement (session=\"183aba291fb9cbe3b22171ef52994ee8\", element=\"e23f77c2-3196-41f2-bfdf-999d84580a9d\")>,\n",
       " <selenium.webdriver.remote.webelement.WebElement (session=\"183aba291fb9cbe3b22171ef52994ee8\", element=\"bbd3ecaa-802f-4352-84ca-60242b782b8d\")>,\n",
       " <selenium.webdriver.remote.webelement.WebElement (session=\"183aba291fb9cbe3b22171ef52994ee8\", element=\"cc28556c-05fc-4312-830a-f783c2ca12ed\")>,\n",
       " <selenium.webdriver.remote.webelement.WebElement (session=\"183aba291fb9cbe3b22171ef52994ee8\", element=\"c09f022f-71f8-48f8-a912-6d1d882fd912\")>]"
      ]
     },
     "execution_count": 16,
     "metadata": {},
     "output_type": "execute_result"
    }
   ],
   "source": [
    "price=driver.find_elements_by_xpath(\"//div[@class='_30jeq3']\")\n",
    "price"
   ]
  },
  {
   "cell_type": "code",
   "execution_count": 17,
   "id": "peripheral-ideal",
   "metadata": {},
   "outputs": [
    {
     "data": {
      "text/plain": [
       "[<selenium.webdriver.remote.webelement.WebElement (session=\"183aba291fb9cbe3b22171ef52994ee8\", element=\"1daab54d-c5a2-42d3-a52e-7eef647a8584\")>,\n",
       " <selenium.webdriver.remote.webelement.WebElement (session=\"183aba291fb9cbe3b22171ef52994ee8\", element=\"d1fe3d78-501b-4676-8fee-7d40e56efda0\")>,\n",
       " <selenium.webdriver.remote.webelement.WebElement (session=\"183aba291fb9cbe3b22171ef52994ee8\", element=\"8ca87502-f3df-4d4e-8aab-2b8ab7d81bf4\")>,\n",
       " <selenium.webdriver.remote.webelement.WebElement (session=\"183aba291fb9cbe3b22171ef52994ee8\", element=\"459abb33-bf06-48e8-a59d-0a952834d19b\")>,\n",
       " <selenium.webdriver.remote.webelement.WebElement (session=\"183aba291fb9cbe3b22171ef52994ee8\", element=\"5d8109c7-c469-4650-9fce-3a4d62ec5626\")>,\n",
       " <selenium.webdriver.remote.webelement.WebElement (session=\"183aba291fb9cbe3b22171ef52994ee8\", element=\"131965be-dd38-4541-b71d-90b38acb66cf\")>,\n",
       " <selenium.webdriver.remote.webelement.WebElement (session=\"183aba291fb9cbe3b22171ef52994ee8\", element=\"30548fd6-46d7-4bb7-bc41-3ddd0b94cd35\")>,\n",
       " <selenium.webdriver.remote.webelement.WebElement (session=\"183aba291fb9cbe3b22171ef52994ee8\", element=\"bc608ab2-b687-48d3-80a4-e2c60349e169\")>,\n",
       " <selenium.webdriver.remote.webelement.WebElement (session=\"183aba291fb9cbe3b22171ef52994ee8\", element=\"94e20ede-3d1b-4a01-908e-021227ad2553\")>,\n",
       " <selenium.webdriver.remote.webelement.WebElement (session=\"183aba291fb9cbe3b22171ef52994ee8\", element=\"1109de86-eac4-4ebf-a98d-977f49bd42da\")>,\n",
       " <selenium.webdriver.remote.webelement.WebElement (session=\"183aba291fb9cbe3b22171ef52994ee8\", element=\"9280e499-7738-46ea-8b9e-12be51186c5b\")>,\n",
       " <selenium.webdriver.remote.webelement.WebElement (session=\"183aba291fb9cbe3b22171ef52994ee8\", element=\"25810b70-02be-45fb-8c7e-736edf0578dc\")>,\n",
       " <selenium.webdriver.remote.webelement.WebElement (session=\"183aba291fb9cbe3b22171ef52994ee8\", element=\"ffe89a3b-95b9-4d56-822e-2a0122cb7560\")>,\n",
       " <selenium.webdriver.remote.webelement.WebElement (session=\"183aba291fb9cbe3b22171ef52994ee8\", element=\"b60723da-6bb7-438e-98e7-ad87f6e186b0\")>,\n",
       " <selenium.webdriver.remote.webelement.WebElement (session=\"183aba291fb9cbe3b22171ef52994ee8\", element=\"9f4dff8d-3855-4b0d-ab45-5b7cf15312b8\")>,\n",
       " <selenium.webdriver.remote.webelement.WebElement (session=\"183aba291fb9cbe3b22171ef52994ee8\", element=\"cf771fa7-737b-4b43-a6f4-26009722cdcb\")>,\n",
       " <selenium.webdriver.remote.webelement.WebElement (session=\"183aba291fb9cbe3b22171ef52994ee8\", element=\"599b1923-5635-4134-86c6-642d3c50eb15\")>,\n",
       " <selenium.webdriver.remote.webelement.WebElement (session=\"183aba291fb9cbe3b22171ef52994ee8\", element=\"6dc7047f-cee8-49c5-8f92-d6df86e69878\")>,\n",
       " <selenium.webdriver.remote.webelement.WebElement (session=\"183aba291fb9cbe3b22171ef52994ee8\", element=\"240dfdf7-600c-4a0a-81c9-c68ac803c447\")>,\n",
       " <selenium.webdriver.remote.webelement.WebElement (session=\"183aba291fb9cbe3b22171ef52994ee8\", element=\"f9dc93b2-909f-4c26-ae58-8417f19938c9\")>,\n",
       " <selenium.webdriver.remote.webelement.WebElement (session=\"183aba291fb9cbe3b22171ef52994ee8\", element=\"04dd2428-9ab3-4b51-bd7c-80371ea3fd01\")>,\n",
       " <selenium.webdriver.remote.webelement.WebElement (session=\"183aba291fb9cbe3b22171ef52994ee8\", element=\"d95bbb8f-7e92-4f70-9e3d-1170ca3591a0\")>,\n",
       " <selenium.webdriver.remote.webelement.WebElement (session=\"183aba291fb9cbe3b22171ef52994ee8\", element=\"dd59e0c1-10ea-42bb-8ac5-47a26489a38f\")>,\n",
       " <selenium.webdriver.remote.webelement.WebElement (session=\"183aba291fb9cbe3b22171ef52994ee8\", element=\"87c1e8d2-c2d1-4c57-9c8c-5d5acb968270\")>,\n",
       " <selenium.webdriver.remote.webelement.WebElement (session=\"183aba291fb9cbe3b22171ef52994ee8\", element=\"01b828da-1686-498d-a836-20156032b64e\")>,\n",
       " <selenium.webdriver.remote.webelement.WebElement (session=\"183aba291fb9cbe3b22171ef52994ee8\", element=\"2f81bdd7-29aa-4615-8724-fb6a06468835\")>,\n",
       " <selenium.webdriver.remote.webelement.WebElement (session=\"183aba291fb9cbe3b22171ef52994ee8\", element=\"ebaddf8e-a9c6-4c62-bac3-73ebdf3a69bf\")>,\n",
       " <selenium.webdriver.remote.webelement.WebElement (session=\"183aba291fb9cbe3b22171ef52994ee8\", element=\"45550a11-318c-47f6-ab92-01dc0ef9427e\")>,\n",
       " <selenium.webdriver.remote.webelement.WebElement (session=\"183aba291fb9cbe3b22171ef52994ee8\", element=\"6a2991fa-ff73-454a-bd2e-379fd3c0be82\")>,\n",
       " <selenium.webdriver.remote.webelement.WebElement (session=\"183aba291fb9cbe3b22171ef52994ee8\", element=\"b3c756c0-5e7f-47af-a32e-9192cc834da7\")>,\n",
       " <selenium.webdriver.remote.webelement.WebElement (session=\"183aba291fb9cbe3b22171ef52994ee8\", element=\"f695f7ee-9de3-47eb-8e41-d72b6cf2b0d4\")>,\n",
       " <selenium.webdriver.remote.webelement.WebElement (session=\"183aba291fb9cbe3b22171ef52994ee8\", element=\"e19932fe-5542-4a1f-88ff-e56decd3cf02\")>,\n",
       " <selenium.webdriver.remote.webelement.WebElement (session=\"183aba291fb9cbe3b22171ef52994ee8\", element=\"143e6640-c757-4cf7-90fb-ed9d79fa2b06\")>,\n",
       " <selenium.webdriver.remote.webelement.WebElement (session=\"183aba291fb9cbe3b22171ef52994ee8\", element=\"3d3db279-2ef5-4b77-801c-6bce5aa76c99\")>,\n",
       " <selenium.webdriver.remote.webelement.WebElement (session=\"183aba291fb9cbe3b22171ef52994ee8\", element=\"5d826173-7ccd-4fab-8742-c71d8e80581d\")>,\n",
       " <selenium.webdriver.remote.webelement.WebElement (session=\"183aba291fb9cbe3b22171ef52994ee8\", element=\"b88d846c-09ce-4794-b93d-311151199318\")>,\n",
       " <selenium.webdriver.remote.webelement.WebElement (session=\"183aba291fb9cbe3b22171ef52994ee8\", element=\"77e24df5-7e0e-4d71-b8a6-ec49dae113a2\")>,\n",
       " <selenium.webdriver.remote.webelement.WebElement (session=\"183aba291fb9cbe3b22171ef52994ee8\", element=\"21f09793-f7a0-4365-b78c-a46774f10c6a\")>,\n",
       " <selenium.webdriver.remote.webelement.WebElement (session=\"183aba291fb9cbe3b22171ef52994ee8\", element=\"6ec931ee-880b-4212-bdf3-5e679643bd33\")>,\n",
       " <selenium.webdriver.remote.webelement.WebElement (session=\"183aba291fb9cbe3b22171ef52994ee8\", element=\"ac21f9ce-5d88-4c3f-a3cf-d36117168dc6\")>]"
      ]
     },
     "execution_count": 17,
     "metadata": {},
     "output_type": "execute_result"
    }
   ],
   "source": [
    "desc=driver.find_elements_by_xpath(\"//a[@class='IRpwTa']\")\n",
    "desc\n"
   ]
  },
  {
   "cell_type": "code",
   "execution_count": 18,
   "id": "casual-writer",
   "metadata": {},
   "outputs": [
    {
     "name": "stdout",
     "output_type": "stream",
     "text": [
      "['Fastrack', 'Fastrack', 'Fastrack', 'ROZZETTA CRAFT', 'ROZZETTA CRAFT', 'NuVew', 'ROZZETTA CRAFT', 'PIRASO', 'Fastrack', 'Fastrack', 'DEIXELS', 'Silver Kartz', 'Fastrack', 'Fastrack', 'ROZZETTA CRAFT', 'PIRASO', 'PHENOMENAL', 'PHENOMENAL', 'Singco India', 'Fastrack', 'Fastrack', 'hipe', 'Singco India', 'Fastrack', 'Fastrack', 'ROZZETTA CRAFT', 'ROYAL SON', 'AISLIN', 'ROYAL SON', 'Fastrack', 'PHENOMENAL', 'Flizz', 'DEIXELS', 'HIPPON', 'ROZZETTA CRAFT', 'Fastrack', 'Fastrack', 'ROYAL SON', 'Fravy', 'Singco India', 'hipe', 'Fastrack', 'ROZZETTA CRAFT', 'GANSTA', 'ROZZETTA CRAFT', 'GANSTA', 'Fastrack', 'ROZZETTA CRAFT', 'Fastrack', 'elegante', 'Fastrack', 'ROYAL SON', 'AISLIN', 'GANSTA', 'GANSTA', 'ROYAL SON', 'ROYAL SON', 'Fastrack', 'DEIXELS', 'hipe', 'Fastrack', 'ROYAL SON', 'ROZZETTA CRAFT', 'GANSTA', 'hipe', 'ROZZETTA CRAFT', 'GANSTA', 'Villain', 'ROYAL SON', 'Flizz', 'NuVew', 'PHENOMENAL', 'ROYAL SON', 'ROYAL SON', 'Fastrack', 'NuVew', 'ROYAL SON', 'PHENOMENAL', 'Silver Kartz', 'SRPM'] \n",
      "\n",
      "['UV Protection Rectangular Sunglasses (Free Size)', 'Gradient, UV Protection Wayfarer Sunglasses (Free Size)', 'UV Protection Wayfarer Sunglasses (Free Size)', 'UV Protection, Riding Glasses Rectangular Sunglasses (F...', 'UV Protection, Gradient Rectangular Sunglasses (Free Si...', 'UV Protection Aviator Sunglasses (58)', 'UV Protection Retro Square Sunglasses (Free Size)', 'UV Protection Aviator Sunglasses (Free Size)', 'UV Protection Aviator Sunglasses (Free Size)', 'UV Protection Wayfarer Sunglasses (56)', 'UV Protection Aviator, Wayfarer Sunglasses (Free Size)', 'UV Protection Oval Sunglasses (56)', 'UV Protection Shield Sunglasses (Free Size)', 'Gradient, UV Protection Wayfarer Sunglasses (Free Size)', 'Gradient, UV Protection Round Sunglasses (Free Size)', 'UV Protection Aviator Sunglasses (54)', 'UV Protection, Mirrored Retro Square Sunglasses (53)', 'UV Protection, Mirrored Retro Square Sunglasses (Free S...', 'UV Protection, Riding Glasses, Others Aviator, Wayfarer...', 'UV Protection Wrap-around Sunglasses (Free Size)', 'UV Protection Aviator Sunglasses (58)', 'UV Protection, Mirrored Aviator Sunglasses (Free Size)', 'UV Protection Aviator Sunglasses (Free Size)', 'UV Protection Wayfarer Sunglasses (57)', 'UV Protection Wayfarer Sunglasses (Free Size)', 'UV Protection Shield Sunglasses (54)', 'UV Protection Wayfarer Sunglasses (55)', 'UV Protection Oval Sunglasses (60)', 'UV Protection Rectangular Sunglasses (58)', 'Mirrored, UV Protection Wayfarer Sunglasses (Free Size)', 'UV Protection Clubmaster Sunglasses (Free Size)', 'UV Protection Retro Square Sunglasses (Free Size)', 'UV Protection Round Sunglasses (Free Size)', 'UV Protection Wayfarer Sunglasses (55)', 'UV Protection, Gradient Round Sunglasses (Free Size)', 'UV Protection Wayfarer Sunglasses (Free Size)', 'UV Protection Wayfarer Sunglasses (Free Size)', 'Polarized, UV Protection Aviator Sunglasses (58)', 'UV Protection Retro Square Sunglasses (Free Size)', 'Mirrored, Riding Glasses, Others Sports Sunglasses (50)', 'Mirrored Wayfarer Sunglasses (55)', 'UV Protection Round Sunglasses (52)', 'Polarized, UV Protection Aviator Sunglasses (Free Size)', 'UV Protection Aviator Sunglasses (57)', 'UV Protection, Gradient Round Sunglasses (Free Size)', 'UV Protection, Mirrored Wayfarer Sunglasses (53)', 'UV Protection Aviator Sunglasses (58)', 'Mirrored, UV Protection Round Sunglasses (Free Size)', 'UV Protection Wayfarer Sunglasses (Free Size)', 'UV Protection Wayfarer Sunglasses (Free Size)', 'UV Protection, Polarized Wayfarer Sunglasses (56)', 'Polarized Sports Sunglasses (68)', 'UV Protection, Gradient Oval Sunglasses (58)', 'UV Protection, Riding Glasses Wayfarer Sunglasses (53)', 'UV Protection, Night Vision, Riding Glasses Aviator Sun...', 'Mirrored Aviator Sunglasses (58)', 'UV Protection, Gradient Wayfarer Sunglasses (55)', 'UV Protection Sports Sunglasses (Free Size)', 'Polarized, UV Protection, Riding Glasses Wayfarer Sungl...', 'Mirrored, UV Protection, Gradient Round Sunglasses (55)', 'UV Protection Wayfarer Sunglasses (Free Size)', 'Mirrored Aviator Sunglasses (55)', 'UV Protection, Gradient Retro Square Sunglasses (62)', 'UV Protection, Mirrored, Gradient Wayfarer Sunglasses (...', 'UV Protection Sports Sunglasses (Free Size)', 'UV Protection, Gradient Round Sunglasses (Free Size)', 'UV Protection, Gradient Wayfarer Sunglasses (53)', 'Others Retro Square Sunglasses (Free Size)', 'UV Protection Retro Square Sunglasses (58)', 'UV Protection, Polarized Rectangular Sunglasses (Free S...', 'UV Protection Cat-eye Sunglasses (60)', 'UV Protection, Mirrored, Gradient Retro Square Sunglass...', 'UV Protection Retro Square Sunglasses (88)', 'Polarized, UV Protection Round Sunglasses (49)', 'UV Protection Rectangular Sunglasses (56)', 'UV Protection, Night Vision, Riding Glasses Retro Squar...', 'Mirrored Aviator Sunglasses (55)', 'UV Protection, Mirrored Clubmaster Sunglasses (Free Siz...', 'UV Protection Oval Sunglasses (56)', 'UV Protection Round Sunglasses (53)'] \n",
      "\n",
      "['₹570', '₹621', '₹733', '₹449', '₹499', '₹215', '₹499', '₹349', '₹674', '₹759', '₹213', '₹299', '₹759', '₹638', '₹449', '₹250', '₹399', '₹399', '₹194', '₹636', '₹1,123', '₹199', '₹339', '₹559', '₹758', '₹499', '₹265', '₹764', '₹474', '₹777', '₹319', '₹399', '₹209', '₹251', '₹449', '₹627', '₹758', '₹711', '₹289', '₹236', '₹219', '₹1,232', '₹449', '₹281', '₹449', '₹199', '₹1,115', '₹399', '₹758', '₹449', '₹759', '₹1,234', '₹525', '₹260', '₹292', '₹399', '₹217', '₹771', '₹236', '₹210', '₹576', '₹379', '₹499', '₹281', '₹319', '₹399', '₹328', '₹599', '₹499', '₹279', '₹419', '₹259', '₹569', '₹664', '₹698', '₹511', '₹399', '₹319', '₹299', '₹189'] \n",
      "\n"
     ]
    },
    {
     "data": {
      "text/plain": [
       "['28% off',\n",
       " '22% off',\n",
       " '18% off',\n",
       " '79% off',\n",
       " '77% off',\n",
       " '72% off',\n",
       " '77% off',\n",
       " '78% off',\n",
       " '25% off',\n",
       " '15% off',\n",
       " '82% off',\n",
       " '75% off',\n",
       " '15% off',\n",
       " '20% off',\n",
       " '77% off',\n",
       " '84% off',\n",
       " '80% off',\n",
       " '80% off',\n",
       " '72% off',\n",
       " '29% off',\n",
       " '13% off',\n",
       " '80% off',\n",
       " '71% off',\n",
       " '30% off',\n",
       " '15% off',\n",
       " '80% off',\n",
       " '79% off',\n",
       " '69% off',\n",
       " '68% off',\n",
       " '22% off',\n",
       " '84% off',\n",
       " '81% off',\n",
       " '73% off',\n",
       " '79% off',\n",
       " '77% off',\n",
       " '21% off',\n",
       " '15% off',\n",
       " '64% off',\n",
       " '80% off',\n",
       " '84% off',\n",
       " '78% off',\n",
       " '5% off',\n",
       " '77% off',\n",
       " '85% off',\n",
       " '83% off',\n",
       " '80% off',\n",
       " '14% off',\n",
       " '72% off',\n",
       " '15% off',\n",
       " '70% off',\n",
       " '15% off',\n",
       " '50% off',\n",
       " '65% off',\n",
       " '86% off',\n",
       " '85% off',\n",
       " '73% off',\n",
       " '78% off',\n",
       " '14% off',\n",
       " '60% off',\n",
       " '85% off',\n",
       " '27% off',\n",
       " '74% off',\n",
       " '75% off',\n",
       " '85% off',\n",
       " '83% off',\n",
       " '80% off',\n",
       " '83% off',\n",
       " '20% off',\n",
       " '66% off',\n",
       " '81% off',\n",
       " '71% off',\n",
       " '87% off',\n",
       " '71% off',\n",
       " '66% off',\n",
       " '12% off',\n",
       " '69% off',\n",
       " '73% off',\n",
       " '84% off',\n",
       " '75% off',\n",
       " '62% off']"
      ]
     },
     "execution_count": 18,
     "metadata": {},
     "output_type": "execute_result"
    }
   ],
   "source": [
    "for i in brand:\n",
    "    model.append(i.text)\n",
    "print(model,'\\n')\n",
    "\n",
    "for i in desc:\n",
    "    description.append(i.text)\n",
    "print(description,'\\n')\n",
    "for i in price:\n",
    "    mrp.append(i.text)\n",
    "print(mrp,'\\n')\n",
    "for i in discount:\n",
    "    disco.append(i.text)\n",
    "disco"
   ]
  },
  {
   "cell_type": "markdown",
   "id": "accompanied-korean",
   "metadata": {},
   "source": [
    "We have the details of 2 pages in this page now, let us go to the next page and scrape 20 more data to make it 100."
   ]
  },
  {
   "cell_type": "code",
   "execution_count": 20,
   "id": "difficult-plaintiff",
   "metadata": {},
   "outputs": [],
   "source": [
    "next_button = driver.find_element_by_xpath(\"//a[@class = '_1LKTO3'][2]\")\n",
    "next_button.click()"
   ]
  },
  {
   "cell_type": "code",
   "execution_count": 21,
   "id": "potential-prescription",
   "metadata": {},
   "outputs": [
    {
     "data": {
      "text/plain": [
       "[<selenium.webdriver.remote.webelement.WebElement (session=\"183aba291fb9cbe3b22171ef52994ee8\", element=\"47cd9ed4-98f4-41c1-8c34-033753d39c6c\")>,\n",
       " <selenium.webdriver.remote.webelement.WebElement (session=\"183aba291fb9cbe3b22171ef52994ee8\", element=\"04bf6190-edd5-40bf-87f2-686159f3d3cb\")>,\n",
       " <selenium.webdriver.remote.webelement.WebElement (session=\"183aba291fb9cbe3b22171ef52994ee8\", element=\"07daac86-b986-436e-b580-fa72d71b1808\")>,\n",
       " <selenium.webdriver.remote.webelement.WebElement (session=\"183aba291fb9cbe3b22171ef52994ee8\", element=\"1cc579d7-fa93-44ca-8032-00440b1811e6\")>,\n",
       " <selenium.webdriver.remote.webelement.WebElement (session=\"183aba291fb9cbe3b22171ef52994ee8\", element=\"dbb6db76-328b-4aa8-a470-ed0361586067\")>,\n",
       " <selenium.webdriver.remote.webelement.WebElement (session=\"183aba291fb9cbe3b22171ef52994ee8\", element=\"02836f9e-968a-4767-8d68-008b03d38ddd\")>,\n",
       " <selenium.webdriver.remote.webelement.WebElement (session=\"183aba291fb9cbe3b22171ef52994ee8\", element=\"2eb7a070-fe71-4eaf-a7ef-a1a73f6b540a\")>,\n",
       " <selenium.webdriver.remote.webelement.WebElement (session=\"183aba291fb9cbe3b22171ef52994ee8\", element=\"131fce3d-696d-4199-add7-7fbe44271751\")>,\n",
       " <selenium.webdriver.remote.webelement.WebElement (session=\"183aba291fb9cbe3b22171ef52994ee8\", element=\"e95540ab-c686-432f-bc43-0c864bb82334\")>,\n",
       " <selenium.webdriver.remote.webelement.WebElement (session=\"183aba291fb9cbe3b22171ef52994ee8\", element=\"a17034de-d67a-46be-920b-92792b34f1dd\")>,\n",
       " <selenium.webdriver.remote.webelement.WebElement (session=\"183aba291fb9cbe3b22171ef52994ee8\", element=\"4a6b3dc5-07f9-4ce6-a096-b9af6b678a08\")>,\n",
       " <selenium.webdriver.remote.webelement.WebElement (session=\"183aba291fb9cbe3b22171ef52994ee8\", element=\"40dcaf13-a1a8-4569-873f-7dcacfc8839e\")>,\n",
       " <selenium.webdriver.remote.webelement.WebElement (session=\"183aba291fb9cbe3b22171ef52994ee8\", element=\"305bb2f5-a14e-4a08-8ba8-b243899a4621\")>,\n",
       " <selenium.webdriver.remote.webelement.WebElement (session=\"183aba291fb9cbe3b22171ef52994ee8\", element=\"9299ee87-07f4-4ee5-94b0-06310fe15dd8\")>,\n",
       " <selenium.webdriver.remote.webelement.WebElement (session=\"183aba291fb9cbe3b22171ef52994ee8\", element=\"5b2cc72e-915e-4442-9001-823ada9477a2\")>,\n",
       " <selenium.webdriver.remote.webelement.WebElement (session=\"183aba291fb9cbe3b22171ef52994ee8\", element=\"8ac16948-0671-4e32-91c8-956573009158\")>,\n",
       " <selenium.webdriver.remote.webelement.WebElement (session=\"183aba291fb9cbe3b22171ef52994ee8\", element=\"dd007733-c682-4e74-b136-18634b08e9a8\")>,\n",
       " <selenium.webdriver.remote.webelement.WebElement (session=\"183aba291fb9cbe3b22171ef52994ee8\", element=\"aaa82511-cf38-4d0b-8572-44bf435571ff\")>,\n",
       " <selenium.webdriver.remote.webelement.WebElement (session=\"183aba291fb9cbe3b22171ef52994ee8\", element=\"bc438382-124a-4e53-b183-001d71e78c98\")>,\n",
       " <selenium.webdriver.remote.webelement.WebElement (session=\"183aba291fb9cbe3b22171ef52994ee8\", element=\"6caba076-c79a-48bb-b891-a3b8ae49b218\")>,\n",
       " <selenium.webdriver.remote.webelement.WebElement (session=\"183aba291fb9cbe3b22171ef52994ee8\", element=\"fbb29055-b2fa-4ce4-aaa5-14df317fa800\")>,\n",
       " <selenium.webdriver.remote.webelement.WebElement (session=\"183aba291fb9cbe3b22171ef52994ee8\", element=\"95f22d9d-c775-4cd5-85a2-be60d64119e2\")>,\n",
       " <selenium.webdriver.remote.webelement.WebElement (session=\"183aba291fb9cbe3b22171ef52994ee8\", element=\"595ea96d-6e54-4e0b-8426-fed5f7888147\")>,\n",
       " <selenium.webdriver.remote.webelement.WebElement (session=\"183aba291fb9cbe3b22171ef52994ee8\", element=\"9bff1bfd-7965-42e1-9ba5-8ee37379fa59\")>,\n",
       " <selenium.webdriver.remote.webelement.WebElement (session=\"183aba291fb9cbe3b22171ef52994ee8\", element=\"ffd2f8cc-4e12-4a90-99db-7506027bdc05\")>,\n",
       " <selenium.webdriver.remote.webelement.WebElement (session=\"183aba291fb9cbe3b22171ef52994ee8\", element=\"eeebadfc-10f0-4ed9-a828-48359b76e01a\")>,\n",
       " <selenium.webdriver.remote.webelement.WebElement (session=\"183aba291fb9cbe3b22171ef52994ee8\", element=\"32ce5fa6-ca9c-412b-830e-3f3bf9e13dac\")>,\n",
       " <selenium.webdriver.remote.webelement.WebElement (session=\"183aba291fb9cbe3b22171ef52994ee8\", element=\"933964f9-5cb4-4b3a-a017-5a23a44d7b77\")>,\n",
       " <selenium.webdriver.remote.webelement.WebElement (session=\"183aba291fb9cbe3b22171ef52994ee8\", element=\"cda5af31-dfb9-42cd-b64f-04f9f366c88d\")>,\n",
       " <selenium.webdriver.remote.webelement.WebElement (session=\"183aba291fb9cbe3b22171ef52994ee8\", element=\"c06ddc47-35e4-4c61-9f1c-be30913b1f7a\")>,\n",
       " <selenium.webdriver.remote.webelement.WebElement (session=\"183aba291fb9cbe3b22171ef52994ee8\", element=\"c5483bf6-bb87-4c87-aeb2-3d59f68d6570\")>,\n",
       " <selenium.webdriver.remote.webelement.WebElement (session=\"183aba291fb9cbe3b22171ef52994ee8\", element=\"8de3e0f7-e957-4f41-95a9-dd2225023ac4\")>,\n",
       " <selenium.webdriver.remote.webelement.WebElement (session=\"183aba291fb9cbe3b22171ef52994ee8\", element=\"5b022bc6-1dd6-4432-9c53-dee92bb32461\")>,\n",
       " <selenium.webdriver.remote.webelement.WebElement (session=\"183aba291fb9cbe3b22171ef52994ee8\", element=\"da6522be-289e-433e-85ba-53dce63331c2\")>,\n",
       " <selenium.webdriver.remote.webelement.WebElement (session=\"183aba291fb9cbe3b22171ef52994ee8\", element=\"6fb77cf5-83e5-46dc-915c-4b3516f91403\")>,\n",
       " <selenium.webdriver.remote.webelement.WebElement (session=\"183aba291fb9cbe3b22171ef52994ee8\", element=\"453c0092-fe1c-45aa-93fb-18fd7e10c391\")>,\n",
       " <selenium.webdriver.remote.webelement.WebElement (session=\"183aba291fb9cbe3b22171ef52994ee8\", element=\"32a476fe-e00a-42e0-a1a7-ca9a00065430\")>,\n",
       " <selenium.webdriver.remote.webelement.WebElement (session=\"183aba291fb9cbe3b22171ef52994ee8\", element=\"db126a3a-ed29-4c5f-9fe3-5ca160a7db7f\")>,\n",
       " <selenium.webdriver.remote.webelement.WebElement (session=\"183aba291fb9cbe3b22171ef52994ee8\", element=\"97808ca5-9653-4199-ba1a-156a3140bcc0\")>]"
      ]
     },
     "execution_count": 21,
     "metadata": {},
     "output_type": "execute_result"
    }
   ],
   "source": [
    "desc=driver.find_elements_by_xpath(\"//a[@class='IRpwTa']\")\n",
    "desc"
   ]
  },
  {
   "cell_type": "code",
   "execution_count": 22,
   "id": "hollywood-model",
   "metadata": {},
   "outputs": [
    {
     "data": {
      "text/plain": [
       "[<selenium.webdriver.remote.webelement.WebElement (session=\"183aba291fb9cbe3b22171ef52994ee8\", element=\"5bc382f4-f6ac-4651-b41c-2f1a4a46d55e\")>,\n",
       " <selenium.webdriver.remote.webelement.WebElement (session=\"183aba291fb9cbe3b22171ef52994ee8\", element=\"f4ac50ed-3ff7-4f16-b936-fdddd2237c70\")>,\n",
       " <selenium.webdriver.remote.webelement.WebElement (session=\"183aba291fb9cbe3b22171ef52994ee8\", element=\"a646adb3-31e8-4491-8e97-3ee5a8c741ca\")>,\n",
       " <selenium.webdriver.remote.webelement.WebElement (session=\"183aba291fb9cbe3b22171ef52994ee8\", element=\"a10a63b3-8ec7-4cf2-84a5-ff42fa020dfa\")>,\n",
       " <selenium.webdriver.remote.webelement.WebElement (session=\"183aba291fb9cbe3b22171ef52994ee8\", element=\"43f30892-506d-49b3-b3dc-6e73f9e09f46\")>,\n",
       " <selenium.webdriver.remote.webelement.WebElement (session=\"183aba291fb9cbe3b22171ef52994ee8\", element=\"a396872a-b245-4470-9beb-932d00982e93\")>,\n",
       " <selenium.webdriver.remote.webelement.WebElement (session=\"183aba291fb9cbe3b22171ef52994ee8\", element=\"cd801e79-f74f-49d5-a8f4-5f84cbafa08e\")>,\n",
       " <selenium.webdriver.remote.webelement.WebElement (session=\"183aba291fb9cbe3b22171ef52994ee8\", element=\"bd1e722d-6a86-4382-85dc-95f355983f25\")>,\n",
       " <selenium.webdriver.remote.webelement.WebElement (session=\"183aba291fb9cbe3b22171ef52994ee8\", element=\"66597511-515a-42b3-9b7b-aa089e75f60f\")>,\n",
       " <selenium.webdriver.remote.webelement.WebElement (session=\"183aba291fb9cbe3b22171ef52994ee8\", element=\"58e5f6d6-50bd-465a-a9e8-66736a47655e\")>,\n",
       " <selenium.webdriver.remote.webelement.WebElement (session=\"183aba291fb9cbe3b22171ef52994ee8\", element=\"c9710477-0a53-4656-9287-a4401bb65457\")>,\n",
       " <selenium.webdriver.remote.webelement.WebElement (session=\"183aba291fb9cbe3b22171ef52994ee8\", element=\"b687753d-8db4-4f66-a6ea-0da8dd452a2f\")>,\n",
       " <selenium.webdriver.remote.webelement.WebElement (session=\"183aba291fb9cbe3b22171ef52994ee8\", element=\"50197fd3-5c64-4bb4-88b6-2a82f138bf44\")>,\n",
       " <selenium.webdriver.remote.webelement.WebElement (session=\"183aba291fb9cbe3b22171ef52994ee8\", element=\"0b9a6b2e-e482-4266-a452-d8f1b8328083\")>,\n",
       " <selenium.webdriver.remote.webelement.WebElement (session=\"183aba291fb9cbe3b22171ef52994ee8\", element=\"6b89e1d7-0503-4189-880a-3b9978ba8f8b\")>,\n",
       " <selenium.webdriver.remote.webelement.WebElement (session=\"183aba291fb9cbe3b22171ef52994ee8\", element=\"ed6f4089-6f62-491c-9f90-73df35f42fd3\")>,\n",
       " <selenium.webdriver.remote.webelement.WebElement (session=\"183aba291fb9cbe3b22171ef52994ee8\", element=\"65ac0a2c-9222-48b8-8f69-87913989ac44\")>,\n",
       " <selenium.webdriver.remote.webelement.WebElement (session=\"183aba291fb9cbe3b22171ef52994ee8\", element=\"c04e9f34-fc9d-4481-a047-92e02eef8b5f\")>,\n",
       " <selenium.webdriver.remote.webelement.WebElement (session=\"183aba291fb9cbe3b22171ef52994ee8\", element=\"f170c455-1b18-41c4-a829-78911c49c33a\")>,\n",
       " <selenium.webdriver.remote.webelement.WebElement (session=\"183aba291fb9cbe3b22171ef52994ee8\", element=\"1c580e50-9194-4387-a20b-1afcf166f466\")>,\n",
       " <selenium.webdriver.remote.webelement.WebElement (session=\"183aba291fb9cbe3b22171ef52994ee8\", element=\"e1880313-49f9-453f-a66f-5ae9a488ebf8\")>,\n",
       " <selenium.webdriver.remote.webelement.WebElement (session=\"183aba291fb9cbe3b22171ef52994ee8\", element=\"890e6217-8aa6-401e-89fe-e7fb1f082ed1\")>,\n",
       " <selenium.webdriver.remote.webelement.WebElement (session=\"183aba291fb9cbe3b22171ef52994ee8\", element=\"e9332956-3c4b-452f-afe6-aa775c66ef09\")>,\n",
       " <selenium.webdriver.remote.webelement.WebElement (session=\"183aba291fb9cbe3b22171ef52994ee8\", element=\"905015c1-b57a-4268-9dc9-af8c7a28c8dc\")>,\n",
       " <selenium.webdriver.remote.webelement.WebElement (session=\"183aba291fb9cbe3b22171ef52994ee8\", element=\"e8be6716-ab63-454a-b05f-39afd5d8a897\")>,\n",
       " <selenium.webdriver.remote.webelement.WebElement (session=\"183aba291fb9cbe3b22171ef52994ee8\", element=\"f5bcb8d6-19b1-47c8-b752-b3c804f6c1e5\")>,\n",
       " <selenium.webdriver.remote.webelement.WebElement (session=\"183aba291fb9cbe3b22171ef52994ee8\", element=\"5d106ab3-22bc-4c58-90a8-44eab2509da5\")>,\n",
       " <selenium.webdriver.remote.webelement.WebElement (session=\"183aba291fb9cbe3b22171ef52994ee8\", element=\"c321a5d8-cfd0-43c1-b90e-0588224a9541\")>,\n",
       " <selenium.webdriver.remote.webelement.WebElement (session=\"183aba291fb9cbe3b22171ef52994ee8\", element=\"9ba1618c-2548-420f-8e14-c6075e51f12f\")>,\n",
       " <selenium.webdriver.remote.webelement.WebElement (session=\"183aba291fb9cbe3b22171ef52994ee8\", element=\"60b702e4-77d9-4f01-ab80-687118c5ec39\")>,\n",
       " <selenium.webdriver.remote.webelement.WebElement (session=\"183aba291fb9cbe3b22171ef52994ee8\", element=\"5748e33f-3dc1-4b50-a38b-8f05e54b728c\")>,\n",
       " <selenium.webdriver.remote.webelement.WebElement (session=\"183aba291fb9cbe3b22171ef52994ee8\", element=\"f6581b2a-ccbf-4730-adf3-ded374f4abb9\")>,\n",
       " <selenium.webdriver.remote.webelement.WebElement (session=\"183aba291fb9cbe3b22171ef52994ee8\", element=\"d58373bd-0ff6-4a7a-b32e-8261cb8e1579\")>,\n",
       " <selenium.webdriver.remote.webelement.WebElement (session=\"183aba291fb9cbe3b22171ef52994ee8\", element=\"08571e73-05bd-41e7-b082-30bdb18d21c2\")>,\n",
       " <selenium.webdriver.remote.webelement.WebElement (session=\"183aba291fb9cbe3b22171ef52994ee8\", element=\"8c815a60-54d7-4abd-b191-a542ea87b793\")>,\n",
       " <selenium.webdriver.remote.webelement.WebElement (session=\"183aba291fb9cbe3b22171ef52994ee8\", element=\"3e42dd6c-4791-41db-9798-3ff85a94ccb1\")>,\n",
       " <selenium.webdriver.remote.webelement.WebElement (session=\"183aba291fb9cbe3b22171ef52994ee8\", element=\"dc6e12d0-1d34-44de-8b50-cfce419f564a\")>,\n",
       " <selenium.webdriver.remote.webelement.WebElement (session=\"183aba291fb9cbe3b22171ef52994ee8\", element=\"1bd60b51-6304-4916-b909-a826bd4b0e6b\")>,\n",
       " <selenium.webdriver.remote.webelement.WebElement (session=\"183aba291fb9cbe3b22171ef52994ee8\", element=\"5bff98ad-9948-4589-94eb-fbafab1fd544\")>,\n",
       " <selenium.webdriver.remote.webelement.WebElement (session=\"183aba291fb9cbe3b22171ef52994ee8\", element=\"a96b9da8-2e08-4352-884d-d00127c49ea1\")>]"
      ]
     },
     "execution_count": 22,
     "metadata": {},
     "output_type": "execute_result"
    }
   ],
   "source": [
    "price=driver.find_elements_by_xpath(\"//div[@class='_30jeq3']\")\n",
    "price\n"
   ]
  },
  {
   "cell_type": "code",
   "execution_count": 24,
   "id": "noticed-companion",
   "metadata": {},
   "outputs": [
    {
     "data": {
      "text/plain": [
       "[<selenium.webdriver.remote.webelement.WebElement (session=\"183aba291fb9cbe3b22171ef52994ee8\", element=\"0e5e1ad2-fa5a-4267-97df-ff6eabdd99af\")>,\n",
       " <selenium.webdriver.remote.webelement.WebElement (session=\"183aba291fb9cbe3b22171ef52994ee8\", element=\"6bf7f411-94be-41c6-ad45-b33aebf78d26\")>,\n",
       " <selenium.webdriver.remote.webelement.WebElement (session=\"183aba291fb9cbe3b22171ef52994ee8\", element=\"433a098b-749d-4a30-98b0-9f9ebed14b87\")>,\n",
       " <selenium.webdriver.remote.webelement.WebElement (session=\"183aba291fb9cbe3b22171ef52994ee8\", element=\"cb0a9cb2-8573-47c0-8f82-3edb60c3f3df\")>,\n",
       " <selenium.webdriver.remote.webelement.WebElement (session=\"183aba291fb9cbe3b22171ef52994ee8\", element=\"ac4cb5b7-d29e-458f-9915-2d729d3a4f49\")>,\n",
       " <selenium.webdriver.remote.webelement.WebElement (session=\"183aba291fb9cbe3b22171ef52994ee8\", element=\"87f2d54d-7dce-424d-93f2-00faedc458ad\")>,\n",
       " <selenium.webdriver.remote.webelement.WebElement (session=\"183aba291fb9cbe3b22171ef52994ee8\", element=\"27445868-7902-480a-a03b-258af3952ad9\")>,\n",
       " <selenium.webdriver.remote.webelement.WebElement (session=\"183aba291fb9cbe3b22171ef52994ee8\", element=\"1cf46c4c-02ad-4de4-b2b3-31dc3cc6e6e2\")>,\n",
       " <selenium.webdriver.remote.webelement.WebElement (session=\"183aba291fb9cbe3b22171ef52994ee8\", element=\"5b54461f-d77f-4407-9865-89e90a3350a8\")>,\n",
       " <selenium.webdriver.remote.webelement.WebElement (session=\"183aba291fb9cbe3b22171ef52994ee8\", element=\"9499d3ed-cd0c-4ecf-8e85-93a757102f19\")>,\n",
       " <selenium.webdriver.remote.webelement.WebElement (session=\"183aba291fb9cbe3b22171ef52994ee8\", element=\"9e9db314-dcd3-4b41-acf8-4ed0bc66078c\")>,\n",
       " <selenium.webdriver.remote.webelement.WebElement (session=\"183aba291fb9cbe3b22171ef52994ee8\", element=\"4f8d0afa-72f1-4cf0-9b4e-94088991104b\")>,\n",
       " <selenium.webdriver.remote.webelement.WebElement (session=\"183aba291fb9cbe3b22171ef52994ee8\", element=\"eaffea97-07d5-4a20-b115-ff446363f2d5\")>,\n",
       " <selenium.webdriver.remote.webelement.WebElement (session=\"183aba291fb9cbe3b22171ef52994ee8\", element=\"b60b4284-104c-4efd-9e79-a8f271ecb2c8\")>,\n",
       " <selenium.webdriver.remote.webelement.WebElement (session=\"183aba291fb9cbe3b22171ef52994ee8\", element=\"03b12897-53c7-4dae-a2fb-e4f254bbb52b\")>,\n",
       " <selenium.webdriver.remote.webelement.WebElement (session=\"183aba291fb9cbe3b22171ef52994ee8\", element=\"a70d0c83-46e0-451c-bedc-d319479770e6\")>,\n",
       " <selenium.webdriver.remote.webelement.WebElement (session=\"183aba291fb9cbe3b22171ef52994ee8\", element=\"8b2220e0-54e4-406a-ac79-db4eaa9dbd87\")>,\n",
       " <selenium.webdriver.remote.webelement.WebElement (session=\"183aba291fb9cbe3b22171ef52994ee8\", element=\"b4bee032-8107-47de-925e-f9d77f294fe5\")>,\n",
       " <selenium.webdriver.remote.webelement.WebElement (session=\"183aba291fb9cbe3b22171ef52994ee8\", element=\"da87aab4-1466-4139-add0-ade31d18a885\")>,\n",
       " <selenium.webdriver.remote.webelement.WebElement (session=\"183aba291fb9cbe3b22171ef52994ee8\", element=\"bcefef6e-39e8-4769-93f9-7cc7c1f1754a\")>,\n",
       " <selenium.webdriver.remote.webelement.WebElement (session=\"183aba291fb9cbe3b22171ef52994ee8\", element=\"0a0062bf-0f9f-469c-8bee-315014f461d6\")>,\n",
       " <selenium.webdriver.remote.webelement.WebElement (session=\"183aba291fb9cbe3b22171ef52994ee8\", element=\"a2f66983-227a-4d7c-bf8d-75bf1acd2135\")>,\n",
       " <selenium.webdriver.remote.webelement.WebElement (session=\"183aba291fb9cbe3b22171ef52994ee8\", element=\"2f7669ab-6a08-4b99-8b7f-637b0559d3b4\")>,\n",
       " <selenium.webdriver.remote.webelement.WebElement (session=\"183aba291fb9cbe3b22171ef52994ee8\", element=\"bb19db17-4ac6-48cd-ad01-08386d59addb\")>,\n",
       " <selenium.webdriver.remote.webelement.WebElement (session=\"183aba291fb9cbe3b22171ef52994ee8\", element=\"adafcbaa-f55d-4cae-85f2-d6a4310c6479\")>,\n",
       " <selenium.webdriver.remote.webelement.WebElement (session=\"183aba291fb9cbe3b22171ef52994ee8\", element=\"2f8e7210-594d-4476-8292-699655ce3e28\")>,\n",
       " <selenium.webdriver.remote.webelement.WebElement (session=\"183aba291fb9cbe3b22171ef52994ee8\", element=\"e3121c33-9540-41c1-81e9-17462d7506c9\")>,\n",
       " <selenium.webdriver.remote.webelement.WebElement (session=\"183aba291fb9cbe3b22171ef52994ee8\", element=\"22a56b42-4ea1-420c-b934-a0518c46809f\")>,\n",
       " <selenium.webdriver.remote.webelement.WebElement (session=\"183aba291fb9cbe3b22171ef52994ee8\", element=\"6ea1f318-ae9e-4965-a39a-3f24702445cc\")>,\n",
       " <selenium.webdriver.remote.webelement.WebElement (session=\"183aba291fb9cbe3b22171ef52994ee8\", element=\"aab42f3f-1fbb-408e-bcfb-65d1bff0cb5e\")>,\n",
       " <selenium.webdriver.remote.webelement.WebElement (session=\"183aba291fb9cbe3b22171ef52994ee8\", element=\"b9628629-f5d9-494a-b175-74a3f9e6159b\")>,\n",
       " <selenium.webdriver.remote.webelement.WebElement (session=\"183aba291fb9cbe3b22171ef52994ee8\", element=\"523190da-8414-4a39-ba42-c449ff7beaf9\")>,\n",
       " <selenium.webdriver.remote.webelement.WebElement (session=\"183aba291fb9cbe3b22171ef52994ee8\", element=\"f4dc9840-85ff-4cf2-a6b2-4bf35ba806b0\")>,\n",
       " <selenium.webdriver.remote.webelement.WebElement (session=\"183aba291fb9cbe3b22171ef52994ee8\", element=\"158834fe-871f-457d-abcc-b9349ba3a7b1\")>,\n",
       " <selenium.webdriver.remote.webelement.WebElement (session=\"183aba291fb9cbe3b22171ef52994ee8\", element=\"0f88df30-9e56-4539-a99c-54fedb589f72\")>,\n",
       " <selenium.webdriver.remote.webelement.WebElement (session=\"183aba291fb9cbe3b22171ef52994ee8\", element=\"0282afe7-30f8-4ef6-8e06-b370b24c9344\")>,\n",
       " <selenium.webdriver.remote.webelement.WebElement (session=\"183aba291fb9cbe3b22171ef52994ee8\", element=\"ad20160f-87b6-48b0-bfb2-94d557fb1fcc\")>,\n",
       " <selenium.webdriver.remote.webelement.WebElement (session=\"183aba291fb9cbe3b22171ef52994ee8\", element=\"8ca57f6c-7c86-4628-9b9f-625727081064\")>,\n",
       " <selenium.webdriver.remote.webelement.WebElement (session=\"183aba291fb9cbe3b22171ef52994ee8\", element=\"29a8ad3e-654c-4b49-9284-a1c3949b4a06\")>,\n",
       " <selenium.webdriver.remote.webelement.WebElement (session=\"183aba291fb9cbe3b22171ef52994ee8\", element=\"bf87e430-402e-427b-9550-0d4b4513035c\")>]"
      ]
     },
     "execution_count": 24,
     "metadata": {},
     "output_type": "execute_result"
    }
   ],
   "source": [
    "discount=driver.find_elements_by_xpath(\"//div[@class='_3Ay6Sb']\")\n",
    "discount"
   ]
  },
  {
   "cell_type": "code",
   "execution_count": 25,
   "id": "likely-testimony",
   "metadata": {},
   "outputs": [
    {
     "data": {
      "text/plain": [
       "[<selenium.webdriver.remote.webelement.WebElement (session=\"183aba291fb9cbe3b22171ef52994ee8\", element=\"f9d0eef3-2c87-467d-8ea8-245f65e29934\")>,\n",
       " <selenium.webdriver.remote.webelement.WebElement (session=\"183aba291fb9cbe3b22171ef52994ee8\", element=\"a9900cd2-b45a-45b5-b33f-5267eda195bf\")>,\n",
       " <selenium.webdriver.remote.webelement.WebElement (session=\"183aba291fb9cbe3b22171ef52994ee8\", element=\"90a7f6ef-f921-4833-89a4-4742d7492168\")>,\n",
       " <selenium.webdriver.remote.webelement.WebElement (session=\"183aba291fb9cbe3b22171ef52994ee8\", element=\"a36d1216-d48d-4c3a-9241-a8799ae7bc0c\")>,\n",
       " <selenium.webdriver.remote.webelement.WebElement (session=\"183aba291fb9cbe3b22171ef52994ee8\", element=\"3c17dbd2-20d7-4881-89e1-53274828e995\")>,\n",
       " <selenium.webdriver.remote.webelement.WebElement (session=\"183aba291fb9cbe3b22171ef52994ee8\", element=\"48c8d5a0-3dc6-4e25-95a4-ff8c0fba2d4d\")>,\n",
       " <selenium.webdriver.remote.webelement.WebElement (session=\"183aba291fb9cbe3b22171ef52994ee8\", element=\"3c60c2a7-ee8e-4dc7-a3c5-ecae6536c360\")>,\n",
       " <selenium.webdriver.remote.webelement.WebElement (session=\"183aba291fb9cbe3b22171ef52994ee8\", element=\"74cc07fc-7ac8-406f-adc6-9404059d7d3e\")>,\n",
       " <selenium.webdriver.remote.webelement.WebElement (session=\"183aba291fb9cbe3b22171ef52994ee8\", element=\"dc9f3c5a-3196-43ff-90b2-7f36e07377c5\")>,\n",
       " <selenium.webdriver.remote.webelement.WebElement (session=\"183aba291fb9cbe3b22171ef52994ee8\", element=\"2e9427c4-ddae-4d28-afc6-ffcc948d985c\")>,\n",
       " <selenium.webdriver.remote.webelement.WebElement (session=\"183aba291fb9cbe3b22171ef52994ee8\", element=\"be5829fc-816e-458b-a5cb-acc546ce1319\")>,\n",
       " <selenium.webdriver.remote.webelement.WebElement (session=\"183aba291fb9cbe3b22171ef52994ee8\", element=\"aeb5fbbe-105e-499c-aaf8-3e6dbbc94c31\")>,\n",
       " <selenium.webdriver.remote.webelement.WebElement (session=\"183aba291fb9cbe3b22171ef52994ee8\", element=\"e0b33190-bf8c-42f7-9489-454ff42d4d8a\")>,\n",
       " <selenium.webdriver.remote.webelement.WebElement (session=\"183aba291fb9cbe3b22171ef52994ee8\", element=\"37913636-afe3-40a5-b233-9ca0f55fd7db\")>,\n",
       " <selenium.webdriver.remote.webelement.WebElement (session=\"183aba291fb9cbe3b22171ef52994ee8\", element=\"69a435f8-da8c-4ce9-ae49-d8ec508140f4\")>,\n",
       " <selenium.webdriver.remote.webelement.WebElement (session=\"183aba291fb9cbe3b22171ef52994ee8\", element=\"a9686ae8-1623-4476-b797-2cebc1d7b226\")>,\n",
       " <selenium.webdriver.remote.webelement.WebElement (session=\"183aba291fb9cbe3b22171ef52994ee8\", element=\"890f131f-247e-4dc3-886f-ba479c0e76bf\")>,\n",
       " <selenium.webdriver.remote.webelement.WebElement (session=\"183aba291fb9cbe3b22171ef52994ee8\", element=\"736684ed-7b6e-4419-8c82-37f10bf40763\")>,\n",
       " <selenium.webdriver.remote.webelement.WebElement (session=\"183aba291fb9cbe3b22171ef52994ee8\", element=\"544d1866-929e-4040-9419-ce697ed0db90\")>,\n",
       " <selenium.webdriver.remote.webelement.WebElement (session=\"183aba291fb9cbe3b22171ef52994ee8\", element=\"704dc5c0-2946-4052-a819-296e86e32993\")>,\n",
       " <selenium.webdriver.remote.webelement.WebElement (session=\"183aba291fb9cbe3b22171ef52994ee8\", element=\"e506a0bd-7079-43f4-8e87-b16b2c65618f\")>,\n",
       " <selenium.webdriver.remote.webelement.WebElement (session=\"183aba291fb9cbe3b22171ef52994ee8\", element=\"a95cc3ba-9737-48b9-b8ed-bf26326d1daa\")>,\n",
       " <selenium.webdriver.remote.webelement.WebElement (session=\"183aba291fb9cbe3b22171ef52994ee8\", element=\"ca86a464-8ff5-4de2-851b-ff599cb222cd\")>,\n",
       " <selenium.webdriver.remote.webelement.WebElement (session=\"183aba291fb9cbe3b22171ef52994ee8\", element=\"02f2f4c6-940b-40f4-bccb-0fcff6a84c14\")>,\n",
       " <selenium.webdriver.remote.webelement.WebElement (session=\"183aba291fb9cbe3b22171ef52994ee8\", element=\"24d106dd-266c-47f7-90e7-9139b06c2ebf\")>,\n",
       " <selenium.webdriver.remote.webelement.WebElement (session=\"183aba291fb9cbe3b22171ef52994ee8\", element=\"e6de730a-598b-4027-ab00-58abfb2d3b1a\")>,\n",
       " <selenium.webdriver.remote.webelement.WebElement (session=\"183aba291fb9cbe3b22171ef52994ee8\", element=\"6d6760c4-8b51-4441-8ba5-a9f85c694168\")>,\n",
       " <selenium.webdriver.remote.webelement.WebElement (session=\"183aba291fb9cbe3b22171ef52994ee8\", element=\"309dde4c-6749-4981-84c6-56da40a4cd3b\")>,\n",
       " <selenium.webdriver.remote.webelement.WebElement (session=\"183aba291fb9cbe3b22171ef52994ee8\", element=\"70d1864e-afb5-422f-b761-d3e56c0c5511\")>,\n",
       " <selenium.webdriver.remote.webelement.WebElement (session=\"183aba291fb9cbe3b22171ef52994ee8\", element=\"8c7c666e-0d6c-43aa-9eb0-2d41939a33a4\")>,\n",
       " <selenium.webdriver.remote.webelement.WebElement (session=\"183aba291fb9cbe3b22171ef52994ee8\", element=\"fb6c096a-011a-4e02-bdbd-2967d2234b71\")>,\n",
       " <selenium.webdriver.remote.webelement.WebElement (session=\"183aba291fb9cbe3b22171ef52994ee8\", element=\"98213799-fbc5-48ea-a95f-2a77b1ebf41a\")>,\n",
       " <selenium.webdriver.remote.webelement.WebElement (session=\"183aba291fb9cbe3b22171ef52994ee8\", element=\"7a519c3a-e672-4fec-9629-f8d6e64af8ce\")>,\n",
       " <selenium.webdriver.remote.webelement.WebElement (session=\"183aba291fb9cbe3b22171ef52994ee8\", element=\"d59e3f94-8946-40a8-82de-faa4ee374357\")>,\n",
       " <selenium.webdriver.remote.webelement.WebElement (session=\"183aba291fb9cbe3b22171ef52994ee8\", element=\"5ff4fdc4-6c79-497b-9aea-7012eeaec879\")>,\n",
       " <selenium.webdriver.remote.webelement.WebElement (session=\"183aba291fb9cbe3b22171ef52994ee8\", element=\"3f21d0df-f365-4ed1-9243-cb2ed6bbab90\")>,\n",
       " <selenium.webdriver.remote.webelement.WebElement (session=\"183aba291fb9cbe3b22171ef52994ee8\", element=\"02c1f0e0-891c-4871-83f7-550a96d7793a\")>,\n",
       " <selenium.webdriver.remote.webelement.WebElement (session=\"183aba291fb9cbe3b22171ef52994ee8\", element=\"c6ec8b44-c9e6-4781-b9bc-bf9df65bcf00\")>,\n",
       " <selenium.webdriver.remote.webelement.WebElement (session=\"183aba291fb9cbe3b22171ef52994ee8\", element=\"fcbb7a50-f141-4d38-b8a6-3937420b66ae\")>,\n",
       " <selenium.webdriver.remote.webelement.WebElement (session=\"183aba291fb9cbe3b22171ef52994ee8\", element=\"89cbff04-b083-4e59-bf55-dadcda147e69\")>]"
      ]
     },
     "execution_count": 25,
     "metadata": {},
     "output_type": "execute_result"
    }
   ],
   "source": [
    "brand=driver.find_elements_by_xpath(\"//div[@class='_2WkVRV']\")\n",
    "brand"
   ]
  },
  {
   "cell_type": "code",
   "execution_count": 26,
   "id": "specified-motel",
   "metadata": {},
   "outputs": [
    {
     "name": "stdout",
     "output_type": "stream",
     "text": [
      "['Fastrack', 'Fastrack', 'Fastrack', 'ROZZETTA CRAFT', 'ROZZETTA CRAFT', 'NuVew', 'ROZZETTA CRAFT', 'PIRASO', 'Fastrack', 'Fastrack', 'DEIXELS', 'Silver Kartz', 'Fastrack', 'Fastrack', 'ROZZETTA CRAFT', 'PIRASO', 'PHENOMENAL', 'PHENOMENAL', 'Singco India', 'Fastrack', 'Fastrack', 'hipe', 'Singco India', 'Fastrack', 'Fastrack', 'ROZZETTA CRAFT', 'ROYAL SON', 'AISLIN', 'ROYAL SON', 'Fastrack', 'PHENOMENAL', 'Flizz', 'DEIXELS', 'HIPPON', 'ROZZETTA CRAFT', 'Fastrack', 'Fastrack', 'ROYAL SON', 'Fravy', 'Singco India', 'hipe', 'Fastrack', 'ROZZETTA CRAFT', 'GANSTA', 'ROZZETTA CRAFT', 'GANSTA', 'Fastrack', 'ROZZETTA CRAFT', 'Fastrack', 'elegante', 'Fastrack', 'ROYAL SON', 'AISLIN', 'GANSTA', 'GANSTA', 'ROYAL SON', 'ROYAL SON', 'Fastrack', 'DEIXELS', 'hipe', 'Fastrack', 'ROYAL SON', 'ROZZETTA CRAFT', 'GANSTA', 'hipe', 'ROZZETTA CRAFT', 'GANSTA', 'Villain', 'ROYAL SON', 'Flizz', 'NuVew', 'PHENOMENAL', 'ROYAL SON', 'ROYAL SON', 'Fastrack', 'NuVew', 'ROYAL SON', 'PHENOMENAL', 'Silver Kartz', 'SRPM', 'PHENOMENAL', 'Singco', 'AISLIN', 'DEIXELS', 'AISLIN', 'Wrogn', 'IDEE', 'AISLIN', 'Ray-Ban', 'funglasses', 'GANSTA', 'ROZZETTA CRAFT', 'ROYAL SON', 'Fastrack', 'Fastrack', 'FOSSIL', 'GANSTA', 'Fastrack', 'NuVew', 'FOSSIL'] \n",
      "\n",
      "['UV Protection Rectangular Sunglasses (Free Size)', 'Gradient, UV Protection Wayfarer Sunglasses (Free Size)', 'UV Protection Wayfarer Sunglasses (Free Size)', 'UV Protection, Riding Glasses Rectangular Sunglasses (F...', 'UV Protection, Gradient Rectangular Sunglasses (Free Si...', 'UV Protection Aviator Sunglasses (58)', 'UV Protection Retro Square Sunglasses (Free Size)', 'UV Protection Aviator Sunglasses (Free Size)', 'UV Protection Aviator Sunglasses (Free Size)', 'UV Protection Wayfarer Sunglasses (56)', 'UV Protection Aviator, Wayfarer Sunglasses (Free Size)', 'UV Protection Oval Sunglasses (56)', 'UV Protection Shield Sunglasses (Free Size)', 'Gradient, UV Protection Wayfarer Sunglasses (Free Size)', 'Gradient, UV Protection Round Sunglasses (Free Size)', 'UV Protection Aviator Sunglasses (54)', 'UV Protection, Mirrored Retro Square Sunglasses (53)', 'UV Protection, Mirrored Retro Square Sunglasses (Free S...', 'UV Protection, Riding Glasses, Others Aviator, Wayfarer...', 'UV Protection Wrap-around Sunglasses (Free Size)', 'UV Protection Aviator Sunglasses (58)', 'UV Protection, Mirrored Aviator Sunglasses (Free Size)', 'UV Protection Aviator Sunglasses (Free Size)', 'UV Protection Wayfarer Sunglasses (57)', 'UV Protection Wayfarer Sunglasses (Free Size)', 'UV Protection Shield Sunglasses (54)', 'UV Protection Wayfarer Sunglasses (55)', 'UV Protection Oval Sunglasses (60)', 'UV Protection Rectangular Sunglasses (58)', 'Mirrored, UV Protection Wayfarer Sunglasses (Free Size)', 'UV Protection Clubmaster Sunglasses (Free Size)', 'UV Protection Retro Square Sunglasses (Free Size)', 'UV Protection Round Sunglasses (Free Size)', 'UV Protection Wayfarer Sunglasses (55)', 'UV Protection, Gradient Round Sunglasses (Free Size)', 'UV Protection Wayfarer Sunglasses (Free Size)', 'UV Protection Wayfarer Sunglasses (Free Size)', 'Polarized, UV Protection Aviator Sunglasses (58)', 'UV Protection Retro Square Sunglasses (Free Size)', 'Mirrored, Riding Glasses, Others Sports Sunglasses (50)', 'Mirrored Wayfarer Sunglasses (55)', 'UV Protection Round Sunglasses (52)', 'Polarized, UV Protection Aviator Sunglasses (Free Size)', 'UV Protection Aviator Sunglasses (57)', 'UV Protection, Gradient Round Sunglasses (Free Size)', 'UV Protection, Mirrored Wayfarer Sunglasses (53)', 'UV Protection Aviator Sunglasses (58)', 'Mirrored, UV Protection Round Sunglasses (Free Size)', 'UV Protection Wayfarer Sunglasses (Free Size)', 'UV Protection Wayfarer Sunglasses (Free Size)', 'UV Protection, Polarized Wayfarer Sunglasses (56)', 'Polarized Sports Sunglasses (68)', 'UV Protection, Gradient Oval Sunglasses (58)', 'UV Protection, Riding Glasses Wayfarer Sunglasses (53)', 'UV Protection, Night Vision, Riding Glasses Aviator Sun...', 'Mirrored Aviator Sunglasses (58)', 'UV Protection, Gradient Wayfarer Sunglasses (55)', 'UV Protection Sports Sunglasses (Free Size)', 'Polarized, UV Protection, Riding Glasses Wayfarer Sungl...', 'Mirrored, UV Protection, Gradient Round Sunglasses (55)', 'UV Protection Wayfarer Sunglasses (Free Size)', 'Mirrored Aviator Sunglasses (55)', 'UV Protection, Gradient Retro Square Sunglasses (62)', 'UV Protection, Mirrored, Gradient Wayfarer Sunglasses (...', 'UV Protection Sports Sunglasses (Free Size)', 'UV Protection, Gradient Round Sunglasses (Free Size)', 'UV Protection, Gradient Wayfarer Sunglasses (53)', 'Others Retro Square Sunglasses (Free Size)', 'UV Protection Retro Square Sunglasses (58)', 'UV Protection, Polarized Rectangular Sunglasses (Free S...', 'UV Protection Cat-eye Sunglasses (60)', 'UV Protection, Mirrored, Gradient Retro Square Sunglass...', 'UV Protection Retro Square Sunglasses (88)', 'Polarized, UV Protection Round Sunglasses (49)', 'UV Protection Rectangular Sunglasses (56)', 'UV Protection, Night Vision, Riding Glasses Retro Squar...', 'Mirrored Aviator Sunglasses (55)', 'UV Protection, Mirrored Clubmaster Sunglasses (Free Siz...', 'UV Protection Oval Sunglasses (56)', 'UV Protection Round Sunglasses (53)', 'UV Protection, Mirrored Retro Square Sunglasses (53)', 'UV Protection, Others Aviator Sunglasses (32)', 'UV Protection, Gradient Oval Sunglasses (58)', 'UV Protection Wayfarer Sunglasses (Free Size)', 'UV Protection Oval Sunglasses (60)', 'UV Protection Wayfarer Sunglasses (55)', 'Gradient Aviator Sunglasses (58)', 'UV Protection Aviator Sunglasses (58)', 'Polarized Aviator Sunglasses (58)', 'UV Protection Aviator Sunglasses (57)', 'UV Protection, Gradient Rectangular Sunglasses (Free Si...', 'UV Protection Rectangular Sunglasses (Free Size)', 'UV Protection Aviator Sunglasses (Free Size)', 'Gradient, UV Protection Wayfarer Sunglasses (Free Size)', 'Others Cat-eye Sunglasses (56)', 'UV Protection, Riding Glasses Aviator Sunglasses (57)', 'UV Protection Rectangular Sunglasses (59)', 'UV Protection Wayfarer, Rectangular Sunglasses (57)', 'Mirrored Round Sunglasses (51)', 'UV Protection Rectangular Sunglasses (Free Size)'] \n",
      "\n",
      "['₹570', '₹621', '₹733', '₹449', '₹499', '₹215', '₹499', '₹349', '₹674', '₹759', '₹213', '₹299', '₹759', '₹638', '₹449', '₹250', '₹399', '₹399', '₹194', '₹636', '₹1,123', '₹199', '₹339', '₹559', '₹758', '₹499', '₹265', '₹764', '₹474', '₹777', '₹319', '₹399', '₹209', '₹251', '₹449', '₹627', '₹758', '₹711', '₹289', '₹236', '₹219', '₹1,232', '₹449', '₹281', '₹449', '₹199', '₹1,115', '₹399', '₹758', '₹449', '₹759', '₹1,234', '₹525', '₹260', '₹292', '₹399', '₹217', '₹771', '₹236', '₹210', '₹576', '₹379', '₹499', '₹281', '₹319', '₹399', '₹328', '₹599', '₹499', '₹279', '₹419', '₹259', '₹569', '₹664', '₹698', '₹511', '₹399', '₹319', '₹299', '₹189', '₹399', '₹327', '₹500', '₹200', '₹764', '₹875', '₹1,181', '₹890', '₹8,451', '₹163', '₹337', '₹449', '₹499', '₹748', '₹777', '₹2,724', '₹279', '₹1,097', '₹395', '₹2,123'] \n",
      "\n"
     ]
    },
    {
     "data": {
      "text/plain": [
       "['28% off',\n",
       " '22% off',\n",
       " '18% off',\n",
       " '79% off',\n",
       " '77% off',\n",
       " '72% off',\n",
       " '77% off',\n",
       " '78% off',\n",
       " '25% off',\n",
       " '15% off',\n",
       " '82% off',\n",
       " '75% off',\n",
       " '15% off',\n",
       " '20% off',\n",
       " '77% off',\n",
       " '84% off',\n",
       " '80% off',\n",
       " '80% off',\n",
       " '72% off',\n",
       " '29% off',\n",
       " '13% off',\n",
       " '80% off',\n",
       " '71% off',\n",
       " '30% off',\n",
       " '15% off',\n",
       " '80% off',\n",
       " '79% off',\n",
       " '69% off',\n",
       " '68% off',\n",
       " '22% off',\n",
       " '84% off',\n",
       " '81% off',\n",
       " '73% off',\n",
       " '79% off',\n",
       " '77% off',\n",
       " '21% off',\n",
       " '15% off',\n",
       " '64% off',\n",
       " '80% off',\n",
       " '84% off',\n",
       " '78% off',\n",
       " '5% off',\n",
       " '77% off',\n",
       " '85% off',\n",
       " '83% off',\n",
       " '80% off',\n",
       " '14% off',\n",
       " '72% off',\n",
       " '15% off',\n",
       " '70% off',\n",
       " '15% off',\n",
       " '50% off',\n",
       " '65% off',\n",
       " '86% off',\n",
       " '85% off',\n",
       " '73% off',\n",
       " '78% off',\n",
       " '14% off',\n",
       " '60% off',\n",
       " '85% off',\n",
       " '27% off',\n",
       " '74% off',\n",
       " '75% off',\n",
       " '85% off',\n",
       " '83% off',\n",
       " '80% off',\n",
       " '83% off',\n",
       " '20% off',\n",
       " '66% off',\n",
       " '81% off',\n",
       " '71% off',\n",
       " '87% off',\n",
       " '71% off',\n",
       " '66% off',\n",
       " '12% off',\n",
       " '69% off',\n",
       " '73% off',\n",
       " '84% off',\n",
       " '75% off',\n",
       " '62% off',\n",
       " '80% off',\n",
       " '83% off',\n",
       " '67% off',\n",
       " '59% off',\n",
       " '69% off',\n",
       " '70% off',\n",
       " '58% off',\n",
       " '75% off',\n",
       " '10% off',\n",
       " '83% off',\n",
       " '83% off',\n",
       " '77% off',\n",
       " '66% off',\n",
       " '16% off',\n",
       " '22% off',\n",
       " '36% off',\n",
       " '86% off',\n",
       " '15% off',\n",
       " '62% off',\n",
       " '51% off']"
      ]
     },
     "execution_count": 26,
     "metadata": {},
     "output_type": "execute_result"
    }
   ],
   "source": [
    "for i in brand[:20]:\n",
    "    model.append(i.text)\n",
    "print(model,'\\n')\n",
    "\n",
    "for i in desc[:20]:\n",
    "    description.append(i.text)\n",
    "print(description,'\\n')\n",
    "for i in price[:20]:\n",
    "    mrp.append(i.text)\n",
    "print(mrp,'\\n')\n",
    "for i in discount[:20]:\n",
    "    disco.append(i.text)\n",
    "disco"
   ]
  },
  {
   "cell_type": "code",
   "execution_count": 28,
   "id": "leading-think",
   "metadata": {},
   "outputs": [
    {
     "data": {
      "text/plain": [
       "100"
      ]
     },
     "execution_count": 28,
     "metadata": {},
     "output_type": "execute_result"
    }
   ],
   "source": [
    "len(disco)"
   ]
  },
  {
   "cell_type": "markdown",
   "id": "fifth-insight",
   "metadata": {},
   "source": [
    "Now we have 100 scraped data."
   ]
  },
  {
   "cell_type": "markdown",
   "id": "premier-bennett",
   "metadata": {},
   "source": [
    "Let us now create a table."
   ]
  },
  {
   "cell_type": "code",
   "execution_count": 29,
   "id": "collective-priority",
   "metadata": {},
   "outputs": [
    {
     "data": {
      "text/html": [
       "<div>\n",
       "<style scoped>\n",
       "    .dataframe tbody tr th:only-of-type {\n",
       "        vertical-align: middle;\n",
       "    }\n",
       "\n",
       "    .dataframe tbody tr th {\n",
       "        vertical-align: top;\n",
       "    }\n",
       "\n",
       "    .dataframe thead th {\n",
       "        text-align: right;\n",
       "    }\n",
       "</style>\n",
       "<table border=\"1\" class=\"dataframe\">\n",
       "  <thead>\n",
       "    <tr style=\"text-align: right;\">\n",
       "      <th></th>\n",
       "      <th>Brand</th>\n",
       "      <th>Price</th>\n",
       "      <th>Discount</th>\n",
       "      <th>Desc</th>\n",
       "    </tr>\n",
       "  </thead>\n",
       "  <tbody>\n",
       "    <tr>\n",
       "      <th>0</th>\n",
       "      <td>Fastrack</td>\n",
       "      <td>₹570</td>\n",
       "      <td>28% off</td>\n",
       "      <td>UV Protection Rectangular Sunglasses (Free Size)</td>\n",
       "    </tr>\n",
       "    <tr>\n",
       "      <th>1</th>\n",
       "      <td>Fastrack</td>\n",
       "      <td>₹621</td>\n",
       "      <td>22% off</td>\n",
       "      <td>Gradient, UV Protection Wayfarer Sunglasses (F...</td>\n",
       "    </tr>\n",
       "    <tr>\n",
       "      <th>2</th>\n",
       "      <td>Fastrack</td>\n",
       "      <td>₹733</td>\n",
       "      <td>18% off</td>\n",
       "      <td>UV Protection Wayfarer Sunglasses (Free Size)</td>\n",
       "    </tr>\n",
       "    <tr>\n",
       "      <th>3</th>\n",
       "      <td>ROZZETTA CRAFT</td>\n",
       "      <td>₹449</td>\n",
       "      <td>79% off</td>\n",
       "      <td>UV Protection, Riding Glasses Rectangular Sung...</td>\n",
       "    </tr>\n",
       "    <tr>\n",
       "      <th>4</th>\n",
       "      <td>ROZZETTA CRAFT</td>\n",
       "      <td>₹499</td>\n",
       "      <td>77% off</td>\n",
       "      <td>UV Protection, Gradient Rectangular Sunglasses...</td>\n",
       "    </tr>\n",
       "    <tr>\n",
       "      <th>...</th>\n",
       "      <td>...</td>\n",
       "      <td>...</td>\n",
       "      <td>...</td>\n",
       "      <td>...</td>\n",
       "    </tr>\n",
       "    <tr>\n",
       "      <th>95</th>\n",
       "      <td>FOSSIL</td>\n",
       "      <td>₹2,724</td>\n",
       "      <td>36% off</td>\n",
       "      <td>UV Protection, Riding Glasses Aviator Sunglass...</td>\n",
       "    </tr>\n",
       "    <tr>\n",
       "      <th>96</th>\n",
       "      <td>GANSTA</td>\n",
       "      <td>₹279</td>\n",
       "      <td>86% off</td>\n",
       "      <td>UV Protection Rectangular Sunglasses (59)</td>\n",
       "    </tr>\n",
       "    <tr>\n",
       "      <th>97</th>\n",
       "      <td>Fastrack</td>\n",
       "      <td>₹1,097</td>\n",
       "      <td>15% off</td>\n",
       "      <td>UV Protection Wayfarer, Rectangular Sunglasses...</td>\n",
       "    </tr>\n",
       "    <tr>\n",
       "      <th>98</th>\n",
       "      <td>NuVew</td>\n",
       "      <td>₹395</td>\n",
       "      <td>62% off</td>\n",
       "      <td>Mirrored Round Sunglasses (51)</td>\n",
       "    </tr>\n",
       "    <tr>\n",
       "      <th>99</th>\n",
       "      <td>FOSSIL</td>\n",
       "      <td>₹2,123</td>\n",
       "      <td>51% off</td>\n",
       "      <td>UV Protection Rectangular Sunglasses (Free Size)</td>\n",
       "    </tr>\n",
       "  </tbody>\n",
       "</table>\n",
       "<p>100 rows × 4 columns</p>\n",
       "</div>"
      ],
      "text/plain": [
       "             Brand   Price Discount  \\\n",
       "0         Fastrack    ₹570  28% off   \n",
       "1         Fastrack    ₹621  22% off   \n",
       "2         Fastrack    ₹733  18% off   \n",
       "3   ROZZETTA CRAFT    ₹449  79% off   \n",
       "4   ROZZETTA CRAFT    ₹499  77% off   \n",
       "..             ...     ...      ...   \n",
       "95          FOSSIL  ₹2,724  36% off   \n",
       "96          GANSTA    ₹279  86% off   \n",
       "97        Fastrack  ₹1,097  15% off   \n",
       "98           NuVew    ₹395  62% off   \n",
       "99          FOSSIL  ₹2,123  51% off   \n",
       "\n",
       "                                                 Desc  \n",
       "0    UV Protection Rectangular Sunglasses (Free Size)  \n",
       "1   Gradient, UV Protection Wayfarer Sunglasses (F...  \n",
       "2       UV Protection Wayfarer Sunglasses (Free Size)  \n",
       "3   UV Protection, Riding Glasses Rectangular Sung...  \n",
       "4   UV Protection, Gradient Rectangular Sunglasses...  \n",
       "..                                                ...  \n",
       "95  UV Protection, Riding Glasses Aviator Sunglass...  \n",
       "96          UV Protection Rectangular Sunglasses (59)  \n",
       "97  UV Protection Wayfarer, Rectangular Sunglasses...  \n",
       "98                     Mirrored Round Sunglasses (51)  \n",
       "99   UV Protection Rectangular Sunglasses (Free Size)  \n",
       "\n",
       "[100 rows x 4 columns]"
      ]
     },
     "execution_count": 29,
     "metadata": {},
     "output_type": "execute_result"
    }
   ],
   "source": [
    "Flipkart=pd.DataFrame({})\n",
    "Flipkart['Brand']=model\n",
    "Flipkart['Price']=mrp\n",
    "Flipkart['Discount']=disco\n",
    "Flipkart['Desc']=description\n",
    "Flipkart"
   ]
  },
  {
   "cell_type": "markdown",
   "id": "suspended-highland",
   "metadata": {},
   "source": [
    "xxxxxxxxxxxxxxxxxxxxxxxxxxxxxxxxxx..............xxxxxxxxxxxxxxxx........................xxxxxxxxxxxxxxx"
   ]
  },
  {
   "cell_type": "markdown",
   "id": "alleged-cover",
   "metadata": {},
   "source": [
    "## Q7"
   ]
  },
  {
   "cell_type": "code",
   "execution_count": 6,
   "id": "novel-sequence",
   "metadata": {},
   "outputs": [],
   "source": [
    "driver = webdriver.Chrome('E:\\Data trained\\DataTrained_internship\\Data Scraping_selenium\\chromedriver')\n",
    "driver.get(\"https://www.flipkart.com/apple-iphone-11-black-64-gb-includes-earpods-power-adapter/p/itm0f37c2240b217?pid=MOBFKCTSVZAXUHGR&lid=LSTMOBFKCTSVZAXUHGREPBFGI&marketplace\")\n",
    "time.sleep(5)"
   ]
  },
  {
   "cell_type": "code",
   "execution_count": 7,
   "id": "convinced-dividend",
   "metadata": {},
   "outputs": [],
   "source": [
    "all_reviews = driver.find_element_by_xpath(\"//div[@class = '_3UAT2v _16PBlm']\")\n",
    "all_reviews.click()"
   ]
  },
  {
   "cell_type": "code",
   "execution_count": 26,
   "id": "downtown-program",
   "metadata": {},
   "outputs": [],
   "source": [
    "Ratings=[]\n",
    "Review=[]\n",
    "Reviewall=[]\n",
    "for i in range(0,10):\n",
    "    reviewsum=driver.find_elements_by_xpath(\"//div[@class='t-ZTKy']\")\n",
    "    for j in reviewsum:\n",
    "        Reviewall.append(j.text)\n",
    "    review=driver.find_elements_by_xpath(\"//p[@class='_2-N8zT']\")\n",
    "    for k in review:\n",
    "        Review.append(k.text)\n",
    "    ratings=driver.find_elements_by_xpath(\"//div[@class='col _2wzgFH K0kLPL']/div[1]\")\n",
    "    for l in ratings:\n",
    "        Ratings.append(l.text[0])\n",
    "    try:\n",
    "        next_button = driver.find_element_by_xpath(\"//a[@class = '_1LKTO3'][2]\").click()\n",
    "    except:\n",
    "         next_button = driver.find_element_by_xpath(\"//a[@class = '_1LKTO3']\").click()\n",
    "        \n",
    "    time.sleep(3)    \n",
    "        \n",
    "    \n",
    "    "
   ]
  },
  {
   "cell_type": "code",
   "execution_count": 29,
   "id": "satisfied-thread",
   "metadata": {},
   "outputs": [
    {
     "data": {
      "text/html": [
       "<div>\n",
       "<style scoped>\n",
       "    .dataframe tbody tr th:only-of-type {\n",
       "        vertical-align: middle;\n",
       "    }\n",
       "\n",
       "    .dataframe tbody tr th {\n",
       "        vertical-align: top;\n",
       "    }\n",
       "\n",
       "    .dataframe thead th {\n",
       "        text-align: right;\n",
       "    }\n",
       "</style>\n",
       "<table border=\"1\" class=\"dataframe\">\n",
       "  <thead>\n",
       "    <tr style=\"text-align: right;\">\n",
       "      <th></th>\n",
       "      <th>Ratings</th>\n",
       "      <th>Review</th>\n",
       "      <th>ReviewSummary</th>\n",
       "    </tr>\n",
       "  </thead>\n",
       "  <tbody>\n",
       "    <tr>\n",
       "      <th>0</th>\n",
       "      <td>5</td>\n",
       "      <td>Brilliant</td>\n",
       "      <td>The Best Phone for the Money\\n\\nThe iPhone 11 ...</td>\n",
       "    </tr>\n",
       "    <tr>\n",
       "      <th>1</th>\n",
       "      <td>5</td>\n",
       "      <td>Perfect product!</td>\n",
       "      <td>Amazing phone with great cameras and better ba...</td>\n",
       "    </tr>\n",
       "    <tr>\n",
       "      <th>2</th>\n",
       "      <td>5</td>\n",
       "      <td>Great product</td>\n",
       "      <td>Amazing Powerful and Durable Gadget.\\n\\nI’m am...</td>\n",
       "    </tr>\n",
       "    <tr>\n",
       "      <th>3</th>\n",
       "      <td>5</td>\n",
       "      <td>Worth every penny</td>\n",
       "      <td>Previously I was using one plus 3t it was a gr...</td>\n",
       "    </tr>\n",
       "    <tr>\n",
       "      <th>4</th>\n",
       "      <td>4</td>\n",
       "      <td>Good choice</td>\n",
       "      <td>So far it’s been an AMAZING experience coming ...</td>\n",
       "    </tr>\n",
       "    <tr>\n",
       "      <th>...</th>\n",
       "      <td>...</td>\n",
       "      <td>...</td>\n",
       "      <td>...</td>\n",
       "    </tr>\n",
       "    <tr>\n",
       "      <th>95</th>\n",
       "      <td>5</td>\n",
       "      <td>Awesome</td>\n",
       "      <td>The phone is completely good\\nAs far as camera...</td>\n",
       "    </tr>\n",
       "    <tr>\n",
       "      <th>96</th>\n",
       "      <td>3</td>\n",
       "      <td>Decent product</td>\n",
       "      <td>Everything u ll like it when u use this iPhone...</td>\n",
       "    </tr>\n",
       "    <tr>\n",
       "      <th>97</th>\n",
       "      <td>5</td>\n",
       "      <td>Classy product</td>\n",
       "      <td>I write this review after using a week this iP...</td>\n",
       "    </tr>\n",
       "    <tr>\n",
       "      <th>98</th>\n",
       "      <td>5</td>\n",
       "      <td>Super!</td>\n",
       "      <td>It's a great phone. From camera to display eve...</td>\n",
       "    </tr>\n",
       "    <tr>\n",
       "      <th>99</th>\n",
       "      <td>5</td>\n",
       "      <td>Just wow!</td>\n",
       "      <td>The ultimate performance\\nCamera is superb\\nTh...</td>\n",
       "    </tr>\n",
       "  </tbody>\n",
       "</table>\n",
       "<p>100 rows × 3 columns</p>\n",
       "</div>"
      ],
      "text/plain": [
       "   Ratings             Review  \\\n",
       "0        5          Brilliant   \n",
       "1        5   Perfect product!   \n",
       "2        5      Great product   \n",
       "3        5  Worth every penny   \n",
       "4        4        Good choice   \n",
       "..     ...                ...   \n",
       "95       5            Awesome   \n",
       "96       3     Decent product   \n",
       "97       5     Classy product   \n",
       "98       5             Super!   \n",
       "99       5          Just wow!   \n",
       "\n",
       "                                        ReviewSummary  \n",
       "0   The Best Phone for the Money\\n\\nThe iPhone 11 ...  \n",
       "1   Amazing phone with great cameras and better ba...  \n",
       "2   Amazing Powerful and Durable Gadget.\\n\\nI’m am...  \n",
       "3   Previously I was using one plus 3t it was a gr...  \n",
       "4   So far it’s been an AMAZING experience coming ...  \n",
       "..                                                ...  \n",
       "95  The phone is completely good\\nAs far as camera...  \n",
       "96  Everything u ll like it when u use this iPhone...  \n",
       "97  I write this review after using a week this iP...  \n",
       "98  It's a great phone. From camera to display eve...  \n",
       "99  The ultimate performance\\nCamera is superb\\nTh...  \n",
       "\n",
       "[100 rows x 3 columns]"
      ]
     },
     "execution_count": 29,
     "metadata": {},
     "output_type": "execute_result"
    }
   ],
   "source": [
    "iPhone=pd.DataFrame({})\n",
    "iPhone['Ratings']=Ratings\n",
    "iPhone['Review']=Review\n",
    "iPhone['ReviewSummary']=Reviewall\n",
    "iPhone"
   ]
  },
  {
   "cell_type": "markdown",
   "id": "naughty-sleep",
   "metadata": {},
   "source": [
    "xxxxxxxxxxxxxxxxxxxxxxxxx..........................xxxxxxxxxxxxxxxxxxxxxxxxxxx....................xxxxxxxxxxxxxxxxx"
   ]
  },
  {
   "cell_type": "markdown",
   "id": "written-sandwich",
   "metadata": {},
   "source": [
    "Q8"
   ]
  },
  {
   "cell_type": "code",
   "execution_count": 32,
   "id": "outside-banner",
   "metadata": {},
   "outputs": [],
   "source": [
    "driver = webdriver.Chrome('E:\\Data trained\\DataTrained_internship\\Data Scraping_selenium\\chromedriver')\n",
    "driver.get('https://www.flipkart.com')\n",
    "time.sleep(5)\n",
    "login=driver.find_element_by_xpath(\"//button[@class='_2KpZ6l _2doB4z']\")\n",
    "login.click()"
   ]
  },
  {
   "cell_type": "code",
   "execution_count": 33,
   "id": "exceptional-unemployment",
   "metadata": {},
   "outputs": [
    {
     "data": {
      "text/plain": [
       "<selenium.webdriver.remote.webelement.WebElement (session=\"78e0239872604448709fcde730df525a\", element=\"741071fc-649a-4c3e-bdb8-f0e4dc4a7976\")>"
      ]
     },
     "execution_count": 33,
     "metadata": {},
     "output_type": "execute_result"
    }
   ],
   "source": [
    "search=driver.find_element_by_xpath(\"//input[@class = '_3704LK']\")\n",
    "search"
   ]
  },
  {
   "cell_type": "code",
   "execution_count": 34,
   "id": "assumed-doctor",
   "metadata": {},
   "outputs": [],
   "source": [
    "search.send_keys('Sneakers')"
   ]
  },
  {
   "cell_type": "code",
   "execution_count": 35,
   "id": "intellectual-springfield",
   "metadata": {},
   "outputs": [],
   "source": [
    "search_button = driver.find_element_by_xpath(\"//button[@class = 'L0Z3Pu']\")\n",
    "search_button.click()"
   ]
  },
  {
   "cell_type": "code",
   "execution_count": 58,
   "id": "conceptual-cincinnati",
   "metadata": {},
   "outputs": [],
   "source": [
    "Brand=[]\n",
    "Description=[]\n",
    "Price=[]\n",
    "Discount=[]\n",
    "for i in range(0,3):\n",
    "    brand=driver.find_elements_by_xpath(\"//div[@class='_2WkVRV']\")\n",
    "    for j in brand:\n",
    "        Brand.append(j.text)\n",
    "    desc=driver.find_elements_by_xpath(\"//div[@class='_2B099V']/a[1]\")\n",
    "    for k in desc:\n",
    "        Description.append(k.text)\n",
    "    mrp=driver.find_elements_by_xpath(\"//div[@class='_30jeq3']\")\n",
    "    for l in mrp:\n",
    "        Price.append(l.text)\n",
    "    disco=driver.find_elements_by_xpath(\"//div[@class='_3Ay6Sb']\")\n",
    "    for k in disco:\n",
    "        Discount.append(k.text)\n",
    "    try:\n",
    "        next_button = driver.find_element_by_xpath(\"//a[@class = '_1LKTO3'][2]\").click()\n",
    "    except:\n",
    "         next_button = driver.find_element_by_xpath(\"//a[@class = '_1LKTO3']\").click()\n",
    "        \n",
    "    time.sleep(3)    \n",
    "        \n",
    "    \n",
    "    "
   ]
  },
  {
   "cell_type": "code",
   "execution_count": 59,
   "id": "motivated-muslim",
   "metadata": {},
   "outputs": [
    {
     "data": {
      "text/plain": [
       "120"
      ]
     },
     "execution_count": 59,
     "metadata": {},
     "output_type": "execute_result"
    }
   ],
   "source": [
    "len(Discount)"
   ]
  },
  {
   "cell_type": "code",
   "execution_count": 60,
   "id": "under-turkish",
   "metadata": {},
   "outputs": [
    {
     "data": {
      "text/html": [
       "<div>\n",
       "<style scoped>\n",
       "    .dataframe tbody tr th:only-of-type {\n",
       "        vertical-align: middle;\n",
       "    }\n",
       "\n",
       "    .dataframe tbody tr th {\n",
       "        vertical-align: top;\n",
       "    }\n",
       "\n",
       "    .dataframe thead th {\n",
       "        text-align: right;\n",
       "    }\n",
       "</style>\n",
       "<table border=\"1\" class=\"dataframe\">\n",
       "  <thead>\n",
       "    <tr style=\"text-align: right;\">\n",
       "      <th></th>\n",
       "      <th>Brand</th>\n",
       "      <th>Description</th>\n",
       "      <th>Price</th>\n",
       "      <th>Discount</th>\n",
       "    </tr>\n",
       "  </thead>\n",
       "  <tbody>\n",
       "    <tr>\n",
       "      <th>0</th>\n",
       "      <td>PUMA</td>\n",
       "      <td>Puma Wired Cage Sneakers For Men</td>\n",
       "      <td>₹1,959</td>\n",
       "      <td>44% off</td>\n",
       "    </tr>\n",
       "    <tr>\n",
       "      <th>1</th>\n",
       "      <td>SUSON</td>\n",
       "      <td>Gym/Walking/Running Sneakers For Men</td>\n",
       "      <td>₹424</td>\n",
       "      <td>57% off</td>\n",
       "    </tr>\n",
       "    <tr>\n",
       "      <th>2</th>\n",
       "      <td>PUMA</td>\n",
       "      <td>Anzarun Cage Sneakers For Men</td>\n",
       "      <td>₹2,285</td>\n",
       "      <td>67% off</td>\n",
       "    </tr>\n",
       "    <tr>\n",
       "      <th>3</th>\n",
       "      <td>Robbie jones</td>\n",
       "      <td>Sneakers For Men</td>\n",
       "      <td>₹474</td>\n",
       "      <td>52% off</td>\n",
       "    </tr>\n",
       "    <tr>\n",
       "      <th>4</th>\n",
       "      <td>PUMA</td>\n",
       "      <td>Rebound BBX Mesh IDP Sneakers For Men</td>\n",
       "      <td>₹2,668</td>\n",
       "      <td>44% off</td>\n",
       "    </tr>\n",
       "    <tr>\n",
       "      <th>...</th>\n",
       "      <td>...</td>\n",
       "      <td>...</td>\n",
       "      <td>...</td>\n",
       "      <td>...</td>\n",
       "    </tr>\n",
       "    <tr>\n",
       "      <th>115</th>\n",
       "      <td>Zorth</td>\n",
       "      <td>Sneakers For Men</td>\n",
       "      <td>₹599</td>\n",
       "      <td>40% off</td>\n",
       "    </tr>\n",
       "    <tr>\n",
       "      <th>116</th>\n",
       "      <td>Eliq</td>\n",
       "      <td>Combo Shoes For Men , Pack Of 2 Casual Sneaker...</td>\n",
       "      <td>₹397</td>\n",
       "      <td>50% off</td>\n",
       "    </tr>\n",
       "    <tr>\n",
       "      <th>117</th>\n",
       "      <td>Hzisko</td>\n",
       "      <td>Sneakers For Men</td>\n",
       "      <td>₹469</td>\n",
       "      <td>53% off</td>\n",
       "    </tr>\n",
       "    <tr>\n",
       "      <th>118</th>\n",
       "      <td>PUMA</td>\n",
       "      <td>Ferrari Race Future Kart Cat Sneakers For Men</td>\n",
       "      <td>₹4,059</td>\n",
       "      <td>42% off</td>\n",
       "    </tr>\n",
       "    <tr>\n",
       "      <th>119</th>\n",
       "      <td>PUMA</td>\n",
       "      <td>Sneakers For Men</td>\n",
       "      <td>₹1,000</td>\n",
       "      <td>64% off</td>\n",
       "    </tr>\n",
       "  </tbody>\n",
       "</table>\n",
       "<p>120 rows × 4 columns</p>\n",
       "</div>"
      ],
      "text/plain": [
       "            Brand                                        Description   Price  \\\n",
       "0            PUMA                   Puma Wired Cage Sneakers For Men  ₹1,959   \n",
       "1           SUSON               Gym/Walking/Running Sneakers For Men    ₹424   \n",
       "2            PUMA                      Anzarun Cage Sneakers For Men  ₹2,285   \n",
       "3    Robbie jones                                   Sneakers For Men    ₹474   \n",
       "4            PUMA              Rebound BBX Mesh IDP Sneakers For Men  ₹2,668   \n",
       "..            ...                                                ...     ...   \n",
       "115         Zorth                                   Sneakers For Men    ₹599   \n",
       "116          Eliq  Combo Shoes For Men , Pack Of 2 Casual Sneaker...    ₹397   \n",
       "117        Hzisko                                   Sneakers For Men    ₹469   \n",
       "118          PUMA      Ferrari Race Future Kart Cat Sneakers For Men  ₹4,059   \n",
       "119          PUMA                                   Sneakers For Men  ₹1,000   \n",
       "\n",
       "    Discount  \n",
       "0    44% off  \n",
       "1    57% off  \n",
       "2    67% off  \n",
       "3    52% off  \n",
       "4    44% off  \n",
       "..       ...  \n",
       "115  40% off  \n",
       "116  50% off  \n",
       "117  53% off  \n",
       "118  42% off  \n",
       "119  64% off  \n",
       "\n",
       "[120 rows x 4 columns]"
      ]
     },
     "execution_count": 60,
     "metadata": {},
     "output_type": "execute_result"
    }
   ],
   "source": [
    "Sneakers=pd.DataFrame({})\n",
    "Sneakers['Brand']=Brand\n",
    "Sneakers['Description']=Description\n",
    "Sneakers['Price']=Price\n",
    "Sneakers['Discount']=Discount\n",
    "Sneakers"
   ]
  },
  {
   "cell_type": "markdown",
   "id": "prerequisite-diagram",
   "metadata": {},
   "source": [
    "xxxxxxxxxxxxxxxxxxxxxxxxxxxxxxxx....................xxxxxxxxxxxxxxxx......................xxxxxxxxxxxxx"
   ]
  },
  {
   "cell_type": "markdown",
   "id": "packed-ordinary",
   "metadata": {},
   "source": [
    "Q9"
   ]
  },
  {
   "cell_type": "code",
   "execution_count": 67,
   "id": "ranging-country",
   "metadata": {},
   "outputs": [],
   "source": [
    "driver = webdriver.Chrome('E:\\Data trained\\DataTrained_internship\\Data Scraping_selenium\\chromedriver')\n",
    "driver.get(\"https://www.myntra.com/shoes\")\n",
    "time.sleep(5)"
   ]
  },
  {
   "cell_type": "code",
   "execution_count": 68,
   "id": "differential-synthesis",
   "metadata": {},
   "outputs": [],
   "source": [
    "filtertag=driver.find_element_by_xpath(\"//ul[@class = 'price-list']/li[2]\")\n",
    "filtertag.click()"
   ]
  },
  {
   "cell_type": "code",
   "execution_count": 69,
   "id": "exciting-reach",
   "metadata": {},
   "outputs": [],
   "source": [
    "filtertag=driver.find_element_by_xpath(\"//span[@data-colorhex = 'black']\")\n",
    "filtertag.click()"
   ]
  },
  {
   "cell_type": "code",
   "execution_count": 80,
   "id": "standard-mainland",
   "metadata": {},
   "outputs": [],
   "source": [
    "Brand=[]\n",
    "Description=[]\n",
    "Price=[]\n",
    "for i in range(0,2):\n",
    "    brand=driver.find_elements_by_xpath(\"//h3[@class='product-brand']\")\n",
    "    for j in brand:\n",
    "        Brand.append(j.text)\n",
    "    desc=driver.find_elements_by_xpath(\"//h4[@class='product-product']\")\n",
    "    for k in desc:\n",
    "        Description.append(k.text)\n",
    "    mrp=driver.find_elements_by_xpath(\"//div[@class='product-price']\")\n",
    "    for l in mrp:\n",
    "        Price.append(l.text)\n",
    "    next_button = driver.find_element_by_xpath(\"//li[@class = 'pagination-next']/a\").click()\n",
    "    time.sleep(3)    "
   ]
  },
  {
   "cell_type": "code",
   "execution_count": 87,
   "id": "interesting-celtic",
   "metadata": {},
   "outputs": [
    {
     "data": {
      "text/html": [
       "<div>\n",
       "<style scoped>\n",
       "    .dataframe tbody tr th:only-of-type {\n",
       "        vertical-align: middle;\n",
       "    }\n",
       "\n",
       "    .dataframe tbody tr th {\n",
       "        vertical-align: top;\n",
       "    }\n",
       "\n",
       "    .dataframe thead th {\n",
       "        text-align: right;\n",
       "    }\n",
       "</style>\n",
       "<table border=\"1\" class=\"dataframe\">\n",
       "  <thead>\n",
       "    <tr style=\"text-align: right;\">\n",
       "      <th></th>\n",
       "      <th>Brand</th>\n",
       "      <th>Model</th>\n",
       "      <th>Price</th>\n",
       "    </tr>\n",
       "  </thead>\n",
       "  <tbody>\n",
       "    <tr>\n",
       "      <th>0</th>\n",
       "      <td>Nike</td>\n",
       "      <td>Men AIR ZOOM Running Shoes</td>\n",
       "      <td>Rs. 7721Rs. 10295(25% OFF)</td>\n",
       "    </tr>\n",
       "    <tr>\n",
       "      <th>1</th>\n",
       "      <td>ALDO</td>\n",
       "      <td>Men Textured Sneakers</td>\n",
       "      <td>Rs. 7199Rs. 8999(20% OFF)</td>\n",
       "    </tr>\n",
       "    <tr>\n",
       "      <th>2</th>\n",
       "      <td>Nike</td>\n",
       "      <td>AIR ZOOM PEGASUS Running Shoes</td>\n",
       "      <td>Rs. 11495</td>\n",
       "    </tr>\n",
       "    <tr>\n",
       "      <th>3</th>\n",
       "      <td>Nike</td>\n",
       "      <td>Women REACT Running Shoes</td>\n",
       "      <td>Rs. 8396Rs. 11995(30% OFF)</td>\n",
       "    </tr>\n",
       "    <tr>\n",
       "      <th>4</th>\n",
       "      <td>Nike</td>\n",
       "      <td>Men JORDAN DELTA Basketball</td>\n",
       "      <td>Rs. 12495</td>\n",
       "    </tr>\n",
       "    <tr>\n",
       "      <th>...</th>\n",
       "      <td>...</td>\n",
       "      <td>...</td>\n",
       "      <td>...</td>\n",
       "    </tr>\n",
       "    <tr>\n",
       "      <th>95</th>\n",
       "      <td>Ruosh</td>\n",
       "      <td>Men Formal Leather Brogues</td>\n",
       "      <td>Rs. 7490</td>\n",
       "    </tr>\n",
       "    <tr>\n",
       "      <th>96</th>\n",
       "      <td>Florsheim</td>\n",
       "      <td>Men Solid Leather Formal Loafers</td>\n",
       "      <td>Rs. 6995</td>\n",
       "    </tr>\n",
       "    <tr>\n",
       "      <th>97</th>\n",
       "      <td>Florsheim</td>\n",
       "      <td>Men Solid Leather Formal Derbys</td>\n",
       "      <td>Rs. 6995</td>\n",
       "    </tr>\n",
       "    <tr>\n",
       "      <th>98</th>\n",
       "      <td>FILA</td>\n",
       "      <td>Women Solid Sneakers</td>\n",
       "      <td>Rs. 6999</td>\n",
       "    </tr>\n",
       "    <tr>\n",
       "      <th>99</th>\n",
       "      <td>UNDER ARMOUR</td>\n",
       "      <td>Charged Rogue 2 Running Shoes</td>\n",
       "      <td>Rs. 7999</td>\n",
       "    </tr>\n",
       "  </tbody>\n",
       "</table>\n",
       "<p>100 rows × 3 columns</p>\n",
       "</div>"
      ],
      "text/plain": [
       "           Brand                             Model                       Price\n",
       "0           Nike        Men AIR ZOOM Running Shoes  Rs. 7721Rs. 10295(25% OFF)\n",
       "1           ALDO             Men Textured Sneakers   Rs. 7199Rs. 8999(20% OFF)\n",
       "2           Nike    AIR ZOOM PEGASUS Running Shoes                   Rs. 11495\n",
       "3           Nike         Women REACT Running Shoes  Rs. 8396Rs. 11995(30% OFF)\n",
       "4           Nike       Men JORDAN DELTA Basketball                   Rs. 12495\n",
       "..           ...                               ...                         ...\n",
       "95         Ruosh        Men Formal Leather Brogues                    Rs. 7490\n",
       "96     Florsheim  Men Solid Leather Formal Loafers                    Rs. 6995\n",
       "97     Florsheim   Men Solid Leather Formal Derbys                    Rs. 6995\n",
       "98          FILA              Women Solid Sneakers                    Rs. 6999\n",
       "99  UNDER ARMOUR     Charged Rogue 2 Running Shoes                    Rs. 7999\n",
       "\n",
       "[100 rows x 3 columns]"
      ]
     },
     "execution_count": 87,
     "metadata": {},
     "output_type": "execute_result"
    }
   ],
   "source": [
    "Myntra=pd.DataFrame({})\n",
    "Myntra['Brand']=Brand\n",
    "Myntra['Model']=Description\n",
    "Myntra['Price']=Price\n",
    "Myntra"
   ]
  },
  {
   "cell_type": "markdown",
   "id": "tested-czech",
   "metadata": {},
   "source": [
    "xxxxxxxxxxxxxxxxxxxxxxxxx..........................xxxxxxxxxxxxxxxxxxxxxxxxx...................xxxxxxxxxxxxx"
   ]
  },
  {
   "cell_type": "markdown",
   "id": "registered-spanking",
   "metadata": {},
   "source": [
    "# Q10"
   ]
  },
  {
   "cell_type": "code",
   "execution_count": 64,
   "id": "arbitrary-still",
   "metadata": {},
   "outputs": [],
   "source": [
    "driver = webdriver.Chrome('E:\\Data trained\\DataTrained_internship\\Data Scraping_selenium\\chromedriver')\n",
    "driver.get('https://www.amazon.in')\n",
    "time.sleep(5)\n"
   ]
  },
  {
   "cell_type": "code",
   "execution_count": 65,
   "id": "thick-baking",
   "metadata": {},
   "outputs": [
    {
     "data": {
      "text/plain": [
       "<selenium.webdriver.remote.webelement.WebElement (session=\"7c5d86ad0f36eeeb309bfeb76fe8049e\", element=\"d46d7388-c336-4ee0-bab6-866532e51a73\")>"
      ]
     },
     "execution_count": 65,
     "metadata": {},
     "output_type": "execute_result"
    }
   ],
   "source": [
    "search=driver.find_element_by_id(\"twotabsearchtextbox\")\n",
    "search"
   ]
  },
  {
   "cell_type": "code",
   "execution_count": 66,
   "id": "blond-poultry",
   "metadata": {},
   "outputs": [],
   "source": [
    "search.send_keys('Laptop')"
   ]
  },
  {
   "cell_type": "code",
   "execution_count": 67,
   "id": "uniform-score",
   "metadata": {},
   "outputs": [],
   "source": [
    "search_button = driver.find_element_by_xpath(\"//div[@class = 'nav-search-submit nav-sprite']\")\n",
    "search_button.click()"
   ]
  },
  {
   "cell_type": "code",
   "execution_count": 81,
   "id": "daily-venezuela",
   "metadata": {},
   "outputs": [],
   "source": [
    "filtertag=driver.find_elements_by_xpath(\"//a[@class = 'a-link-normal s-navigation-item']//span\")\n",
    "for i in filtertag:\n",
    "    if i.text=='Intel Core i7':\n",
    "        i.click()\n",
    "        break"
   ]
  },
  {
   "cell_type": "code",
   "execution_count": 73,
   "id": "opposite-potato",
   "metadata": {},
   "outputs": [
    {
     "data": {
      "text/plain": [
       "[<selenium.webdriver.remote.webelement.WebElement (session=\"7c5d86ad0f36eeeb309bfeb76fe8049e\", element=\"25a90ed0-6f10-463f-aec2-bff75296ad99\")>,\n",
       " <selenium.webdriver.remote.webelement.WebElement (session=\"7c5d86ad0f36eeeb309bfeb76fe8049e\", element=\"20c0e249-3f1d-4973-919a-89c04fb1d124\")>,\n",
       " <selenium.webdriver.remote.webelement.WebElement (session=\"7c5d86ad0f36eeeb309bfeb76fe8049e\", element=\"3205b489-7727-45a7-9d1c-76236312d3ee\")>,\n",
       " <selenium.webdriver.remote.webelement.WebElement (session=\"7c5d86ad0f36eeeb309bfeb76fe8049e\", element=\"f33fb744-edc9-46c0-b9cf-6b7d08bb2311\")>,\n",
       " <selenium.webdriver.remote.webelement.WebElement (session=\"7c5d86ad0f36eeeb309bfeb76fe8049e\", element=\"f2d27f31-5b09-4f1c-8bae-129f5c1b965a\")>,\n",
       " <selenium.webdriver.remote.webelement.WebElement (session=\"7c5d86ad0f36eeeb309bfeb76fe8049e\", element=\"448c4d0c-f263-448f-8bbc-1dd60930bfaa\")>,\n",
       " <selenium.webdriver.remote.webelement.WebElement (session=\"7c5d86ad0f36eeeb309bfeb76fe8049e\", element=\"97b7155a-ac73-4783-ba0f-a1f86583c540\")>,\n",
       " <selenium.webdriver.remote.webelement.WebElement (session=\"7c5d86ad0f36eeeb309bfeb76fe8049e\", element=\"35d7da8e-abff-4a3a-9f74-dfb59288f3f3\")>,\n",
       " <selenium.webdriver.remote.webelement.WebElement (session=\"7c5d86ad0f36eeeb309bfeb76fe8049e\", element=\"4f517308-7635-47fa-a026-7ead767903e5\")>,\n",
       " <selenium.webdriver.remote.webelement.WebElement (session=\"7c5d86ad0f36eeeb309bfeb76fe8049e\", element=\"327192b2-9a37-4c81-98ae-026df9ac1a32\")>,\n",
       " <selenium.webdriver.remote.webelement.WebElement (session=\"7c5d86ad0f36eeeb309bfeb76fe8049e\", element=\"f908fec1-c553-45b8-9578-0b93d75238eb\")>,\n",
       " <selenium.webdriver.remote.webelement.WebElement (session=\"7c5d86ad0f36eeeb309bfeb76fe8049e\", element=\"def0991d-2bea-455d-9289-92d908db394b\")>,\n",
       " <selenium.webdriver.remote.webelement.WebElement (session=\"7c5d86ad0f36eeeb309bfeb76fe8049e\", element=\"2aaf8450-b603-492a-9122-574b7a9fc1d9\")>,\n",
       " <selenium.webdriver.remote.webelement.WebElement (session=\"7c5d86ad0f36eeeb309bfeb76fe8049e\", element=\"e5171e1f-8558-468d-8909-69557964963d\")>,\n",
       " <selenium.webdriver.remote.webelement.WebElement (session=\"7c5d86ad0f36eeeb309bfeb76fe8049e\", element=\"5197f761-0021-4a3b-9926-208bda0b5001\")>,\n",
       " <selenium.webdriver.remote.webelement.WebElement (session=\"7c5d86ad0f36eeeb309bfeb76fe8049e\", element=\"6e17d9fc-9676-4358-b0cf-a47cfcdf4861\")>,\n",
       " <selenium.webdriver.remote.webelement.WebElement (session=\"7c5d86ad0f36eeeb309bfeb76fe8049e\", element=\"3297ade1-0190-4297-823c-62c7a880726e\")>,\n",
       " <selenium.webdriver.remote.webelement.WebElement (session=\"7c5d86ad0f36eeeb309bfeb76fe8049e\", element=\"9e43650b-222c-453b-b7c3-62c860abc82d\")>,\n",
       " <selenium.webdriver.remote.webelement.WebElement (session=\"7c5d86ad0f36eeeb309bfeb76fe8049e\", element=\"2eae054a-4466-4a03-9146-2929e1cc2eab\")>,\n",
       " <selenium.webdriver.remote.webelement.WebElement (session=\"7c5d86ad0f36eeeb309bfeb76fe8049e\", element=\"58e1f0dd-16ee-4fe4-8399-c55d003dc69a\")>,\n",
       " <selenium.webdriver.remote.webelement.WebElement (session=\"7c5d86ad0f36eeeb309bfeb76fe8049e\", element=\"154ba02c-b8bf-4fa1-9b08-1da79e49bf1b\")>,\n",
       " <selenium.webdriver.remote.webelement.WebElement (session=\"7c5d86ad0f36eeeb309bfeb76fe8049e\", element=\"b43f0656-4441-4f8a-b9e0-2ce1ad961139\")>,\n",
       " <selenium.webdriver.remote.webelement.WebElement (session=\"7c5d86ad0f36eeeb309bfeb76fe8049e\", element=\"8c06c9c6-d5cc-438c-82bf-04c4ba1585ee\")>,\n",
       " <selenium.webdriver.remote.webelement.WebElement (session=\"7c5d86ad0f36eeeb309bfeb76fe8049e\", element=\"d7727bc9-8e2c-4c05-bc99-da48d8d2bbe5\")>]"
      ]
     },
     "execution_count": 73,
     "metadata": {},
     "output_type": "execute_result"
    }
   ],
   "source": [
    "name=driver.find_elements_by_xpath(\"//span[@class='a-size-medium a-color-base a-text-normal']\")\n",
    "name"
   ]
  },
  {
   "cell_type": "code",
   "execution_count": 74,
   "id": "sticky-ebony",
   "metadata": {},
   "outputs": [
    {
     "data": {
      "text/plain": [
       "[<selenium.webdriver.remote.webelement.WebElement (session=\"7c5d86ad0f36eeeb309bfeb76fe8049e\", element=\"e4ea7695-85f1-4362-bdff-05388f19a9de\")>,\n",
       " <selenium.webdriver.remote.webelement.WebElement (session=\"7c5d86ad0f36eeeb309bfeb76fe8049e\", element=\"a81b13bd-6aa3-4e00-86ee-85c244609b4b\")>,\n",
       " <selenium.webdriver.remote.webelement.WebElement (session=\"7c5d86ad0f36eeeb309bfeb76fe8049e\", element=\"116db64e-faf0-4b3e-b9a6-2c06e9ae9af7\")>,\n",
       " <selenium.webdriver.remote.webelement.WebElement (session=\"7c5d86ad0f36eeeb309bfeb76fe8049e\", element=\"bb04a0e5-f3ba-4c1f-940a-cbc9df56a5b8\")>,\n",
       " <selenium.webdriver.remote.webelement.WebElement (session=\"7c5d86ad0f36eeeb309bfeb76fe8049e\", element=\"18364828-05fd-4657-b7ca-e4516d624e51\")>,\n",
       " <selenium.webdriver.remote.webelement.WebElement (session=\"7c5d86ad0f36eeeb309bfeb76fe8049e\", element=\"e378adcf-6ed7-49c3-b4d1-c2898dc1f132\")>,\n",
       " <selenium.webdriver.remote.webelement.WebElement (session=\"7c5d86ad0f36eeeb309bfeb76fe8049e\", element=\"16796671-44e2-452d-98ed-d9cc0ab2d0e9\")>,\n",
       " <selenium.webdriver.remote.webelement.WebElement (session=\"7c5d86ad0f36eeeb309bfeb76fe8049e\", element=\"be14765c-2ca0-4c3d-8394-2b10b0064603\")>,\n",
       " <selenium.webdriver.remote.webelement.WebElement (session=\"7c5d86ad0f36eeeb309bfeb76fe8049e\", element=\"3c40623c-1c90-4e05-ab3b-0457a5a12001\")>,\n",
       " <selenium.webdriver.remote.webelement.WebElement (session=\"7c5d86ad0f36eeeb309bfeb76fe8049e\", element=\"32bc934e-13c3-4426-926d-5e71503ead09\")>,\n",
       " <selenium.webdriver.remote.webelement.WebElement (session=\"7c5d86ad0f36eeeb309bfeb76fe8049e\", element=\"e969fd7c-c994-49aa-8061-f11e337a5be9\")>,\n",
       " <selenium.webdriver.remote.webelement.WebElement (session=\"7c5d86ad0f36eeeb309bfeb76fe8049e\", element=\"80abfcfc-77ca-43b2-bc91-f944db84d762\")>,\n",
       " <selenium.webdriver.remote.webelement.WebElement (session=\"7c5d86ad0f36eeeb309bfeb76fe8049e\", element=\"1a9a6931-64b7-45ed-bc73-1a8178b40507\")>,\n",
       " <selenium.webdriver.remote.webelement.WebElement (session=\"7c5d86ad0f36eeeb309bfeb76fe8049e\", element=\"f311fb04-f1e0-4a1d-a95b-4e85688d8426\")>,\n",
       " <selenium.webdriver.remote.webelement.WebElement (session=\"7c5d86ad0f36eeeb309bfeb76fe8049e\", element=\"2e45668a-0ac4-41e5-86fd-985036285e96\")>,\n",
       " <selenium.webdriver.remote.webelement.WebElement (session=\"7c5d86ad0f36eeeb309bfeb76fe8049e\", element=\"af111ba3-6331-4a61-8a7c-ec199fd6b6f9\")>,\n",
       " <selenium.webdriver.remote.webelement.WebElement (session=\"7c5d86ad0f36eeeb309bfeb76fe8049e\", element=\"815474e9-362e-447c-bd69-b8ae7c7e55af\")>,\n",
       " <selenium.webdriver.remote.webelement.WebElement (session=\"7c5d86ad0f36eeeb309bfeb76fe8049e\", element=\"dad4884f-1658-419c-9766-8d10370176ea\")>,\n",
       " <selenium.webdriver.remote.webelement.WebElement (session=\"7c5d86ad0f36eeeb309bfeb76fe8049e\", element=\"7152a593-9dfc-4858-8840-e28dc98772b7\")>,\n",
       " <selenium.webdriver.remote.webelement.WebElement (session=\"7c5d86ad0f36eeeb309bfeb76fe8049e\", element=\"011d1d60-5f19-45e6-af3a-0bdb2d6c879b\")>,\n",
       " <selenium.webdriver.remote.webelement.WebElement (session=\"7c5d86ad0f36eeeb309bfeb76fe8049e\", element=\"43c1f4e6-a0eb-44e6-8091-47e0d59857b1\")>,\n",
       " <selenium.webdriver.remote.webelement.WebElement (session=\"7c5d86ad0f36eeeb309bfeb76fe8049e\", element=\"4274ac46-0512-4892-91af-e223dcce685f\")>]"
      ]
     },
     "execution_count": 74,
     "metadata": {},
     "output_type": "execute_result"
    }
   ],
   "source": [
    "price=driver.find_elements_by_xpath(\"//span[@class='a-price-whole']\")\n",
    "price"
   ]
  },
  {
   "cell_type": "markdown",
   "id": "helpful-detection",
   "metadata": {},
   "source": [
    "unable to see the ratings tag hence excluding.\n"
   ]
  },
  {
   "cell_type": "code",
   "execution_count": 76,
   "id": "fifteen-dubai",
   "metadata": {},
   "outputs": [
    {
     "name": "stdout",
     "output_type": "stream",
     "text": [
      "['ASUS ZenBook Duo 14 (2021), Intel Core i7-1165G7 11th Gen, 14-inch FHD Dual-Screen Touch Laptop (16GB/1TB SSD/2GB GeForce MX450 GPU/Office 2019/Windows 10/Celestial Blue/1.62 Kg), UX482EG-KA711TS', \"(Renewed) HP EliteBook 840 G3 Laptop (Core i7 6th Gen/8GB/500GB/WEBCAM/14'' Touch/DOS)\", 'Mi Notebook Horizon Edition 14 Intel Core i5-10210U 10th Gen 14-inch (35.56 cms) Thin and Light Laptop(8GB/512GB SSD/Windows 10/Nvidia MX350 2GB Graphics/Grey/1.35Kg), XMA1904-AR+Webcam', 'HP Pavilion Gaming 10th Gen Intel Core i7 Processor 15.6-inch FHD Gaming Laptop (16GB/512GB SSD + 32GB Intel Optane/Windows 10/NVIDIA 1650Ti 4GB/Shadow Black), 15-dk1509TX', 'Lenovo IdeaPad Flex 5 11th Gen Intel Core i7 14-inch FHD IPS 2-in-1 Touchscreen Laptop (16GB/512GB SSD/Win 10/Office 2019/Lenovo Digital Pen Stylus/Fingerprint Reader/Graphite Grey/1.5Kg), 82HS0092IN']\n",
      "['1,34,990', '44,999', '49,999', '86,926', '83,990']\n"
     ]
    }
   ],
   "source": [
    "Model=[]\n",
    "Amount=[]\n",
    "for i in name[:5]:\n",
    "    Model.append(i.text)\n",
    "print(Model)\n",
    "for i in price[:5]:\n",
    "    Amount.append(i.text)\n",
    "print(Amount)"
   ]
  },
  {
   "cell_type": "code",
   "execution_count": 88,
   "id": "recorded-reach",
   "metadata": {},
   "outputs": [],
   "source": [
    "filtertag=driver.find_elements_by_xpath(\"//a[@class = 'a-link-normal s-navigation-item']//span\")\n",
    "for i in filtertag:\n",
    "    if i.text=='Intel Core i7':\n",
    "        i.click()\n",
    "        break"
   ]
  },
  {
   "cell_type": "code",
   "execution_count": 87,
   "id": "registered-newsletter",
   "metadata": {},
   "outputs": [],
   "source": [
    "filtertag=driver.find_elements_by_xpath(\"//a[@class = 'a-link-normal s-navigation-item']//span\")\n",
    "for i in filtertag:\n",
    "    if i.text=='Intel Core i9':\n",
    "        i.click()\n",
    "        break"
   ]
  },
  {
   "cell_type": "code",
   "execution_count": 84,
   "id": "middle-drill",
   "metadata": {},
   "outputs": [],
   "source": [
    "name=driver.find_elements_by_xpath(\"//span[@class='a-size-medium a-color-base a-text-normal']\")\n",
    "price=driver.find_elements_by_xpath(\"//span[@class='a-price-whole']\")"
   ]
  },
  {
   "cell_type": "code",
   "execution_count": 85,
   "id": "talented-silly",
   "metadata": {},
   "outputs": [
    {
     "name": "stdout",
     "output_type": "stream",
     "text": [
      "['ASUS ZenBook Duo 14 (2021), Intel Core i7-1165G7 11th Gen, 14-inch FHD Dual-Screen Touch Laptop (16GB/1TB SSD/2GB GeForce MX450 GPU/Office 2019/Windows 10/Celestial Blue/1.62 Kg), UX482EG-KA711TS', \"(Renewed) HP EliteBook 840 G3 Laptop (Core i7 6th Gen/8GB/500GB/WEBCAM/14'' Touch/DOS)\", 'Mi Notebook Horizon Edition 14 Intel Core i5-10210U 10th Gen 14-inch (35.56 cms) Thin and Light Laptop(8GB/512GB SSD/Windows 10/Nvidia MX350 2GB Graphics/Grey/1.35Kg), XMA1904-AR+Webcam', 'HP Pavilion Gaming 10th Gen Intel Core i7 Processor 15.6-inch FHD Gaming Laptop (16GB/512GB SSD + 32GB Intel Optane/Windows 10/NVIDIA 1650Ti 4GB/Shadow Black), 15-dk1509TX', 'Lenovo IdeaPad Flex 5 11th Gen Intel Core i7 14-inch FHD IPS 2-in-1 Touchscreen Laptop (16GB/512GB SSD/Win 10/Office 2019/Lenovo Digital Pen Stylus/Fingerprint Reader/Graphite Grey/1.5Kg), 82HS0092IN', 'Dell XPS 9570 15.6\" (39.62cms) UHD Laptop (8th Gen i9-8950HK/32GB/1TB SSD/Win 10 + MS Office/Integrated Graphics), Silver', 'ASUS ZenBook Pro Duo Intel Core i9-10980HK 10th Gen 15.6\" 4K UHD OLED Touchscreen Laptop (32GB RAM/1TB NVMe SSD/Windows 10/6GB NVIDIA GeForce RTX 2060 Graphics/Celestial Blue/2.5 Kg), UX581LV-H2035T', 'Lenovo Legion 7 10th Gen Intel Core i9 15.6 inch Full HD Gaming Laptop (16GB/1TB SSD/Windows 10/MS Office 2019/144 Hz/NVIDIA RTX 2080 8GB GDDR6 Graphics/Slate Grey/2.25Kg), 81YU006HIN', 'ASUS ROG Zephyrus Duo 15, 15.6\" FHD 300Hz/3ms, Intel Core i9-10980HK 10th Gen, RTX 2080 SUPER Max-Q 8GB Graphic, Gaming Laptop (32GB/2TB RAID 0 SSD/Office 2019/Windows 10/Gray/2.4 Kg) GX550LXS-HF168TS', 'ASUS ROG Strix Scar 15 (2020), 15.6\" FHD 300Hz/3ms, Intel Core i9-10980HK 10th Gen, RTX 2070 Super 8GB Graphics, Gaming Laptop (32GB RAM/1TB NVMe SSD/Windows 10/Black/2.35 Kg), G532LWS-HF079T']\n",
      "['1,34,990', '44,999', '49,999', '86,926', '83,990', '2,48,790', '2,99,325', '2,62,990', '2,66,990', '2,15,990']\n"
     ]
    }
   ],
   "source": [
    "for i in name[:5]:\n",
    "    Model.append(i.text)\n",
    "for i in price[:5]:\n",
    "    Amount.append(i.text)\n",
    "print(Model)\n",
    "print(Amount)\n",
    "    "
   ]
  },
  {
   "cell_type": "markdown",
   "id": "technological-asian",
   "metadata": {},
   "source": [
    "Now we have 5 data for i7 and 5 for i9 sorted."
   ]
  },
  {
   "cell_type": "code",
   "execution_count": 90,
   "id": "neither-single",
   "metadata": {},
   "outputs": [
    {
     "data": {
      "text/html": [
       "<div>\n",
       "<style scoped>\n",
       "    .dataframe tbody tr th:only-of-type {\n",
       "        vertical-align: middle;\n",
       "    }\n",
       "\n",
       "    .dataframe tbody tr th {\n",
       "        vertical-align: top;\n",
       "    }\n",
       "\n",
       "    .dataframe thead th {\n",
       "        text-align: right;\n",
       "    }\n",
       "</style>\n",
       "<table border=\"1\" class=\"dataframe\">\n",
       "  <thead>\n",
       "    <tr style=\"text-align: right;\">\n",
       "      <th></th>\n",
       "      <th>Model</th>\n",
       "      <th>Price</th>\n",
       "    </tr>\n",
       "  </thead>\n",
       "  <tbody>\n",
       "    <tr>\n",
       "      <th>0</th>\n",
       "      <td>ASUS ZenBook Duo 14 (2021), Intel Core i7-1165...</td>\n",
       "      <td>1,34,990</td>\n",
       "    </tr>\n",
       "    <tr>\n",
       "      <th>1</th>\n",
       "      <td>(Renewed) HP EliteBook 840 G3 Laptop (Core i7 ...</td>\n",
       "      <td>44,999</td>\n",
       "    </tr>\n",
       "    <tr>\n",
       "      <th>2</th>\n",
       "      <td>Mi Notebook Horizon Edition 14 Intel Core i5-1...</td>\n",
       "      <td>49,999</td>\n",
       "    </tr>\n",
       "    <tr>\n",
       "      <th>3</th>\n",
       "      <td>HP Pavilion Gaming 10th Gen Intel Core i7 Proc...</td>\n",
       "      <td>86,926</td>\n",
       "    </tr>\n",
       "    <tr>\n",
       "      <th>4</th>\n",
       "      <td>Lenovo IdeaPad Flex 5 11th Gen Intel Core i7 1...</td>\n",
       "      <td>83,990</td>\n",
       "    </tr>\n",
       "    <tr>\n",
       "      <th>5</th>\n",
       "      <td>Dell XPS 9570 15.6\" (39.62cms) UHD Laptop (8th...</td>\n",
       "      <td>2,48,790</td>\n",
       "    </tr>\n",
       "    <tr>\n",
       "      <th>6</th>\n",
       "      <td>ASUS ZenBook Pro Duo Intel Core i9-10980HK 10t...</td>\n",
       "      <td>2,99,325</td>\n",
       "    </tr>\n",
       "    <tr>\n",
       "      <th>7</th>\n",
       "      <td>Lenovo Legion 7 10th Gen Intel Core i9 15.6 in...</td>\n",
       "      <td>2,62,990</td>\n",
       "    </tr>\n",
       "    <tr>\n",
       "      <th>8</th>\n",
       "      <td>ASUS ROG Zephyrus Duo 15, 15.6\" FHD 300Hz/3ms,...</td>\n",
       "      <td>2,66,990</td>\n",
       "    </tr>\n",
       "    <tr>\n",
       "      <th>9</th>\n",
       "      <td>ASUS ROG Strix Scar 15 (2020), 15.6\" FHD 300Hz...</td>\n",
       "      <td>2,15,990</td>\n",
       "    </tr>\n",
       "  </tbody>\n",
       "</table>\n",
       "</div>"
      ],
      "text/plain": [
       "                                               Model     Price\n",
       "0  ASUS ZenBook Duo 14 (2021), Intel Core i7-1165...  1,34,990\n",
       "1  (Renewed) HP EliteBook 840 G3 Laptop (Core i7 ...    44,999\n",
       "2  Mi Notebook Horizon Edition 14 Intel Core i5-1...    49,999\n",
       "3  HP Pavilion Gaming 10th Gen Intel Core i7 Proc...    86,926\n",
       "4  Lenovo IdeaPad Flex 5 11th Gen Intel Core i7 1...    83,990\n",
       "5  Dell XPS 9570 15.6\" (39.62cms) UHD Laptop (8th...  2,48,790\n",
       "6  ASUS ZenBook Pro Duo Intel Core i9-10980HK 10t...  2,99,325\n",
       "7  Lenovo Legion 7 10th Gen Intel Core i9 15.6 in...  2,62,990\n",
       "8  ASUS ROG Zephyrus Duo 15, 15.6\" FHD 300Hz/3ms,...  2,66,990\n",
       "9  ASUS ROG Strix Scar 15 (2020), 15.6\" FHD 300Hz...  2,15,990"
      ]
     },
     "execution_count": 90,
     "metadata": {},
     "output_type": "execute_result"
    }
   ],
   "source": [
    "Laptops=pd.DataFrame({})\n",
    "Laptops['Model']=Model\n",
    "Laptops['Price']=Amount\n",
    "Laptops"
   ]
  },
  {
   "cell_type": "markdown",
   "id": "scenic-devon",
   "metadata": {},
   "source": [
    "xxxxxxxxxxxxxxxxxxxxxxxxxxx...............x.xxxxxxxxxxxxxxx............xxxxxxxxxxxxxxxxxx"
   ]
  },
  {
   "cell_type": "code",
   "execution_count": null,
   "id": "directed-camel",
   "metadata": {},
   "outputs": [],
   "source": []
  }
 ],
 "metadata": {
  "kernelspec": {
   "display_name": "Python 3",
   "language": "python",
   "name": "python3"
  },
  "language_info": {
   "codemirror_mode": {
    "name": "ipython",
    "version": 3
   },
   "file_extension": ".py",
   "mimetype": "text/x-python",
   "name": "python",
   "nbconvert_exporter": "python",
   "pygments_lexer": "ipython3",
   "version": "3.8.3"
  }
 },
 "nbformat": 4,
 "nbformat_minor": 5
}
